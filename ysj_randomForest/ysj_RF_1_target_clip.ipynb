{
 "cells": [
  {
   "cell_type": "markdown",
   "id": "3fcee841",
   "metadata": {},
   "source": [
    "# target만 clip한 데이터"
   ]
  },
  {
   "cell_type": "code",
   "execution_count": 1,
   "id": "8cd0eeec",
   "metadata": {},
   "outputs": [],
   "source": [
    "# 라이브러리 호출\n",
    "import numpy as np\n",
    "import pandas as pd\n",
    "import matplotlib.pyplot as plt\n",
    "import seaborn as sns\n",
    "import datetime\n",
    "import folium\n",
    "import time\n",
    "from itertools import product \n",
    "from sklearn.preprocessing import LabelEncoder\n",
    "from sklearn.ensemble import RandomForestRegressor\n",
    "from sklearn.metrics import mean_squared_error"
   ]
  },
  {
   "cell_type": "code",
   "execution_count": 2,
   "id": "b11af90b",
   "metadata": {},
   "outputs": [],
   "source": [
    "import os\n",
    "os.chdir('/Users/sujiyang/Desktop/aiservice/kaggle_future_sales')"
   ]
  },
  {
   "cell_type": "code",
   "execution_count": 3,
   "id": "83414fac",
   "metadata": {},
   "outputs": [
    {
     "name": "stdout",
     "output_type": "stream",
     "text": [
      "<class 'pandas.core.frame.DataFrame'>\n",
      "Int64Index: 8032887 entries, 827691 to 8860577\n",
      "Data columns (total 29 columns):\n",
      " #   Column                      Dtype  \n",
      "---  ------                      -----  \n",
      " 0   month_id                    int8   \n",
      " 1   shop_id                     int8   \n",
      " 2   item_id                     int16  \n",
      " 3   cnt_month                   float32\n",
      " 4   city_id                     int8   \n",
      " 5   cat_id                      int8   \n",
      " 6   main_cat                    int8   \n",
      " 7   sub_cat                     int8   \n",
      " 8   year                        int16  \n",
      " 9   month                       int8   \n",
      " 10  sales_month                 int8   \n",
      " 11  cnt_month_1                 float32\n",
      " 12  cnt_month_2                 float32\n",
      " 13  cnt_month_3                 float32\n",
      " 14  item_id_mean_cnt_1          float32\n",
      " 15  item_id_mean_cnt_2          float32\n",
      " 16  item_id_mean_cnt_3          float32\n",
      " 17  sub_cat_mean_cnt_1          float32\n",
      " 18  sub_cat_mean_cnt_2          float32\n",
      " 19  sub_cat_mean_cnt_3          float32\n",
      " 20  price_mean_mean_cnt_1       float32\n",
      " 21  price_mean_mean_cnt_2       float32\n",
      " 22  price_mean_mean_cnt_3       float32\n",
      " 23  item_id/city_id_mean_cnt_1  float32\n",
      " 24  item_id/city_id_mean_cnt_2  float32\n",
      " 25  item_id/city_id_mean_cnt_3  float32\n",
      " 26  shop_id/cat_id_mean_cnt_1   float32\n",
      " 27  shop_id/cat_id_mean_cnt_2   float32\n",
      " 28  shop_id/cat_id_mean_cnt_3   float32\n",
      "dtypes: float32(19), int16(2), int8(8)\n",
      "memory usage: 735.4 MB\n"
     ]
    }
   ],
   "source": [
    "data = pd.read_pickle('./data_1.pkl')\n",
    "data.info()"
   ]
  },
  {
   "cell_type": "code",
   "execution_count": 4,
   "id": "de4c47c0",
   "metadata": {},
   "outputs": [
    {
     "data": {
      "text/plain": [
       "month_id                           0\n",
       "shop_id                            0\n",
       "item_id                            0\n",
       "cnt_month                     214200\n",
       "city_id                            0\n",
       "cat_id                             0\n",
       "main_cat                           0\n",
       "sub_cat                            0\n",
       "year                               0\n",
       "month                              0\n",
       "sales_month                        0\n",
       "cnt_month_1                        0\n",
       "cnt_month_2                        0\n",
       "cnt_month_3                        0\n",
       "item_id_mean_cnt_1                 0\n",
       "item_id_mean_cnt_2                 0\n",
       "item_id_mean_cnt_3                 0\n",
       "sub_cat_mean_cnt_1                 0\n",
       "sub_cat_mean_cnt_2                 0\n",
       "sub_cat_mean_cnt_3                 0\n",
       "price_mean_mean_cnt_1              0\n",
       "price_mean_mean_cnt_2              0\n",
       "price_mean_mean_cnt_3              0\n",
       "item_id/city_id_mean_cnt_1         0\n",
       "item_id/city_id_mean_cnt_2         0\n",
       "item_id/city_id_mean_cnt_3         0\n",
       "shop_id/cat_id_mean_cnt_1          0\n",
       "shop_id/cat_id_mean_cnt_2          0\n",
       "shop_id/cat_id_mean_cnt_3          0\n",
       "dtype: int64"
      ]
     },
     "execution_count": 4,
     "metadata": {},
     "output_type": "execute_result"
    }
   ],
   "source": [
    "data.isnull().sum()"
   ]
  },
  {
   "cell_type": "code",
   "execution_count": 6,
   "id": "759e42db",
   "metadata": {},
   "outputs": [
    {
     "data": {
      "text/plain": [
       "Index(['month_id', 'shop_id', 'item_id', 'cnt_month', 'city_id', 'cat_id',\n",
       "       'main_cat', 'sub_cat', 'year', 'month', 'sales_month', 'cnt_month_1',\n",
       "       'cnt_month_2', 'cnt_month_3', 'item_id_mean_cnt_1',\n",
       "       'item_id_mean_cnt_2', 'item_id_mean_cnt_3', 'sub_cat_mean_cnt_1',\n",
       "       'sub_cat_mean_cnt_2', 'sub_cat_mean_cnt_3', 'price_mean_mean_cnt_1',\n",
       "       'price_mean_mean_cnt_2', 'price_mean_mean_cnt_3',\n",
       "       'item_id/city_id_mean_cnt_1', 'item_id/city_id_mean_cnt_2',\n",
       "       'item_id/city_id_mean_cnt_3', 'shop_id/cat_id_mean_cnt_1',\n",
       "       'shop_id/cat_id_mean_cnt_2', 'shop_id/cat_id_mean_cnt_3'],\n",
       "      dtype='object')"
      ]
     },
     "execution_count": 6,
     "metadata": {},
     "output_type": "execute_result"
    }
   ],
   "source": [
    "data.columns"
   ]
  },
  {
   "cell_type": "code",
   "execution_count": 5,
   "id": "12d4c999",
   "metadata": {},
   "outputs": [],
   "source": [
    "# 주어진 피쳐들의 조합으로 생성된 기준으로 평균 판매량 피쳐를 생성하고, cnt_month와의 상관계수를 보여주는 함수\n",
    "\n",
    "def all_corr(data,features,num_features): # 데이터프레임, 사용할피쳐, 조합을 만들 피쳐 갯수\n",
    "    # 결과값을 담을 리스트 생성\n",
    "    result = []\n",
    "    # 주어진 피쳐와 개수로 가능한 모든 조합 생성\n",
    "    combi = list(itertools.combinations(features,num_features))\n",
    "    \n",
    "    for i in range(len(combi)):\n",
    "        # 새로운 컬럼명 생성\n",
    "        feature_name = '/'.join(combi[i])+'_mean_cnt'\n",
    "        # 해당 조합의 가장 앞에 월 구분 id 추가  \n",
    "        temp = list(combi[i])\n",
    "        temp.insert(0,'month_id')\n",
    "        # 해당 기준으로 월간 평균 판매량 컬럼 생성  \n",
    "        df = mean_cnt_month(data,temp)\n",
    "        # 생성된 데이터프레임내에서 상관계수 계산\n",
    "        cor = df[[feature_name,'cnt_month']].corr().iloc[0,1]\n",
    "        # 상관계수만 결과 리스트에 저장\n",
    "        result.append([feature_name,cor])\n",
    "        \n",
    "    del combi, feature_name, temp, df, cor  \n",
    "    return result"
   ]
  },
  {
   "cell_type": "code",
   "execution_count": 8,
   "id": "9fb6a269",
   "metadata": {},
   "outputs": [
    {
     "ename": "NameError",
     "evalue": "name 'month_id' is not defined",
     "output_type": "error",
     "traceback": [
      "\u001b[0;31m---------------------------------------------------------------------------\u001b[0m",
      "\u001b[0;31mNameError\u001b[0m                                 Traceback (most recent call last)",
      "\u001b[0;32m/var/folders/y5/qth6745d5fb9mtjn22xf39h80000gp/T/ipykernel_43250/117758286.py\u001b[0m in \u001b[0;36m<module>\u001b[0;34m\u001b[0m\n\u001b[0;32m----> 1\u001b[0;31m all_corr(data, month_id, shop_id, item_id, cnt_month, city_id, cat_id,\n\u001b[0m\u001b[1;32m      2\u001b[0m        main_cat, sub_cat, year, month, sales_month, cnt_month,2)\n",
      "\u001b[0;31mNameError\u001b[0m: name 'month_id' is not defined"
     ]
    }
   ],
   "source": [
    "all_corr(data, month_id, shop_id, item_id, cnt_month, city_id, cat_id,\n",
    "       main_cat, sub_cat, year, month, sales_month, cnt_month,2)"
   ]
  },
  {
   "cell_type": "code",
   "execution_count": 5,
   "id": "624582b4",
   "metadata": {},
   "outputs": [],
   "source": [
    "# train/validation/test data split\n",
    "X_train = data[data['month_id'] < 33].drop(['cnt_month'], axis=1)\n",
    "y_train = data[data['month_id'] < 33]['cnt_month'].clip(0,20)\n",
    "\n",
    "X_valid = data[data['month_id'] == 33].drop(['cnt_month'], axis=1)\n",
    "y_valid = data[data['month_id'] == 33]['cnt_month'].clip(0,20)\n",
    "\n",
    "X_test = data[data['month_id'] == 34].drop(['cnt_month'], axis=1)"
   ]
  },
  {
   "cell_type": "code",
   "execution_count": 6,
   "id": "f0ac293b",
   "metadata": {},
   "outputs": [
    {
     "name": "stdout",
     "output_type": "stream",
     "text": [
      "소요시간(s) : 2512.6516060829163\n"
     ]
    }
   ],
   "source": [
    "rf_features = [c for c in data.columns if c not in 'cnt_month']\n",
    "\n",
    "# 데이터 셋 지정\n",
    "rf_train = X_train[rf_features]\n",
    "rf_valid = X_valid[rf_features]\n",
    "rf_test = X_test[rf_features]\n",
    " \n",
    "# 모델 훈련\n",
    "start = time.time()\n",
    "rf_model = RandomForestRegressor(n_estimators=50, max_depth=9,random_state=42, n_jobs=-1)\n",
    "rf_model.fit(rf_train, y_train)\n",
    "end = time.time()\n",
    "print(f'소요시간(s) : {end-start}')"
   ]
  },
  {
   "cell_type": "code",
   "execution_count": 7,
   "id": "111db6c5",
   "metadata": {
    "scrolled": true
   },
   "outputs": [],
   "source": [
    "# 예측 수행\n",
    "rf_train_pred = rf_model.predict(rf_train).clip(0,20)\n",
    "rf_valid_pred = rf_model.predict(rf_valid).clip(0,20)\n",
    "rf_test_pred = rf_model.predict(rf_test).clip(0, 20) # 실제 타겟값이 클립되어있으므로 동일하게 클립"
   ]
  },
  {
   "cell_type": "code",
   "execution_count": 8,
   "id": "e3e51915",
   "metadata": {},
   "outputs": [],
   "source": [
    "# 제출 파일 생성\n",
    "df_test = pd.read_csv('./test.csv')\n",
    "submission = pd.DataFrame({\"ID\": df_test.index, \"item_cnt_month\": rf_test_pred})\n",
    "submission.to_csv('RF_submission_2.csv', index=False)"
   ]
  },
  {
   "cell_type": "code",
   "execution_count": 9,
   "id": "cfaf2a2a",
   "metadata": {},
   "outputs": [
    {
     "name": "stdout",
     "output_type": "stream",
     "text": [
      "Variable: cnt_month_1          Importance: 0.72\n",
      "Variable: cat_id               Importance: 0.05\n",
      "Variable: item_id_mean_cnt_1   Importance: 0.05\n",
      "Variable: shop_id/cat_id_mean_cnt_1 Importance: 0.04\n",
      "Variable: sales_month          Importance: 0.03\n",
      "Variable: cnt_month_2          Importance: 0.03\n",
      "Variable: sub_cat              Importance: 0.02\n",
      "Variable: month_id             Importance: 0.01\n",
      "Variable: shop_id              Importance: 0.01\n",
      "Variable: item_id              Importance: 0.01\n",
      "Variable: cnt_month_3          Importance: 0.01\n",
      "Variable: sub_cat_mean_cnt_1   Importance: 0.01\n",
      "Variable: item_id/city_id_mean_cnt_1 Importance: 0.01\n",
      "Variable: shop_id/cat_id_mean_cnt_2 Importance: 0.01\n",
      "Variable: city_id              Importance: 0.0\n",
      "Variable: main_cat             Importance: 0.0\n",
      "Variable: year                 Importance: 0.0\n",
      "Variable: item_id_mean_cnt_2   Importance: 0.0\n",
      "Variable: item_id_mean_cnt_3   Importance: 0.0\n",
      "Variable: sub_cat_mean_cnt_2   Importance: 0.0\n",
      "Variable: sub_cat_mean_cnt_3   Importance: 0.0\n",
      "Variable: price_mean_mean_cnt_1 Importance: 0.0\n",
      "Variable: price_mean_mean_cnt_2 Importance: 0.0\n",
      "Variable: price_mean_mean_cnt_3 Importance: 0.0\n",
      "Variable: item_id/city_id_mean_cnt_2 Importance: 0.0\n",
      "Variable: item_id/city_id_mean_cnt_3 Importance: 0.0\n",
      "Variable: shop_id/cat_id_mean_cnt_3 Importance: 0.0\n"
     ]
    }
   ],
   "source": [
    "# 피쳐 중요도를 가지는 리스트\n",
    "importances = list(rf_model.feature_importances_)\n",
    "\n",
    "# (변수, 중요도) 튜플로 구성된 리스트\n",
    "feature_importances = [(feature, round(importance, 2)) for feature, importance in zip(rf_features, importances)]\n",
    "\n",
    "# 가장 높은 중요도를 가지는 피쳐를 기준으로 내림차순 정렬\n",
    "feature_importances = sorted(feature_importances, key = lambda x: x[1], reverse = True)\n",
    "\n",
    "# 변수와 중요도 출력\n",
    "[print('Variable: {:20} Importance: {}'.format(*pair)) for pair in feature_importances];"
   ]
  },
  {
   "cell_type": "code",
   "execution_count": 10,
   "id": "f0474d31",
   "metadata": {},
   "outputs": [
    {
     "name": "stdout",
     "output_type": "stream",
     "text": [
      "Train rmse:  0.8867410979863037\n",
      "Validation rmse:  0.8299003117495053\n"
     ]
    }
   ],
   "source": [
    "print('Train rmse: ',np.sqrt(mean_squared_error(y_train.clip(0,20), rf_train_pred)))\n",
    "print('Validation rmse: ',np.sqrt(mean_squared_error(y_valid.clip(0,20), rf_valid_pred)))"
   ]
  },
  {
   "cell_type": "code",
   "execution_count": 11,
   "id": "4d2b73a4",
   "metadata": {},
   "outputs": [
    {
     "name": "stdout",
     "output_type": "stream",
     "text": [
      "Test rmse:  0.95062\n"
     ]
    }
   ],
   "source": [
    "print('Test rmse: ',0.95062)"
   ]
  },
  {
   "cell_type": "code",
   "execution_count": null,
   "id": "dc98eedc",
   "metadata": {},
   "outputs": [],
   "source": []
  }
 ],
 "metadata": {
  "kernelspec": {
   "display_name": "Python 3 (ipykernel)",
   "language": "python",
   "name": "python3"
  },
  "language_info": {
   "codemirror_mode": {
    "name": "ipython",
    "version": 3
   },
   "file_extension": ".py",
   "mimetype": "text/x-python",
   "name": "python",
   "nbconvert_exporter": "python",
   "pygments_lexer": "ipython3",
   "version": "3.7.7"
  }
 },
 "nbformat": 4,
 "nbformat_minor": 5
}
