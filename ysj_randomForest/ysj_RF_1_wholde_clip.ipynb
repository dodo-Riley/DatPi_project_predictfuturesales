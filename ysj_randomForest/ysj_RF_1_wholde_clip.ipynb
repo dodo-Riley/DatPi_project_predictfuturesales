{
 "cells": [
  {
   "cell_type": "markdown",
   "metadata": {
    "executionInfo": {
     "elapsed": 269,
     "status": "ok",
     "timestamp": 1645603376290,
     "user": {
      "displayName": "송종호",
      "photoUrl": "https://lh3.googleusercontent.com/a-/AOh14Ggw9AtKSIFJsDxvVfGveri4440iMF0PN91N6_8RwA=s64",
      "userId": "03405166047213017267"
     },
     "user_tz": -540
    },
    "id": "x1FOqlxEkLq_"
   },
   "source": [
    "## 1. 학습데이터의 월 판매량 및 모든 시차 피쳐, 예측 결과 (0,20) 범위로 clip"
   ]
  },
  {
   "cell_type": "markdown",
   "metadata": {},
   "source": [
    "## 2. hyper parameter 지정\n",
    "- n_estimators=50 # 랜덤 포레스트 속 결정 나무 개수\n",
    "- criterion='squared_error' # 평가지표(default:mse)\n",
    "- max_depth=9 # 결정 나무 최대 깊이 (default:None)\n",
    "- min_samples_split=2 # 노드를 분할하기 위한 최소한의 샘플 수 (default:2)\n",
    "- min_samples_leaf=1 # 리프 노드가 되기 위한 최소한의 샘플 수 (default:1)\n",
    "- min_weight_fraction_leaf=0.0\n",
    "- max_features='auto' # 무작위 선택 최대 feature 개수 (default:auto)\n",
    "- max_leaf_nodes=None # 리프 노드의 최대 개수 (default:None)\n",
    "- min_impurity_decrease=0.0\n",
    "- bootstrap=True # 전체 feature 복원 추출\n",
    "- oob_score=False\n",
    "- n_jobs=-1 # 머신이 사용할 코어의 수..모든 코어 사용 (default:None)\n",
    "- random_state=42 # 랜덤 시드값 고정\n",
    "- verbose=0\n",
    "- warm_start=False\n",
    "- ccp_alpha=0.0\n",
    "- max_samples=None"
   ]
  },
  {
   "cell_type": "markdown",
   "metadata": {},
   "source": [
    "## 3. 사용 데이터\n",
    "- data_1: 가장 기본 전처리"
   ]
  },
  {
   "cell_type": "markdown",
   "metadata": {},
   "source": [
    "## 4. 제출 여부: Y\n",
    "- score: 0.95336"
   ]
  },
  {
   "cell_type": "code",
   "execution_count": null,
   "metadata": {},
   "outputs": [],
   "source": [
    "# 라이브러리 호출\n",
    "import numpy as np\n",
    "import pandas as pd\n",
    "import matplotlib.pyplot as plt\n",
    "import seaborn as sns\n",
    "import datetime\n",
    "import folium\n",
    "import time\n",
    "from itertools import product \n",
    "from sklearn.preprocessing import LabelEncoder\n",
    "from sklearn.ensemble import RandomForestRegressor\n",
    "from sklearn.metrics import mean_squared_error"
   ]
  },
  {
   "cell_type": "code",
   "execution_count": 3,
   "metadata": {},
   "outputs": [],
   "source": [
    "import os\n",
    "os.chdir('/Users/sujiyang/Desktop/aiservice/kaggle_future_sales')"
   ]
  },
  {
   "cell_type": "code",
   "execution_count": 4,
   "metadata": {
    "colab": {
     "base_uri": "https://localhost:8080/",
     "height": 270
    },
    "executionInfo": {
     "elapsed": 5909,
     "status": "ok",
     "timestamp": 1645603027122,
     "user": {
      "displayName": "송종호",
      "photoUrl": "https://lh3.googleusercontent.com/a-/AOh14Ggw9AtKSIFJsDxvVfGveri4440iMF0PN91N6_8RwA=s64",
      "userId": "03405166047213017267"
     },
     "user_tz": -540
    },
    "id": "rW7LkqHqkQdd",
    "outputId": "6e3919c2-87a7-45ad-9353-989d99260dd3"
   },
   "outputs": [
    {
     "data": {
      "text/html": [
       "<div>\n",
       "<style scoped>\n",
       "    .dataframe tbody tr th:only-of-type {\n",
       "        vertical-align: middle;\n",
       "    }\n",
       "\n",
       "    .dataframe tbody tr th {\n",
       "        vertical-align: top;\n",
       "    }\n",
       "\n",
       "    .dataframe thead th {\n",
       "        text-align: right;\n",
       "    }\n",
       "</style>\n",
       "<table border=\"1\" class=\"dataframe\">\n",
       "  <thead>\n",
       "    <tr style=\"text-align: right;\">\n",
       "      <th></th>\n",
       "      <th>month_id</th>\n",
       "      <th>shop_id</th>\n",
       "      <th>item_id</th>\n",
       "      <th>cnt_month</th>\n",
       "      <th>city_id</th>\n",
       "      <th>cat_id</th>\n",
       "      <th>main_cat</th>\n",
       "      <th>sub_cat</th>\n",
       "      <th>year</th>\n",
       "      <th>month</th>\n",
       "      <th>...</th>\n",
       "      <th>sub_cat_mean_cnt_3</th>\n",
       "      <th>price_mean_mean_cnt_1</th>\n",
       "      <th>price_mean_mean_cnt_2</th>\n",
       "      <th>price_mean_mean_cnt_3</th>\n",
       "      <th>item_id/city_id_mean_cnt_1</th>\n",
       "      <th>item_id/city_id_mean_cnt_2</th>\n",
       "      <th>item_id/city_id_mean_cnt_3</th>\n",
       "      <th>shop_id/cat_id_mean_cnt_1</th>\n",
       "      <th>shop_id/cat_id_mean_cnt_2</th>\n",
       "      <th>shop_id/cat_id_mean_cnt_3</th>\n",
       "    </tr>\n",
       "  </thead>\n",
       "  <tbody>\n",
       "    <tr>\n",
       "      <th>827691</th>\n",
       "      <td>3</td>\n",
       "      <td>25</td>\n",
       "      <td>8092</td>\n",
       "      <td>3.0</td>\n",
       "      <td>13</td>\n",
       "      <td>40</td>\n",
       "      <td>11</td>\n",
       "      <td>6</td>\n",
       "      <td>2013</td>\n",
       "      <td>4</td>\n",
       "      <td>...</td>\n",
       "      <td>0.0</td>\n",
       "      <td>1.400024</td>\n",
       "      <td>1.365631</td>\n",
       "      <td>0.0</td>\n",
       "      <td>1.000000</td>\n",
       "      <td>2.142857</td>\n",
       "      <td>0.0</td>\n",
       "      <td>1.087262</td>\n",
       "      <td>1.048394</td>\n",
       "      <td>0.0</td>\n",
       "    </tr>\n",
       "    <tr>\n",
       "      <th>827692</th>\n",
       "      <td>3</td>\n",
       "      <td>25</td>\n",
       "      <td>7850</td>\n",
       "      <td>3.0</td>\n",
       "      <td>13</td>\n",
       "      <td>30</td>\n",
       "      <td>8</td>\n",
       "      <td>54</td>\n",
       "      <td>2013</td>\n",
       "      <td>4</td>\n",
       "      <td>...</td>\n",
       "      <td>0.0</td>\n",
       "      <td>1.479122</td>\n",
       "      <td>1.464680</td>\n",
       "      <td>0.0</td>\n",
       "      <td>3.714286</td>\n",
       "      <td>2.285714</td>\n",
       "      <td>0.0</td>\n",
       "      <td>3.651685</td>\n",
       "      <td>2.276650</td>\n",
       "      <td>0.0</td>\n",
       "    </tr>\n",
       "    <tr>\n",
       "      <th>827693</th>\n",
       "      <td>3</td>\n",
       "      <td>25</td>\n",
       "      <td>8051</td>\n",
       "      <td>3.0</td>\n",
       "      <td>13</td>\n",
       "      <td>66</td>\n",
       "      <td>14</td>\n",
       "      <td>47</td>\n",
       "      <td>2013</td>\n",
       "      <td>4</td>\n",
       "      <td>...</td>\n",
       "      <td>0.0</td>\n",
       "      <td>0.000000</td>\n",
       "      <td>0.000000</td>\n",
       "      <td>0.0</td>\n",
       "      <td>0.000000</td>\n",
       "      <td>0.428571</td>\n",
       "      <td>0.0</td>\n",
       "      <td>1.827586</td>\n",
       "      <td>1.389474</td>\n",
       "      <td>0.0</td>\n",
       "    </tr>\n",
       "    <tr>\n",
       "      <th>827694</th>\n",
       "      <td>3</td>\n",
       "      <td>25</td>\n",
       "      <td>8088</td>\n",
       "      <td>1.0</td>\n",
       "      <td>13</td>\n",
       "      <td>55</td>\n",
       "      <td>13</td>\n",
       "      <td>4</td>\n",
       "      <td>2013</td>\n",
       "      <td>4</td>\n",
       "      <td>...</td>\n",
       "      <td>0.0</td>\n",
       "      <td>1.479122</td>\n",
       "      <td>0.000000</td>\n",
       "      <td>0.0</td>\n",
       "      <td>0.285714</td>\n",
       "      <td>0.000000</td>\n",
       "      <td>0.0</td>\n",
       "      <td>0.598291</td>\n",
       "      <td>0.562107</td>\n",
       "      <td>0.0</td>\n",
       "    </tr>\n",
       "    <tr>\n",
       "      <th>827695</th>\n",
       "      <td>3</td>\n",
       "      <td>25</td>\n",
       "      <td>8089</td>\n",
       "      <td>1.0</td>\n",
       "      <td>13</td>\n",
       "      <td>55</td>\n",
       "      <td>13</td>\n",
       "      <td>4</td>\n",
       "      <td>2013</td>\n",
       "      <td>4</td>\n",
       "      <td>...</td>\n",
       "      <td>0.0</td>\n",
       "      <td>0.000000</td>\n",
       "      <td>0.000000</td>\n",
       "      <td>0.0</td>\n",
       "      <td>0.571429</td>\n",
       "      <td>0.000000</td>\n",
       "      <td>0.0</td>\n",
       "      <td>0.598291</td>\n",
       "      <td>0.562107</td>\n",
       "      <td>0.0</td>\n",
       "    </tr>\n",
       "  </tbody>\n",
       "</table>\n",
       "<p>5 rows × 29 columns</p>\n",
       "</div>"
      ],
      "text/plain": [
       "        month_id  shop_id  item_id  cnt_month  city_id  cat_id  main_cat  \\\n",
       "827691         3       25     8092        3.0       13      40        11   \n",
       "827692         3       25     7850        3.0       13      30         8   \n",
       "827693         3       25     8051        3.0       13      66        14   \n",
       "827694         3       25     8088        1.0       13      55        13   \n",
       "827695         3       25     8089        1.0       13      55        13   \n",
       "\n",
       "        sub_cat  year  month  ...  sub_cat_mean_cnt_3  price_mean_mean_cnt_1  \\\n",
       "827691        6  2013      4  ...                 0.0               1.400024   \n",
       "827692       54  2013      4  ...                 0.0               1.479122   \n",
       "827693       47  2013      4  ...                 0.0               0.000000   \n",
       "827694        4  2013      4  ...                 0.0               1.479122   \n",
       "827695        4  2013      4  ...                 0.0               0.000000   \n",
       "\n",
       "        price_mean_mean_cnt_2  price_mean_mean_cnt_3  \\\n",
       "827691               1.365631                    0.0   \n",
       "827692               1.464680                    0.0   \n",
       "827693               0.000000                    0.0   \n",
       "827694               0.000000                    0.0   \n",
       "827695               0.000000                    0.0   \n",
       "\n",
       "        item_id/city_id_mean_cnt_1  item_id/city_id_mean_cnt_2  \\\n",
       "827691                    1.000000                    2.142857   \n",
       "827692                    3.714286                    2.285714   \n",
       "827693                    0.000000                    0.428571   \n",
       "827694                    0.285714                    0.000000   \n",
       "827695                    0.571429                    0.000000   \n",
       "\n",
       "        item_id/city_id_mean_cnt_3  shop_id/cat_id_mean_cnt_1  \\\n",
       "827691                         0.0                   1.087262   \n",
       "827692                         0.0                   3.651685   \n",
       "827693                         0.0                   1.827586   \n",
       "827694                         0.0                   0.598291   \n",
       "827695                         0.0                   0.598291   \n",
       "\n",
       "        shop_id/cat_id_mean_cnt_2  shop_id/cat_id_mean_cnt_3  \n",
       "827691                   1.048394                        0.0  \n",
       "827692                   2.276650                        0.0  \n",
       "827693                   1.389474                        0.0  \n",
       "827694                   0.562107                        0.0  \n",
       "827695                   0.562107                        0.0  \n",
       "\n",
       "[5 rows x 29 columns]"
      ]
     },
     "execution_count": 4,
     "metadata": {},
     "output_type": "execute_result"
    }
   ],
   "source": [
    "# 데이터 불러오기\n",
    "data = pd.read_pickle('/Users/sujiyang/Desktop/aiservice/kaggle_future_sales/data_1.pkl')\n",
    "data.head()"
   ]
  },
  {
   "cell_type": "code",
   "execution_count": 18,
   "metadata": {},
   "outputs": [
    {
     "name": "stdout",
     "output_type": "stream",
     "text": [
      "<class 'pandas.core.frame.DataFrame'>\n",
      "Int64Index: 8032887 entries, 827691 to 8860577\n",
      "Data columns (total 29 columns):\n",
      " #   Column                      Dtype  \n",
      "---  ------                      -----  \n",
      " 0   month_id                    int8   \n",
      " 1   shop_id                     int8   \n",
      " 2   item_id                     int16  \n",
      " 3   cnt_month                   float32\n",
      " 4   city_id                     int8   \n",
      " 5   cat_id                      int8   \n",
      " 6   main_cat                    int8   \n",
      " 7   sub_cat                     int8   \n",
      " 8   year                        int16  \n",
      " 9   month                       int8   \n",
      " 10  sales_month                 int8   \n",
      " 11  cnt_month_1                 float32\n",
      " 12  cnt_month_2                 float32\n",
      " 13  cnt_month_3                 float32\n",
      " 14  item_id_mean_cnt_1          float32\n",
      " 15  item_id_mean_cnt_2          float32\n",
      " 16  item_id_mean_cnt_3          float32\n",
      " 17  sub_cat_mean_cnt_1          float32\n",
      " 18  sub_cat_mean_cnt_2          float32\n",
      " 19  sub_cat_mean_cnt_3          float32\n",
      " 20  price_mean_mean_cnt_1       float32\n",
      " 21  price_mean_mean_cnt_2       float32\n",
      " 22  price_mean_mean_cnt_3       float32\n",
      " 23  item_id/city_id_mean_cnt_1  float32\n",
      " 24  item_id/city_id_mean_cnt_2  float32\n",
      " 25  item_id/city_id_mean_cnt_3  float32\n",
      " 26  shop_id/cat_id_mean_cnt_1   float32\n",
      " 27  shop_id/cat_id_mean_cnt_2   float32\n",
      " 28  shop_id/cat_id_mean_cnt_3   float32\n",
      "dtypes: float32(19), int16(2), int8(8)\n",
      "memory usage: 735.4 MB\n"
     ]
    }
   ],
   "source": [
    "data.info()"
   ]
  },
  {
   "cell_type": "code",
   "execution_count": 5,
   "metadata": {
    "executionInfo": {
     "elapsed": 4381,
     "status": "ok",
     "timestamp": 1645603297115,
     "user": {
      "displayName": "송종호",
      "photoUrl": "https://lh3.googleusercontent.com/a-/AOh14Ggw9AtKSIFJsDxvVfGveri4440iMF0PN91N6_8RwA=s64",
      "userId": "03405166047213017267"
     },
     "user_tz": -540
    },
    "id": "5xdVjez8lmYC"
   },
   "outputs": [],
   "source": [
    "# whole data clip(0~20)\n",
    "data[['cnt_month', 'cnt_month_1','cnt_month_2', 'cnt_month_3', 'item_id_mean_cnt_1','item_id_mean_cnt_2', 'item_id_mean_cnt_3', \n",
    "        'sub_cat_mean_cnt_1','sub_cat_mean_cnt_2', 'sub_cat_mean_cnt_3', 'price_mean_mean_cnt_1',\n",
    "       'price_mean_mean_cnt_2', 'price_mean_mean_cnt_3','item_id/city_id_mean_cnt_1', 'item_id/city_id_mean_cnt_2',\n",
    "       'item_id/city_id_mean_cnt_3', 'shop_id/cat_id_mean_cnt_1','shop_id/cat_id_mean_cnt_2', 'shop_id/cat_id_mean_cnt_3']] = data[['cnt_month', 'cnt_month_1','cnt_month_2', 'cnt_month_3', 'item_id_mean_cnt_1','item_id_mean_cnt_2', 'item_id_mean_cnt_3', \n",
    "        'sub_cat_mean_cnt_1','sub_cat_mean_cnt_2', 'sub_cat_mean_cnt_3', 'price_mean_mean_cnt_1',\n",
    "       'price_mean_mean_cnt_2', 'price_mean_mean_cnt_3','item_id/city_id_mean_cnt_1', 'item_id/city_id_mean_cnt_2',\n",
    "       'item_id/city_id_mean_cnt_3', 'shop_id/cat_id_mean_cnt_1','shop_id/cat_id_mean_cnt_2', 'shop_id/cat_id_mean_cnt_3']].clip(0, 20)"
   ]
  },
  {
   "cell_type": "code",
   "execution_count": 6,
   "metadata": {
    "executionInfo": {
     "elapsed": 1262,
     "status": "ok",
     "timestamp": 1645603300872,
     "user": {
      "displayName": "송종호",
      "photoUrl": "https://lh3.googleusercontent.com/a-/AOh14Ggw9AtKSIFJsDxvVfGveri4440iMF0PN91N6_8RwA=s64",
      "userId": "03405166047213017267"
     },
     "user_tz": -540
    },
    "id": "ucZ_VX5Kly_N"
   },
   "outputs": [],
   "source": [
    "# train/validation/test data split\n",
    "X_train = data[data['month_id'] < 33].drop(['cnt_month'], axis=1)\n",
    "y_train = data[data['month_id'] < 33]['cnt_month']\n",
    "\n",
    "X_valid = data[data['month_id'] == 33].drop(['cnt_month'], axis=1)\n",
    "y_valid = data[data['month_id'] == 33]['cnt_month']\n",
    "\n",
    "X_test = data[data['month_id'] == 34].drop(['cnt_month'], axis=1)"
   ]
  },
  {
   "cell_type": "code",
   "execution_count": 7,
   "metadata": {
    "id": "Hrfc6fkembNy"
   },
   "outputs": [
    {
     "name": "stdout",
     "output_type": "stream",
     "text": [
      "소요시간(s) : 2537.5692749023438\n"
     ]
    }
   ],
   "source": [
    "rf_features = [c for c in data.columns if c not in 'cnt_month']\n",
    "\n",
    "# 데이터 셋 지정\n",
    "rf_train = X_train[rf_features]\n",
    "rf_valid = X_valid[rf_features]\n",
    "rf_test = X_test[rf_features]\n",
    " \n",
    "# 모델 훈련\n",
    "start = time.time()\n",
    "rf_model = RandomForestRegressor(n_estimators=50, max_depth=9,random_state=42, n_jobs=-1)\n",
    "rf_model.fit(rf_train, y_train)\n",
    "end = time.time()\n",
    "print(f'소요시간(s) : {end-start}')"
   ]
  },
  {
   "cell_type": "code",
   "execution_count": 8,
   "metadata": {},
   "outputs": [],
   "source": [
    "# 예측 수행\n",
    "rf_train_pred = rf_model.predict(rf_train).clip(0,20)\n",
    "rf_valid_pred = rf_model.predict(rf_valid).clip(0,20)\n",
    "rf_test_pred = rf_model.predict(rf_test).clip(0, 20) # 실제 타겟값이 클립되어있으므로 동일하게 클립"
   ]
  },
  {
   "cell_type": "code",
   "execution_count": 9,
   "metadata": {
    "id": "WJJX9GSMnL0b"
   },
   "outputs": [],
   "source": [
    "# 제출 파일 생성\n",
    "df_test = pd.read_csv('./test.csv')\n",
    "submission = pd.DataFrame({\"ID\": df_test.index, \"item_cnt_month\": rf_test_pred})\n",
    "submission.to_csv('RF_submission_1.csv', index=False)"
   ]
  },
  {
   "cell_type": "code",
   "execution_count": 15,
   "metadata": {
    "id": "NqD0vHEroZAI"
   },
   "outputs": [
    {
     "name": "stdout",
     "output_type": "stream",
     "text": [
      "Variable: cnt_month_1          Importance: 0.71\n",
      "Variable: cat_id               Importance: 0.05\n",
      "Variable: item_id_mean_cnt_1   Importance: 0.05\n",
      "Variable: shop_id/cat_id_mean_cnt_1 Importance: 0.05\n",
      "Variable: sales_month          Importance: 0.03\n",
      "Variable: cnt_month_2          Importance: 0.03\n",
      "Variable: sub_cat              Importance: 0.02\n",
      "Variable: month_id             Importance: 0.01\n",
      "Variable: shop_id              Importance: 0.01\n",
      "Variable: item_id              Importance: 0.01\n",
      "Variable: cnt_month_3          Importance: 0.01\n",
      "Variable: sub_cat_mean_cnt_1   Importance: 0.01\n",
      "Variable: item_id/city_id_mean_cnt_1 Importance: 0.01\n",
      "Variable: shop_id/cat_id_mean_cnt_2 Importance: 0.01\n",
      "Variable: city_id              Importance: 0.0\n",
      "Variable: main_cat             Importance: 0.0\n",
      "Variable: year                 Importance: 0.0\n",
      "Variable: item_id_mean_cnt_2   Importance: 0.0\n",
      "Variable: item_id_mean_cnt_3   Importance: 0.0\n",
      "Variable: sub_cat_mean_cnt_2   Importance: 0.0\n",
      "Variable: sub_cat_mean_cnt_3   Importance: 0.0\n",
      "Variable: price_mean_mean_cnt_1 Importance: 0.0\n",
      "Variable: price_mean_mean_cnt_2 Importance: 0.0\n",
      "Variable: price_mean_mean_cnt_3 Importance: 0.0\n",
      "Variable: item_id/city_id_mean_cnt_2 Importance: 0.0\n",
      "Variable: item_id/city_id_mean_cnt_3 Importance: 0.0\n",
      "Variable: shop_id/cat_id_mean_cnt_3 Importance: 0.0\n"
     ]
    }
   ],
   "source": [
    "# 피쳐 중요도를 가지는 리스트\n",
    "importances = list(rf_model.feature_importances_)\n",
    "\n",
    "# (변수, 중요도) 튜플로 구성된 리스트\n",
    "feature_importances = [(feature, round(importance, 2)) for feature, importance in zip(rf_features, importances)]\n",
    "\n",
    "# 가장 높은 중요도를 가지는 피쳐를 기준으로 내림차순 정렬\n",
    "feature_importances = sorted(feature_importances, key = lambda x: x[1], reverse = True)\n",
    "\n",
    "# 변수와 중요도 출력\n",
    "[print('Variable: {:20} Importance: {}'.format(*pair)) for pair in feature_importances];"
   ]
  },
  {
   "cell_type": "code",
   "execution_count": 16,
   "metadata": {},
   "outputs": [
    {
     "name": "stdout",
     "output_type": "stream",
     "text": [
      "Train rmse:  0.8885487032535132\n",
      "Validation rmse:  0.8321029438914344\n"
     ]
    }
   ],
   "source": [
    "print('Train rmse: ',np.sqrt(mean_squared_error(y_train.clip(0,20), rf_train_pred)))\n",
    "print('Validation rmse: ',np.sqrt(mean_squared_error(y_valid.clip(0,20), rf_valid_pred)))"
   ]
  },
  {
   "cell_type": "code",
   "execution_count": 17,
   "metadata": {},
   "outputs": [
    {
     "name": "stdout",
     "output_type": "stream",
     "text": [
      "Test rmse:  0.95336\n"
     ]
    }
   ],
   "source": [
    "print('Test rmse: ',0.95336)"
   ]
  },
  {
   "cell_type": "code",
   "execution_count": null,
   "metadata": {},
   "outputs": [],
   "source": []
  }
 ],
 "metadata": {
  "accelerator": "GPU",
  "colab": {
   "authorship_tag": "ABX9TyOOiIXvLn0/KzeRH1LmQc0g",
   "collapsed_sections": [],
   "name": "sjh_lgbm_1.ipynb",
   "provenance": []
  },
  "kernelspec": {
   "display_name": "Python 3 (ipykernel)",
   "language": "python",
   "name": "python3"
  },
  "language_info": {
   "codemirror_mode": {
    "name": "ipython",
    "version": 3
   },
   "file_extension": ".py",
   "mimetype": "text/x-python",
   "name": "python",
   "nbconvert_exporter": "python",
   "pygments_lexer": "ipython3",
   "version": "3.7.7"
  }
 },
 "nbformat": 4,
 "nbformat_minor": 1
}
