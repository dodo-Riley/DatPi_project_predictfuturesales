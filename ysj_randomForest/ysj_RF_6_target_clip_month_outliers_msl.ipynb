{
 "cells": [
  {
   "cell_type": "markdown",
   "id": "3484fd01",
   "metadata": {},
   "source": [
    "## 1. 학습데이터의 월 판매량(target data), 예측 결과 (0,20) 범위로 clip"
   ]
  },
  {
   "cell_type": "markdown",
   "id": "c42aebb7",
   "metadata": {},
   "source": [
    "## 2. hyper parameter 지정\n",
    "- n_estimators=50 # 랜덤 포레스트 속 결정 나무 개수\n",
    "- criterion='squared_error' # 평가지표(default:mse)\n",
    "- max_depth=9 # 결정 나무 최대 깊이 (default:None)\n",
    "- min_samples_split=2 # 노드를 분할하기 위한 최소한의 샘플 수 (default:2)\n",
    "- min_samples_leaf=**5** # 리프 노드가 되기 위한 최소한의 샘플 수 (default:1)\n",
    "- min_weight_fraction_leaf=0.0\n",
    "- max_features='auto' # 무작위 선택 최대 feature 개수 (default:auto)\n",
    "- max_leaf_nodes=None # 리프 노드의 최대 개수 (default:None)\n",
    "- min_impurity_decrease=0.0\n",
    "- bootstrap=True # 전체 feature 복원 추출\n",
    "- oob_score=False\n",
    "- n_jobs=-1 # 머신이 사용할 코어의 수..모든 코어 사용 (default:None)\n",
    "- random_state=42 # 랜덤 시드값 고정\n",
    "- verbose=0\n",
    "- warm_start=False\n",
    "- ccp_alpha=0.0\n",
    "- max_samples=None"
   ]
  },
  {
   "cell_type": "markdown",
   "id": "ae1a6a54",
   "metadata": {},
   "source": [
    "## 3. 사용 데이터\n",
    "- data_4: 월 평균 판매량 피쳐 수정 및 이상치 제거"
   ]
  },
  {
   "cell_type": "markdown",
   "id": "2f4298fb",
   "metadata": {},
   "source": [
    "## 4. 제출 여부: Y\n",
    "- score: 0.94800"
   ]
  },
  {
   "cell_type": "code",
   "execution_count": 1,
   "id": "8cd0eeec",
   "metadata": {},
   "outputs": [],
   "source": [
    "# 라이브러리 호출\n",
    "import numpy as np\n",
    "import pandas as pd\n",
    "import matplotlib.pyplot as plt\n",
    "import seaborn as sns\n",
    "import datetime\n",
    "import folium\n",
    "import time\n",
    "from itertools import product \n",
    "from sklearn.preprocessing import LabelEncoder\n",
    "from sklearn.ensemble import RandomForestRegressor\n",
    "from sklearn.metrics import mean_squared_error"
   ]
  },
  {
   "cell_type": "code",
   "execution_count": 2,
   "id": "b11af90b",
   "metadata": {},
   "outputs": [],
   "source": [
    "import os\n",
    "os.chdir('/Users/sujiyang/Desktop/aiservice/kaggle_future_sales')"
   ]
  },
  {
   "cell_type": "code",
   "execution_count": 3,
   "id": "9362fb52",
   "metadata": {},
   "outputs": [],
   "source": [
    "data = pd.read_pickle('./data_4.pkl')"
   ]
  },
  {
   "cell_type": "code",
   "execution_count": 4,
   "id": "83414fac",
   "metadata": {},
   "outputs": [
    {
     "name": "stdout",
     "output_type": "stream",
     "text": [
      "<class 'pandas.core.frame.DataFrame'>\n",
      "Int64Index: 8029111 entries, 827196 to 8856306\n",
      "Data columns (total 35 columns):\n",
      " #   Column                      Dtype  \n",
      "---  ------                      -----  \n",
      " 0   month_id                    int8   \n",
      " 1   shop_id                     int8   \n",
      " 2   item_id                     int16  \n",
      " 3   cnt_month                   float32\n",
      " 4   city_id                     int8   \n",
      " 5   cat_id                      int8   \n",
      " 6   main_cat                    int8   \n",
      " 7   sub_cat                     int8   \n",
      " 8   year                        int16  \n",
      " 9   month                       int8   \n",
      " 10  sales_month                 int8   \n",
      " 11  cnt_month_1                 float32\n",
      " 12  cnt_month_2                 float32\n",
      " 13  cnt_month_3                 float32\n",
      " 14  item_id_mean_cnt_1          float32\n",
      " 15  item_id_mean_cnt_2          float32\n",
      " 16  item_id_mean_cnt_3          float32\n",
      " 17  cat_id_mean_cnt_1           float32\n",
      " 18  cat_id_mean_cnt_2           float32\n",
      " 19  cat_id_mean_cnt_3           float32\n",
      " 20  sub_cat_mean_cnt_1          float32\n",
      " 21  sub_cat_mean_cnt_2          float32\n",
      " 22  sub_cat_mean_cnt_3          float32\n",
      " 23  price_mean_mean_cnt_1       float32\n",
      " 24  price_mean_mean_cnt_2       float32\n",
      " 25  price_mean_mean_cnt_3       float32\n",
      " 26  item_id/city_id_mean_cnt_1  float32\n",
      " 27  item_id/city_id_mean_cnt_2  float32\n",
      " 28  item_id/city_id_mean_cnt_3  float32\n",
      " 29  shop_id/cat_id_mean_cnt_1   float32\n",
      " 30  shop_id/cat_id_mean_cnt_2   float32\n",
      " 31  shop_id/cat_id_mean_cnt_3   float32\n",
      " 32  shop_id/item_id_mean_cnt_1  float32\n",
      " 33  shop_id/item_id_mean_cnt_2  float32\n",
      " 34  shop_id/item_id_mean_cnt_3  float32\n",
      "dtypes: float32(25), int16(2), int8(8)\n",
      "memory usage: 918.9 MB\n"
     ]
    }
   ],
   "source": [
    "data.info()"
   ]
  },
  {
   "cell_type": "code",
   "execution_count": 5,
   "id": "de4c47c0",
   "metadata": {},
   "outputs": [
    {
     "data": {
      "text/plain": [
       "month_id                           0\n",
       "shop_id                            0\n",
       "item_id                            0\n",
       "cnt_month                     214200\n",
       "city_id                            0\n",
       "cat_id                             0\n",
       "main_cat                           0\n",
       "sub_cat                            0\n",
       "year                               0\n",
       "month                              0\n",
       "sales_month                        0\n",
       "cnt_month_1                        0\n",
       "cnt_month_2                        0\n",
       "cnt_month_3                        0\n",
       "item_id_mean_cnt_1                 0\n",
       "item_id_mean_cnt_2                 0\n",
       "item_id_mean_cnt_3                 0\n",
       "cat_id_mean_cnt_1                  0\n",
       "cat_id_mean_cnt_2                  0\n",
       "cat_id_mean_cnt_3                  0\n",
       "sub_cat_mean_cnt_1                 0\n",
       "sub_cat_mean_cnt_2                 0\n",
       "sub_cat_mean_cnt_3                 0\n",
       "price_mean_mean_cnt_1              0\n",
       "price_mean_mean_cnt_2              0\n",
       "price_mean_mean_cnt_3              0\n",
       "item_id/city_id_mean_cnt_1         0\n",
       "item_id/city_id_mean_cnt_2         0\n",
       "item_id/city_id_mean_cnt_3         0\n",
       "shop_id/cat_id_mean_cnt_1          0\n",
       "shop_id/cat_id_mean_cnt_2          0\n",
       "shop_id/cat_id_mean_cnt_3          0\n",
       "shop_id/item_id_mean_cnt_1         0\n",
       "shop_id/item_id_mean_cnt_2         0\n",
       "shop_id/item_id_mean_cnt_3         0\n",
       "dtype: int64"
      ]
     },
     "execution_count": 5,
     "metadata": {},
     "output_type": "execute_result"
    }
   ],
   "source": [
    "data.isnull().sum()"
   ]
  },
  {
   "cell_type": "code",
   "execution_count": 6,
   "id": "624582b4",
   "metadata": {},
   "outputs": [],
   "source": [
    "# train/validation/test data split\n",
    "X_train = data[data['month_id'] < 33].drop(['cnt_month'], axis=1)\n",
    "y_train = data[data['month_id'] < 33]['cnt_month'].clip(0,20)\n",
    "\n",
    "X_valid = data[data['month_id'] == 33].drop(['cnt_month'], axis=1)\n",
    "y_valid = data[data['month_id'] == 33]['cnt_month'].clip(0,20)\n",
    "\n",
    "X_test = data[data['month_id'] == 34].drop(['cnt_month'], axis=1)"
   ]
  },
  {
   "cell_type": "code",
   "execution_count": 7,
   "id": "f0ac293b",
   "metadata": {},
   "outputs": [
    {
     "name": "stdout",
     "output_type": "stream",
     "text": [
      "소요시간(s) : 2694.5519318580627\n"
     ]
    }
   ],
   "source": [
    "rf_features = [c for c in data.columns if c not in 'cnt_month']\n",
    "\n",
    "# 데이터 셋 지정\n",
    "rf_train = X_train[rf_features]\n",
    "rf_valid = X_valid[rf_features]\n",
    "rf_test = X_test[rf_features]\n",
    " \n",
    "# 모델 훈련\n",
    "start = time.time()\n",
    "rf_model = RandomForestRegressor(n_estimators=50, max_depth=9,min_samples_leaf=5,random_state=42, n_jobs=-1)\n",
    "rf_model.fit(rf_train, y_train)\n",
    "end = time.time()\n",
    "print(f'소요시간(s) : {end-start}')"
   ]
  },
  {
   "cell_type": "code",
   "execution_count": 8,
   "id": "111db6c5",
   "metadata": {
    "scrolled": true
   },
   "outputs": [],
   "source": [
    "# 예측 수행\n",
    "rf_train_pred = rf_model.predict(rf_train).clip(0,20)\n",
    "rf_valid_pred = rf_model.predict(rf_valid).clip(0,20)\n",
    "rf_test_pred = rf_model.predict(rf_test).clip(0,20) # 실제 타겟값이 클립되어있으므로 동일하게 클립"
   ]
  },
  {
   "cell_type": "code",
   "execution_count": 9,
   "id": "e3e51915",
   "metadata": {},
   "outputs": [],
   "source": [
    "# 제출 파일 생성\n",
    "df_test = pd.read_csv('./test.csv')\n",
    "submission = pd.DataFrame({\"ID\": df_test.index, \"item_cnt_month\": rf_test_pred})\n",
    "submission.to_csv('RF_submission_7.csv', index=False)"
   ]
  },
  {
   "cell_type": "code",
   "execution_count": 10,
   "id": "cfaf2a2a",
   "metadata": {},
   "outputs": [
    {
     "name": "stdout",
     "output_type": "stream",
     "text": [
      "Feature: shop_id/item_id_mean_cnt_1 Importance: 0.36\n",
      "Feature: cnt_month_1          Importance: 0.35\n",
      "Feature: cat_id               Importance: 0.05\n",
      "Feature: item_id_mean_cnt_1   Importance: 0.05\n",
      "Feature: shop_id/cat_id_mean_cnt_1 Importance: 0.04\n",
      "Feature: sales_month          Importance: 0.03\n",
      "Feature: sub_cat              Importance: 0.02\n",
      "Feature: month_id             Importance: 0.01\n",
      "Feature: shop_id              Importance: 0.01\n",
      "Feature: item_id              Importance: 0.01\n",
      "Feature: cnt_month_2          Importance: 0.01\n",
      "Feature: shop_id/cat_id_mean_cnt_2 Importance: 0.01\n",
      "Feature: shop_id/item_id_mean_cnt_2 Importance: 0.01\n",
      "Feature: city_id              Importance: 0.0\n",
      "Feature: main_cat             Importance: 0.0\n",
      "Feature: year                 Importance: 0.0\n",
      "Feature: cnt_month_3          Importance: 0.0\n",
      "Feature: item_id_mean_cnt_2   Importance: 0.0\n",
      "Feature: item_id_mean_cnt_3   Importance: 0.0\n",
      "Feature: cat_id_mean_cnt_1    Importance: 0.0\n",
      "Feature: cat_id_mean_cnt_2    Importance: 0.0\n",
      "Feature: cat_id_mean_cnt_3    Importance: 0.0\n",
      "Feature: sub_cat_mean_cnt_1   Importance: 0.0\n",
      "Feature: sub_cat_mean_cnt_2   Importance: 0.0\n",
      "Feature: sub_cat_mean_cnt_3   Importance: 0.0\n",
      "Feature: price_mean_mean_cnt_1 Importance: 0.0\n",
      "Feature: price_mean_mean_cnt_2 Importance: 0.0\n",
      "Feature: price_mean_mean_cnt_3 Importance: 0.0\n",
      "Feature: item_id/city_id_mean_cnt_1 Importance: 0.0\n",
      "Feature: item_id/city_id_mean_cnt_2 Importance: 0.0\n",
      "Feature: item_id/city_id_mean_cnt_3 Importance: 0.0\n",
      "Feature: shop_id/cat_id_mean_cnt_3 Importance: 0.0\n",
      "Feature: shop_id/item_id_mean_cnt_3 Importance: 0.0\n"
     ]
    }
   ],
   "source": [
    "# 피쳐 중요도를 가지는 리스트\n",
    "importances = list(rf_model.feature_importances_)\n",
    "\n",
    "# (변수, 중요도) 튜플로 구성된 리스트\n",
    "feature_importances = [(feature, round(importance, 2)) for feature, importance in zip(rf_features, importances)]\n",
    "\n",
    "# 가장 높은 중요도를 가지는 피쳐를 기준으로 내림차순 정렬\n",
    "feature_importances = sorted(feature_importances, key = lambda x: x[1], reverse = True)\n",
    "\n",
    "# 변수와 중요도 출력\n",
    "[print('Feature: {:20} Importance: {}'.format(*pair)) for pair in feature_importances];"
   ]
  },
  {
   "cell_type": "code",
   "execution_count": 11,
   "id": "bc1d517f",
   "metadata": {},
   "outputs": [
    {
     "data": {
      "text/plain": [
       "Text(0.5, 1.0, 'Feature Importance')"
      ]
     },
     "execution_count": 11,
     "metadata": {},
     "output_type": "execute_result"
    },
    {
     "data": {
      "image/png": "[encoded data removed]",
      "text/plain": [
       "<Figure size 1080x1080 with 1 Axes>"
      ]
     },
     "metadata": {
      "needs_background": "light"
     },
     "output_type": "display_data"
    }
   ],
   "source": [
    "features = [i[0] for i in feature_importances]\n",
    "importances = [i[1] for i in feature_importances]\n",
    "feature_importance = pd.DataFrame({'feature':features,'importance':importances})\n",
    "\n",
    "data = feature_importance.sort_values(by='importance', ascending=False)\n",
    "plt.figure(figsize=(15,15))\n",
    "sns.barplot(x=data['importance'], y=data['feature'])\n",
    "plt.xlabel('importance')\n",
    "plt.title('Feature Importance')"
   ]
  },
  {
   "cell_type": "code",
   "execution_count": 12,
   "id": "a69511a5",
   "metadata": {},
   "outputs": [
    {
     "name": "stdout",
     "output_type": "stream",
     "text": [
      "Train rmse:  0.8877174055050744\n",
      "Validation rmse:  0.8301584388956732\n"
     ]
    }
   ],
   "source": [
    "print('Train rmse: ',np.sqrt(mean_squared_error(y_train.clip(0,20), rf_train_pred)))\n",
    "print('Validation rmse: ',np.sqrt(mean_squared_error(y_valid.clip(0,20), rf_valid_pred)))"
   ]
  },
  {
   "cell_type": "code",
   "execution_count": null,
   "id": "4d2b73a4",
   "metadata": {},
   "outputs": [],
   "source": [
    "print('Test rmse: ',)"
   ]
  },
  {
   "cell_type": "code",
   "execution_count": null,
   "id": "dc98eedc",
   "metadata": {},
   "outputs": [],
   "source": []
  }
 ],
 "metadata": {
  "kernelspec": {
   "display_name": "Python 3 (ipykernel)",
   "language": "python",
   "name": "python3"
  },
  "language_info": {
   "codemirror_mode": {
    "name": "ipython",
    "version": 3
   },
   "file_extension": ".py",
   "mimetype": "text/x-python",
   "name": "python",
   "nbconvert_exporter": "python",
   "pygments_lexer": "ipython3",
   "version": "3.7.7"
  }
 },
 "nbformat": 4,
 "nbformat_minor": 5
}
