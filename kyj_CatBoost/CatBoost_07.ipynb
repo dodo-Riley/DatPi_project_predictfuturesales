{
 "cells": [
  {
   "cell_type": "code",
   "execution_count": 1,
   "id": "a085d4f2",
   "metadata": {
    "scrolled": true
   },
   "outputs": [],
   "source": [
    "#!pip install catboost"
   ]
  },
  {
   "cell_type": "code",
   "execution_count": 2,
   "id": "efa63dd0",
   "metadata": {},
   "outputs": [],
   "source": [
    "import numpy as np\n",
    "import pandas as pd\n",
    "import matplotlib.pyplot as plt\n",
    "%matplotlib inline\n",
    "\n",
    "import seaborn as sns\n",
    "import time\n",
    "from catboost import Pool\n",
    "from catboost import CatBoostRegressor\n",
    "from sklearn.metrics import mean_squared_error\n",
    "from sklearn.linear_model import LinearRegression\n",
    "from sklearn.neighbors import KNeighborsRegressor\n",
    "from sklearn.ensemble import RandomForestRegressor\n",
    "from sklearn.preprocessing import StandardScaler, MinMaxScaler"
   ]
  },
  {
   "cell_type": "code",
   "execution_count": 3,
   "id": "93c3478d",
   "metadata": {},
   "outputs": [],
   "source": [
    "test = pd.read_csv('./data/test.csv')"
   ]
  },
  {
   "cell_type": "code",
   "execution_count": 4,
   "id": "f009f92b",
   "metadata": {},
   "outputs": [],
   "source": [
    "df = pd.read_pickle('C:/Users/sara/Documents/빅데이터지능형서비스개발과정/kaggle/data_3.pkl')"
   ]
  },
  {
   "cell_type": "code",
   "execution_count": 5,
   "id": "9bb7f4fb",
   "metadata": {},
   "outputs": [
    {
     "name": "stdout",
     "output_type": "stream",
     "text": [
      "<class 'pandas.core.frame.DataFrame'>\n",
      "Int64Index: 8029111 entries, 827196 to 8856306\n",
      "Data columns (total 41 columns):\n",
      " #   Column                       Dtype  \n",
      "---  ------                       -----  \n",
      " 0   month_id                     int8   \n",
      " 1   shop_id                      int8   \n",
      " 2   item_id                      int16  \n",
      " 3   cnt_month                    float32\n",
      " 4   city_id                      int8   \n",
      " 5   cat_id                       int8   \n",
      " 6   main_cat                     int8   \n",
      " 7   sub_cat                      int8   \n",
      " 8   year                         int16  \n",
      " 9   month                        int8   \n",
      " 10  sales_month                  int8   \n",
      " 11  cnt_month_1                  float32\n",
      " 12  cnt_month_2                  float32\n",
      " 13  cnt_month_3                  float32\n",
      " 14  cnt_month_6                  float32\n",
      " 15  cnt_month_12                 float32\n",
      " 16  item_id_mean_cnt_1           float32\n",
      " 17  item_id_mean_cnt_2           float32\n",
      " 18  item_id_mean_cnt_3           float32\n",
      " 19  item_id_mean_cnt_6           float32\n",
      " 20  item_id_mean_cnt_12          float32\n",
      " 21  sub_cat_mean_cnt_1           float32\n",
      " 22  sub_cat_mean_cnt_2           float32\n",
      " 23  sub_cat_mean_cnt_3           float32\n",
      " 24  sub_cat_mean_cnt_6           float32\n",
      " 25  sub_cat_mean_cnt_12          float32\n",
      " 26  price_mean_mean_cnt_1        float32\n",
      " 27  price_mean_mean_cnt_2        float32\n",
      " 28  price_mean_mean_cnt_3        float32\n",
      " 29  price_mean_mean_cnt_6        float32\n",
      " 30  price_mean_mean_cnt_12       float32\n",
      " 31  item_id/city_id_mean_cnt_1   float32\n",
      " 32  item_id/city_id_mean_cnt_2   float32\n",
      " 33  item_id/city_id_mean_cnt_3   float32\n",
      " 34  item_id/city_id_mean_cnt_6   float32\n",
      " 35  item_id/city_id_mean_cnt_12  float32\n",
      " 36  shop_id/cat_id_mean_cnt_1    float32\n",
      " 37  shop_id/cat_id_mean_cnt_2    float32\n",
      " 38  shop_id/cat_id_mean_cnt_3    float32\n",
      " 39  shop_id/cat_id_mean_cnt_6    float32\n",
      " 40  shop_id/cat_id_mean_cnt_12   float32\n",
      "dtypes: float32(31), int16(2), int8(8)\n",
      "memory usage: 1.1 GB\n"
     ]
    }
   ],
   "source": [
    "df.info()"
   ]
  },
  {
   "cell_type": "code",
   "execution_count": 6,
   "id": "2eb80d0e",
   "metadata": {
    "scrolled": true
   },
   "outputs": [
    {
     "data": {
      "text/html": [
       "<div>\n",
       "<style scoped>\n",
       "    .dataframe tbody tr th:only-of-type {\n",
       "        vertical-align: middle;\n",
       "    }\n",
       "\n",
       "    .dataframe tbody tr th {\n",
       "        vertical-align: top;\n",
       "    }\n",
       "\n",
       "    .dataframe thead th {\n",
       "        text-align: right;\n",
       "    }\n",
       "</style>\n",
       "<table border=\"1\" class=\"dataframe\">\n",
       "  <thead>\n",
       "    <tr style=\"text-align: right;\">\n",
       "      <th></th>\n",
       "      <th>month_id</th>\n",
       "      <th>shop_id</th>\n",
       "      <th>item_id</th>\n",
       "      <th>cnt_month</th>\n",
       "      <th>city_id</th>\n",
       "      <th>cat_id</th>\n",
       "      <th>main_cat</th>\n",
       "      <th>sub_cat</th>\n",
       "      <th>year</th>\n",
       "      <th>month</th>\n",
       "      <th>...</th>\n",
       "      <th>item_id/city_id_mean_cnt_1</th>\n",
       "      <th>item_id/city_id_mean_cnt_2</th>\n",
       "      <th>item_id/city_id_mean_cnt_3</th>\n",
       "      <th>item_id/city_id_mean_cnt_6</th>\n",
       "      <th>item_id/city_id_mean_cnt_12</th>\n",
       "      <th>shop_id/cat_id_mean_cnt_1</th>\n",
       "      <th>shop_id/cat_id_mean_cnt_2</th>\n",
       "      <th>shop_id/cat_id_mean_cnt_3</th>\n",
       "      <th>shop_id/cat_id_mean_cnt_6</th>\n",
       "      <th>shop_id/cat_id_mean_cnt_12</th>\n",
       "    </tr>\n",
       "  </thead>\n",
       "  <tbody>\n",
       "    <tr>\n",
       "      <th>827196</th>\n",
       "      <td>3</td>\n",
       "      <td>25</td>\n",
       "      <td>8092</td>\n",
       "      <td>3.0</td>\n",
       "      <td>13</td>\n",
       "      <td>40</td>\n",
       "      <td>11</td>\n",
       "      <td>6</td>\n",
       "      <td>2013</td>\n",
       "      <td>4</td>\n",
       "      <td>...</td>\n",
       "      <td>1.000000</td>\n",
       "      <td>2.142857</td>\n",
       "      <td>0.0</td>\n",
       "      <td>0.0</td>\n",
       "      <td>0.0</td>\n",
       "      <td>1.087262</td>\n",
       "      <td>1.049296</td>\n",
       "      <td>0.0</td>\n",
       "      <td>0.0</td>\n",
       "      <td>0.0</td>\n",
       "    </tr>\n",
       "    <tr>\n",
       "      <th>827197</th>\n",
       "      <td>3</td>\n",
       "      <td>25</td>\n",
       "      <td>7850</td>\n",
       "      <td>3.0</td>\n",
       "      <td>13</td>\n",
       "      <td>30</td>\n",
       "      <td>8</td>\n",
       "      <td>54</td>\n",
       "      <td>2013</td>\n",
       "      <td>4</td>\n",
       "      <td>...</td>\n",
       "      <td>3.714286</td>\n",
       "      <td>2.285714</td>\n",
       "      <td>0.0</td>\n",
       "      <td>0.0</td>\n",
       "      <td>0.0</td>\n",
       "      <td>3.654494</td>\n",
       "      <td>2.279188</td>\n",
       "      <td>0.0</td>\n",
       "      <td>0.0</td>\n",
       "      <td>0.0</td>\n",
       "    </tr>\n",
       "    <tr>\n",
       "      <th>827198</th>\n",
       "      <td>3</td>\n",
       "      <td>25</td>\n",
       "      <td>8051</td>\n",
       "      <td>3.0</td>\n",
       "      <td>13</td>\n",
       "      <td>66</td>\n",
       "      <td>14</td>\n",
       "      <td>47</td>\n",
       "      <td>2013</td>\n",
       "      <td>4</td>\n",
       "      <td>...</td>\n",
       "      <td>0.000000</td>\n",
       "      <td>0.428571</td>\n",
       "      <td>0.0</td>\n",
       "      <td>0.0</td>\n",
       "      <td>0.0</td>\n",
       "      <td>1.827586</td>\n",
       "      <td>1.389474</td>\n",
       "      <td>0.0</td>\n",
       "      <td>0.0</td>\n",
       "      <td>0.0</td>\n",
       "    </tr>\n",
       "    <tr>\n",
       "      <th>827199</th>\n",
       "      <td>3</td>\n",
       "      <td>25</td>\n",
       "      <td>8088</td>\n",
       "      <td>1.0</td>\n",
       "      <td>13</td>\n",
       "      <td>55</td>\n",
       "      <td>13</td>\n",
       "      <td>4</td>\n",
       "      <td>2013</td>\n",
       "      <td>4</td>\n",
       "      <td>...</td>\n",
       "      <td>0.285714</td>\n",
       "      <td>0.000000</td>\n",
       "      <td>0.0</td>\n",
       "      <td>0.0</td>\n",
       "      <td>0.0</td>\n",
       "      <td>0.599845</td>\n",
       "      <td>0.562107</td>\n",
       "      <td>0.0</td>\n",
       "      <td>0.0</td>\n",
       "      <td>0.0</td>\n",
       "    </tr>\n",
       "    <tr>\n",
       "      <th>827200</th>\n",
       "      <td>3</td>\n",
       "      <td>25</td>\n",
       "      <td>8089</td>\n",
       "      <td>1.0</td>\n",
       "      <td>13</td>\n",
       "      <td>55</td>\n",
       "      <td>13</td>\n",
       "      <td>4</td>\n",
       "      <td>2013</td>\n",
       "      <td>4</td>\n",
       "      <td>...</td>\n",
       "      <td>0.571429</td>\n",
       "      <td>0.000000</td>\n",
       "      <td>0.0</td>\n",
       "      <td>0.0</td>\n",
       "      <td>0.0</td>\n",
       "      <td>0.599845</td>\n",
       "      <td>0.562107</td>\n",
       "      <td>0.0</td>\n",
       "      <td>0.0</td>\n",
       "      <td>0.0</td>\n",
       "    </tr>\n",
       "  </tbody>\n",
       "</table>\n",
       "<p>5 rows × 41 columns</p>\n",
       "</div>"
      ],
      "text/plain": [
       "        month_id  shop_id  item_id  cnt_month  city_id  cat_id  main_cat  \\\n",
       "827196         3       25     8092        3.0       13      40        11   \n",
       "827197         3       25     7850        3.0       13      30         8   \n",
       "827198         3       25     8051        3.0       13      66        14   \n",
       "827199         3       25     8088        1.0       13      55        13   \n",
       "827200         3       25     8089        1.0       13      55        13   \n",
       "\n",
       "        sub_cat  year  month  ...  item_id/city_id_mean_cnt_1  \\\n",
       "827196        6  2013      4  ...                    1.000000   \n",
       "827197       54  2013      4  ...                    3.714286   \n",
       "827198       47  2013      4  ...                    0.000000   \n",
       "827199        4  2013      4  ...                    0.285714   \n",
       "827200        4  2013      4  ...                    0.571429   \n",
       "\n",
       "        item_id/city_id_mean_cnt_2  item_id/city_id_mean_cnt_3  \\\n",
       "827196                    2.142857                         0.0   \n",
       "827197                    2.285714                         0.0   \n",
       "827198                    0.428571                         0.0   \n",
       "827199                    0.000000                         0.0   \n",
       "827200                    0.000000                         0.0   \n",
       "\n",
       "        item_id/city_id_mean_cnt_6  item_id/city_id_mean_cnt_12  \\\n",
       "827196                         0.0                          0.0   \n",
       "827197                         0.0                          0.0   \n",
       "827198                         0.0                          0.0   \n",
       "827199                         0.0                          0.0   \n",
       "827200                         0.0                          0.0   \n",
       "\n",
       "        shop_id/cat_id_mean_cnt_1  shop_id/cat_id_mean_cnt_2  \\\n",
       "827196                   1.087262                   1.049296   \n",
       "827197                   3.654494                   2.279188   \n",
       "827198                   1.827586                   1.389474   \n",
       "827199                   0.599845                   0.562107   \n",
       "827200                   0.599845                   0.562107   \n",
       "\n",
       "        shop_id/cat_id_mean_cnt_3  shop_id/cat_id_mean_cnt_6  \\\n",
       "827196                        0.0                        0.0   \n",
       "827197                        0.0                        0.0   \n",
       "827198                        0.0                        0.0   \n",
       "827199                        0.0                        0.0   \n",
       "827200                        0.0                        0.0   \n",
       "\n",
       "        shop_id/cat_id_mean_cnt_12  \n",
       "827196                         0.0  \n",
       "827197                         0.0  \n",
       "827198                         0.0  \n",
       "827199                         0.0  \n",
       "827200                         0.0  \n",
       "\n",
       "[5 rows x 41 columns]"
      ]
     },
     "execution_count": 6,
     "metadata": {},
     "output_type": "execute_result"
    }
   ],
   "source": [
    "df.head()"
   ]
  },
  {
   "cell_type": "code",
   "execution_count": 7,
   "id": "16ba1d62",
   "metadata": {},
   "outputs": [
    {
     "data": {
      "text/plain": [
       "Index(['month_id', 'shop_id', 'item_id', 'cnt_month', 'city_id', 'cat_id',\n",
       "       'main_cat', 'sub_cat', 'year', 'month', 'sales_month', 'cnt_month_1',\n",
       "       'cnt_month_2', 'cnt_month_3', 'cnt_month_6', 'cnt_month_12',\n",
       "       'item_id_mean_cnt_1', 'item_id_mean_cnt_2', 'item_id_mean_cnt_3',\n",
       "       'item_id_mean_cnt_6', 'item_id_mean_cnt_12', 'sub_cat_mean_cnt_1',\n",
       "       'sub_cat_mean_cnt_2', 'sub_cat_mean_cnt_3', 'sub_cat_mean_cnt_6',\n",
       "       'sub_cat_mean_cnt_12', 'price_mean_mean_cnt_1', 'price_mean_mean_cnt_2',\n",
       "       'price_mean_mean_cnt_3', 'price_mean_mean_cnt_6',\n",
       "       'price_mean_mean_cnt_12', 'item_id/city_id_mean_cnt_1',\n",
       "       'item_id/city_id_mean_cnt_2', 'item_id/city_id_mean_cnt_3',\n",
       "       'item_id/city_id_mean_cnt_6', 'item_id/city_id_mean_cnt_12',\n",
       "       'shop_id/cat_id_mean_cnt_1', 'shop_id/cat_id_mean_cnt_2',\n",
       "       'shop_id/cat_id_mean_cnt_3', 'shop_id/cat_id_mean_cnt_6',\n",
       "       'shop_id/cat_id_mean_cnt_12'],\n",
       "      dtype='object')"
      ]
     },
     "execution_count": 7,
     "metadata": {},
     "output_type": "execute_result"
    }
   ],
   "source": [
    "df.columns"
   ]
  },
  {
   "cell_type": "code",
   "execution_count": 8,
   "id": "8fff780a",
   "metadata": {},
   "outputs": [],
   "source": [
    "s = ['cnt_month','cnt_month_1','cnt_month_2', 'cnt_month_3', 'cnt_month_6', 'cnt_month_12',\n",
    "     'item_id_mean_cnt_1', 'item_id_mean_cnt_2', 'item_id_mean_cnt_3', 'item_id_mean_cnt_6', 'item_id_mean_cnt_12', \n",
    "     'sub_cat_mean_cnt_1', 'sub_cat_mean_cnt_2', 'sub_cat_mean_cnt_3', 'sub_cat_mean_cnt_6', 'sub_cat_mean_cnt_12', \n",
    "     'price_mean_mean_cnt_1', 'price_mean_mean_cnt_2','price_mean_mean_cnt_3', 'price_mean_mean_cnt_6','price_mean_mean_cnt_12',\n",
    "     'item_id/city_id_mean_cnt_1', 'item_id/city_id_mean_cnt_2', 'item_id/city_id_mean_cnt_3','item_id/city_id_mean_cnt_6', 'item_id/city_id_mean_cnt_12',\n",
    "     'shop_id/cat_id_mean_cnt_1', 'shop_id/cat_id_mean_cnt_2','shop_id/cat_id_mean_cnt_3', 'shop_id/cat_id_mean_cnt_6','shop_id/cat_id_mean_cnt_12']"
   ]
  },
  {
   "cell_type": "code",
   "execution_count": 9,
   "id": "f95c883b",
   "metadata": {},
   "outputs": [],
   "source": [
    "# value clip(0~20)\n",
    "df[s] = df[s].clip(0, 20)"
   ]
  },
  {
   "cell_type": "code",
   "execution_count": 10,
   "id": "7406936f",
   "metadata": {},
   "outputs": [],
   "source": [
    "# train/validation/test data split\n",
    "X_train = df[df['month_id'] < 33].drop(['cnt_month'], axis=1)\n",
    "Y_train = df[df['month_id'] < 33]['cnt_month']\n",
    "\n",
    "X_valid = df[df['month_id'] == 33].drop(['cnt_month'], axis=1)\n",
    "Y_valid = df[df['month_id'] == 33]['cnt_month']\n",
    "\n",
    "X_test = df[df['month_id'] == 34].drop(['cnt_month'], axis=1)"
   ]
  },
  {
   "cell_type": "code",
   "execution_count": 11,
   "id": "654f64eb",
   "metadata": {},
   "outputs": [],
   "source": [
    "model = CatBoostRegressor(iterations=500,\n",
    "                          max_ctr_complexity=4,\n",
    "                          random_seed=0,\n",
    "                          od_type='Iter',\n",
    "                          od_wait=25,\n",
    "                          verbose=50,\n",
    "                          depth=4\n",
    "                         )"
   ]
  },
  {
   "cell_type": "code",
   "execution_count": 12,
   "id": "4d7058cb",
   "metadata": {
    "scrolled": false
   },
   "outputs": [
    {
     "name": "stdout",
     "output_type": "stream",
     "text": [
      "Learning rate set to 0.316046\n",
      "0:\tlearn: 1.1172189\ttest: 1.1172189\ttest1: 0.9927461\tbest: 0.9927461 (0)\ttotal: 1.12s\tremaining: 9m 17s\n",
      "50:\tlearn: 0.9011064\ttest: 0.9011064\ttest1: 0.8342765\tbest: 0.8342765 (50)\ttotal: 51.1s\tremaining: 7m 29s\n",
      "100:\tlearn: 0.8859987\ttest: 0.8859987\ttest1: 0.8252328\tbest: 0.8251274 (98)\ttotal: 1m 42s\tremaining: 6m 43s\n",
      "150:\tlearn: 0.8765409\ttest: 0.8765409\ttest1: 0.8171220\tbest: 0.8168459 (144)\ttotal: 2m 33s\tremaining: 5m 55s\n",
      "200:\tlearn: 0.8710610\ttest: 0.8710610\ttest1: 0.8132285\tbest: 0.8131482 (196)\ttotal: 3m 24s\tremaining: 5m 4s\n",
      "Stopped by overfitting detector  (25 iterations wait)\n",
      "\n",
      "bestTest = 0.8130080195\n",
      "bestIteration = 201\n",
      "\n",
      "Shrink model to first 202 iterations.\n",
      "소요시간:  238.80328464508057\n"
     ]
    }
   ],
   "source": [
    "ts = time.time()\n",
    "\n",
    "model.fit(\n",
    "    X_train, Y_train, \n",
    "    eval_set=[(X_train, Y_train), (X_valid, Y_valid)],  # 유효성 검사 데이터 세트\n",
    "    )\n",
    "\n",
    "print('소요시간: ',time.time()-ts)"
   ]
  },
  {
   "cell_type": "code",
   "execution_count": 13,
   "id": "d755c171",
   "metadata": {
    "scrolled": true
   },
   "outputs": [
    {
     "data": {
      "text/plain": [
       "array([8.69449089e-01, 2.26089202e+00, 1.20694663e+00, 1.79091423e+00,\n",
       "       1.00224887e+01, 7.19854501e-01, 3.46051441e+00, 6.48792175e-02,\n",
       "       3.36764015e+00, 1.24020647e+01, 3.21792125e+01, 5.28938177e+00,\n",
       "       1.48725198e+00, 1.85309855e-01, 1.53037090e-02, 1.03756069e+01,\n",
       "       5.06823223e-01, 1.85711957e-01, 4.03039606e-02, 2.45755771e-02,\n",
       "       2.14324982e+00, 2.43589310e-01, 1.93699889e-01, 6.95190907e-02,\n",
       "       2.67375877e-02, 5.23343725e-01, 3.38741561e-01, 1.26801634e-01,\n",
       "       4.89708521e-02, 0.00000000e+00, 1.37339346e+00, 0.00000000e+00,\n",
       "       0.00000000e+00, 0.00000000e+00, 0.00000000e+00, 7.54990692e+00,\n",
       "       7.53109653e-01, 1.53811466e-01, 0.00000000e+00, 0.00000000e+00])"
      ]
     },
     "execution_count": 13,
     "metadata": {},
     "output_type": "execute_result"
    }
   ],
   "source": [
    "model.get_feature_importance(Pool(X_train, label=Y_train, cat_features=[]))"
   ]
  },
  {
   "cell_type": "code",
   "execution_count": 20,
   "id": "a02da789",
   "metadata": {
    "scrolled": false
   },
   "outputs": [
    {
     "data": {
      "image/png": "[encoded data removed]",
      "text/plain": [
       "<Figure size 1368x432 with 1 Axes>"
      ]
     },
     "metadata": {
      "needs_background": "light"
     },
     "output_type": "display_data"
    }
   ],
   "source": [
    "feature_score = pd.DataFrame(list(zip(X_train.dtypes.index, model.get_feature_importance(Pool(X_train, label=Y_train, cat_features=[])))), columns=['Feature','Score'])\n",
    "feature_score = feature_score[feature_score.Score > 0.2]\n",
    "feature_score = feature_score.sort_values(by='Score', ascending=False, inplace=False, kind='quicksort', na_position='last')\n",
    "\n",
    "plt.rcParams[\"figure.figsize\"] = (19, 6)\n",
    "feature_score.plot('Feature', 'Score', kind='bar', color='c')\n",
    "\n",
    "plt.show()\n"
   ]
  },
  {
   "cell_type": "code",
   "execution_count": 15,
   "id": "f44bda2c",
   "metadata": {},
   "outputs": [],
   "source": [
    "Y_pred = model.predict(X_valid)"
   ]
  },
  {
   "cell_type": "code",
   "execution_count": 16,
   "id": "08c72628",
   "metadata": {},
   "outputs": [
    {
     "data": {
      "image/png": "[encoded data removed]",
      "text/plain": [
       "<Figure size 1800x360 with 1 Axes>"
      ]
     },
     "metadata": {
      "needs_background": "light"
     },
     "output_type": "display_data"
    }
   ],
   "source": [
    "submission = pd.DataFrame({\n",
    "    \"ID\": X_valid.index, \n",
    "    \"item_cnt_month\": Y_pred\n",
    "})\n",
    "x = submission['ID'].head(200)\n",
    "y_pred = submission['item_cnt_month'].head(200)\n",
    "y_true = Y_valid.head(200)\n",
    "fig = plt.figure(figsize=(25, 5))\n",
    "ax = fig.add_subplot(111)\n",
    "ax.plot(x, y_pred, label = 'predictive value', color = 'red')\n",
    "ax.plot(x, y_true, label = 'actual value', color = 'green')\n",
    "\n",
    "ax.legend()\n",
    "\n",
    "plt.show()"
   ]
  },
  {
   "cell_type": "code",
   "execution_count": 17,
   "id": "fc9581ce",
   "metadata": {},
   "outputs": [],
   "source": [
    "Y_test = model.predict(X_test)"
   ]
  },
  {
   "cell_type": "code",
   "execution_count": 18,
   "id": "3a53840d",
   "metadata": {},
   "outputs": [],
   "source": [
    "# 제출 파일 생성\n",
    "submission = pd.DataFrame({\n",
    "    \"ID\": test.index, \n",
    "    \"item_cnt_month\": Y_test\n",
    "})\n",
    "submission.to_csv('./submission/submission_CatBoost_2022030101.csv', index=False)"
   ]
  }
 ],
 "metadata": {
  "kernelspec": {
   "display_name": "Python 3 (ipykernel)",
   "language": "python",
   "name": "python3"
  },
  "language_info": {
   "codemirror_mode": {
    "name": "ipython",
    "version": 3
   },
   "file_extension": ".py",
   "mimetype": "text/x-python",
   "name": "python",
   "nbconvert_exporter": "python",
   "pygments_lexer": "ipython3",
   "version": "3.9.7"
  }
 },
 "nbformat": 4,
 "nbformat_minor": 5
}
