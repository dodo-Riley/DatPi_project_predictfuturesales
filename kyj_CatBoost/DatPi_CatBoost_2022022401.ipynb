{
 "cells": [
  {
   "cell_type": "code",
   "execution_count": 1,
   "id": "a085d4f2",
   "metadata": {
    "scrolled": true
   },
   "outputs": [],
   "source": [
    "#!pip install catboost"
   ]
  },
  {
   "cell_type": "code",
   "execution_count": 2,
   "id": "efa63dd0",
   "metadata": {},
   "outputs": [],
   "source": [
    "import numpy as np\n",
    "import pandas as pd\n",
    "import matplotlib.pyplot as plt\n",
    "%matplotlib inline\n",
    "\n",
    "import time\n",
    "from catboost import Pool\n",
    "from catboost import CatBoostRegressor\n",
    "from sklearn.metrics import mean_squared_error\n",
    "from sklearn.linear_model import LinearRegression\n",
    "from sklearn.neighbors import KNeighborsRegressor\n",
    "from sklearn.ensemble import RandomForestRegressor\n",
    "from sklearn.preprocessing import StandardScaler, MinMaxScaler"
   ]
  },
  {
   "cell_type": "code",
   "execution_count": 3,
   "id": "93c3478d",
   "metadata": {},
   "outputs": [],
   "source": [
    "test = pd.read_csv('./data/test.csv')"
   ]
  },
  {
   "cell_type": "code",
   "execution_count": 4,
   "id": "f009f92b",
   "metadata": {},
   "outputs": [],
   "source": [
    "df = pd.read_pickle('./data/data_1.pkl')"
   ]
  },
  {
   "cell_type": "code",
   "execution_count": 5,
   "id": "9bb7f4fb",
   "metadata": {},
   "outputs": [
    {
     "name": "stdout",
     "output_type": "stream",
     "text": [
      "<class 'pandas.core.frame.DataFrame'>\n",
      "Int64Index: 8032887 entries, 827691 to 8860577\n",
      "Data columns (total 29 columns):\n",
      " #   Column                      Dtype  \n",
      "---  ------                      -----  \n",
      " 0   month_id                    int8   \n",
      " 1   shop_id                     int8   \n",
      " 2   item_id                     int16  \n",
      " 3   cnt_month                   float32\n",
      " 4   city_id                     int8   \n",
      " 5   cat_id                      int8   \n",
      " 6   main_cat                    int8   \n",
      " 7   sub_cat                     int8   \n",
      " 8   year                        int16  \n",
      " 9   month                       int8   \n",
      " 10  sales_month                 int8   \n",
      " 11  cnt_month_1                 float32\n",
      " 12  cnt_month_2                 float32\n",
      " 13  cnt_month_3                 float32\n",
      " 14  item_id_mean_cnt_1          float32\n",
      " 15  item_id_mean_cnt_2          float32\n",
      " 16  item_id_mean_cnt_3          float32\n",
      " 17  sub_cat_mean_cnt_1          float32\n",
      " 18  sub_cat_mean_cnt_2          float32\n",
      " 19  sub_cat_mean_cnt_3          float32\n",
      " 20  price_mean_mean_cnt_1       float32\n",
      " 21  price_mean_mean_cnt_2       float32\n",
      " 22  price_mean_mean_cnt_3       float32\n",
      " 23  item_id/city_id_mean_cnt_1  float32\n",
      " 24  item_id/city_id_mean_cnt_2  float32\n",
      " 25  item_id/city_id_mean_cnt_3  float32\n",
      " 26  shop_id/cat_id_mean_cnt_1   float32\n",
      " 27  shop_id/cat_id_mean_cnt_2   float32\n",
      " 28  shop_id/cat_id_mean_cnt_3   float32\n",
      "dtypes: float32(19), int16(2), int8(8)\n",
      "memory usage: 735.4 MB\n"
     ]
    }
   ],
   "source": [
    "df.info()"
   ]
  },
  {
   "cell_type": "code",
   "execution_count": 6,
   "id": "2eb80d0e",
   "metadata": {},
   "outputs": [
    {
     "data": {
      "text/html": [
       "<div>\n",
       "<style scoped>\n",
       "    .dataframe tbody tr th:only-of-type {\n",
       "        vertical-align: middle;\n",
       "    }\n",
       "\n",
       "    .dataframe tbody tr th {\n",
       "        vertical-align: top;\n",
       "    }\n",
       "\n",
       "    .dataframe thead th {\n",
       "        text-align: right;\n",
       "    }\n",
       "</style>\n",
       "<table border=\"1\" class=\"dataframe\">\n",
       "  <thead>\n",
       "    <tr style=\"text-align: right;\">\n",
       "      <th></th>\n",
       "      <th>month_id</th>\n",
       "      <th>shop_id</th>\n",
       "      <th>item_id</th>\n",
       "      <th>cnt_month</th>\n",
       "      <th>city_id</th>\n",
       "      <th>cat_id</th>\n",
       "      <th>main_cat</th>\n",
       "      <th>sub_cat</th>\n",
       "      <th>year</th>\n",
       "      <th>month</th>\n",
       "      <th>...</th>\n",
       "      <th>sub_cat_mean_cnt_3</th>\n",
       "      <th>price_mean_mean_cnt_1</th>\n",
       "      <th>price_mean_mean_cnt_2</th>\n",
       "      <th>price_mean_mean_cnt_3</th>\n",
       "      <th>item_id/city_id_mean_cnt_1</th>\n",
       "      <th>item_id/city_id_mean_cnt_2</th>\n",
       "      <th>item_id/city_id_mean_cnt_3</th>\n",
       "      <th>shop_id/cat_id_mean_cnt_1</th>\n",
       "      <th>shop_id/cat_id_mean_cnt_2</th>\n",
       "      <th>shop_id/cat_id_mean_cnt_3</th>\n",
       "    </tr>\n",
       "  </thead>\n",
       "  <tbody>\n",
       "    <tr>\n",
       "      <th>827691</th>\n",
       "      <td>3</td>\n",
       "      <td>25</td>\n",
       "      <td>8092</td>\n",
       "      <td>3.0</td>\n",
       "      <td>13</td>\n",
       "      <td>40</td>\n",
       "      <td>11</td>\n",
       "      <td>6</td>\n",
       "      <td>2013</td>\n",
       "      <td>4</td>\n",
       "      <td>...</td>\n",
       "      <td>0.0</td>\n",
       "      <td>1.400024</td>\n",
       "      <td>1.365631</td>\n",
       "      <td>0.0</td>\n",
       "      <td>1.000000</td>\n",
       "      <td>2.142857</td>\n",
       "      <td>0.0</td>\n",
       "      <td>1.087262</td>\n",
       "      <td>1.048394</td>\n",
       "      <td>0.0</td>\n",
       "    </tr>\n",
       "    <tr>\n",
       "      <th>827692</th>\n",
       "      <td>3</td>\n",
       "      <td>25</td>\n",
       "      <td>7850</td>\n",
       "      <td>3.0</td>\n",
       "      <td>13</td>\n",
       "      <td>30</td>\n",
       "      <td>8</td>\n",
       "      <td>54</td>\n",
       "      <td>2013</td>\n",
       "      <td>4</td>\n",
       "      <td>...</td>\n",
       "      <td>0.0</td>\n",
       "      <td>1.479122</td>\n",
       "      <td>1.464680</td>\n",
       "      <td>0.0</td>\n",
       "      <td>3.714286</td>\n",
       "      <td>2.285714</td>\n",
       "      <td>0.0</td>\n",
       "      <td>3.651685</td>\n",
       "      <td>2.276650</td>\n",
       "      <td>0.0</td>\n",
       "    </tr>\n",
       "    <tr>\n",
       "      <th>827693</th>\n",
       "      <td>3</td>\n",
       "      <td>25</td>\n",
       "      <td>8051</td>\n",
       "      <td>3.0</td>\n",
       "      <td>13</td>\n",
       "      <td>66</td>\n",
       "      <td>14</td>\n",
       "      <td>47</td>\n",
       "      <td>2013</td>\n",
       "      <td>4</td>\n",
       "      <td>...</td>\n",
       "      <td>0.0</td>\n",
       "      <td>0.000000</td>\n",
       "      <td>0.000000</td>\n",
       "      <td>0.0</td>\n",
       "      <td>0.000000</td>\n",
       "      <td>0.428571</td>\n",
       "      <td>0.0</td>\n",
       "      <td>1.827586</td>\n",
       "      <td>1.389474</td>\n",
       "      <td>0.0</td>\n",
       "    </tr>\n",
       "    <tr>\n",
       "      <th>827694</th>\n",
       "      <td>3</td>\n",
       "      <td>25</td>\n",
       "      <td>8088</td>\n",
       "      <td>1.0</td>\n",
       "      <td>13</td>\n",
       "      <td>55</td>\n",
       "      <td>13</td>\n",
       "      <td>4</td>\n",
       "      <td>2013</td>\n",
       "      <td>4</td>\n",
       "      <td>...</td>\n",
       "      <td>0.0</td>\n",
       "      <td>1.479122</td>\n",
       "      <td>0.000000</td>\n",
       "      <td>0.0</td>\n",
       "      <td>0.285714</td>\n",
       "      <td>0.000000</td>\n",
       "      <td>0.0</td>\n",
       "      <td>0.598291</td>\n",
       "      <td>0.562107</td>\n",
       "      <td>0.0</td>\n",
       "    </tr>\n",
       "    <tr>\n",
       "      <th>827695</th>\n",
       "      <td>3</td>\n",
       "      <td>25</td>\n",
       "      <td>8089</td>\n",
       "      <td>1.0</td>\n",
       "      <td>13</td>\n",
       "      <td>55</td>\n",
       "      <td>13</td>\n",
       "      <td>4</td>\n",
       "      <td>2013</td>\n",
       "      <td>4</td>\n",
       "      <td>...</td>\n",
       "      <td>0.0</td>\n",
       "      <td>0.000000</td>\n",
       "      <td>0.000000</td>\n",
       "      <td>0.0</td>\n",
       "      <td>0.571429</td>\n",
       "      <td>0.000000</td>\n",
       "      <td>0.0</td>\n",
       "      <td>0.598291</td>\n",
       "      <td>0.562107</td>\n",
       "      <td>0.0</td>\n",
       "    </tr>\n",
       "  </tbody>\n",
       "</table>\n",
       "<p>5 rows × 29 columns</p>\n",
       "</div>"
      ],
      "text/plain": [
       "        month_id  shop_id  item_id  cnt_month  city_id  cat_id  main_cat  \\\n",
       "827691         3       25     8092        3.0       13      40        11   \n",
       "827692         3       25     7850        3.0       13      30         8   \n",
       "827693         3       25     8051        3.0       13      66        14   \n",
       "827694         3       25     8088        1.0       13      55        13   \n",
       "827695         3       25     8089        1.0       13      55        13   \n",
       "\n",
       "        sub_cat  year  month  ...  sub_cat_mean_cnt_3  price_mean_mean_cnt_1  \\\n",
       "827691        6  2013      4  ...                 0.0               1.400024   \n",
       "827692       54  2013      4  ...                 0.0               1.479122   \n",
       "827693       47  2013      4  ...                 0.0               0.000000   \n",
       "827694        4  2013      4  ...                 0.0               1.479122   \n",
       "827695        4  2013      4  ...                 0.0               0.000000   \n",
       "\n",
       "        price_mean_mean_cnt_2  price_mean_mean_cnt_3  \\\n",
       "827691               1.365631                    0.0   \n",
       "827692               1.464680                    0.0   \n",
       "827693               0.000000                    0.0   \n",
       "827694               0.000000                    0.0   \n",
       "827695               0.000000                    0.0   \n",
       "\n",
       "        item_id/city_id_mean_cnt_1  item_id/city_id_mean_cnt_2  \\\n",
       "827691                    1.000000                    2.142857   \n",
       "827692                    3.714286                    2.285714   \n",
       "827693                    0.000000                    0.428571   \n",
       "827694                    0.285714                    0.000000   \n",
       "827695                    0.571429                    0.000000   \n",
       "\n",
       "        item_id/city_id_mean_cnt_3  shop_id/cat_id_mean_cnt_1  \\\n",
       "827691                         0.0                   1.087262   \n",
       "827692                         0.0                   3.651685   \n",
       "827693                         0.0                   1.827586   \n",
       "827694                         0.0                   0.598291   \n",
       "827695                         0.0                   0.598291   \n",
       "\n",
       "        shop_id/cat_id_mean_cnt_2  shop_id/cat_id_mean_cnt_3  \n",
       "827691                   1.048394                        0.0  \n",
       "827692                   2.276650                        0.0  \n",
       "827693                   1.389474                        0.0  \n",
       "827694                   0.562107                        0.0  \n",
       "827695                   0.562107                        0.0  \n",
       "\n",
       "[5 rows x 29 columns]"
      ]
     },
     "execution_count": 6,
     "metadata": {},
     "output_type": "execute_result"
    }
   ],
   "source": [
    "df.head()"
   ]
  },
  {
   "cell_type": "code",
   "execution_count": 7,
   "id": "7406936f",
   "metadata": {},
   "outputs": [],
   "source": [
    "# train/validation/test data split\n",
    "X_train = df[df['month_id'] < 33].drop(['cnt_month'], axis=1)\n",
    "Y_train = df[df['month_id'] < 33]['cnt_month']\n",
    "\n",
    "X_valid = df[df['month_id'] == 33].drop(['cnt_month'], axis=1)\n",
    "Y_valid = df[df['month_id'] == 33]['cnt_month']\n",
    "\n",
    "X_test = df[df['month_id'] == 34].drop(['cnt_month'], axis=1)"
   ]
  },
  {
   "cell_type": "code",
   "execution_count": 8,
   "id": "e280076d",
   "metadata": {},
   "outputs": [
    {
     "data": {
      "text/plain": [
       "((221802,), (214200, 28))"
      ]
     },
     "execution_count": 8,
     "metadata": {},
     "output_type": "execute_result"
    }
   ],
   "source": [
    "Y_valid.shape, X_test.shape"
   ]
  },
  {
   "cell_type": "markdown",
   "id": "6c3b7766",
   "metadata": {},
   "source": [
    "### [CatBoost 란](https://dailyheumsi.tistory.com/136)\n",
    "\n",
    "- 특징\n",
    "    1. Level-wise로 트리 생성\n",
    "    2. Ordered Boosting : 일부만 가지고 잔차계산 후 이를 기반한 모델을 만들고 그 뒤에 데이터의 잔차는 이 모델로 예측한 값을 사용\n",
    "        * 과정\n",
    "            data = [x1, x2, x3, x4, x5, x6, x7, x8, x9, x10]가 있다고 가정했을 때\n",
    "            1. 먼저 x1의 잔차만 계산하고, 이를 기반으로 모델을 만들고 x2의 잔차를 이 모델로 예측\n",
    "            2. x1, x2의 잔차를 가지고 모델을 만들고 이를 기반으로 x3,x4의 잔차를 모델로 예측\n",
    "            3. x1, x2, x3, x4를 가지고 모델을 만들고 이를 기반으로 x5,x6,x7,x8의 잔차를 모델로 예측\n",
    "            4. 반복\n",
    "    3. Random Permutation : 오버피팅을 방지하고 트리를 다각적으로 만들기 위해 데이터를 셔플링하여 사용\n",
    "    4. Ordered Target Encoding : 기존 Mean encoding 방법의 문제였던 예측값이 train set feature에 들어가는 Data Leakage에 대한 해결책으로 현재 데이터를 인코딩하기 위해 이전 데이터들의 인코딩된 값을 사용(자세한 방법은 위 링크에서 확인)\n",
    "    5. Categorical Feature Combinations : imfomation gain이 동일한 두 feature를 하나의 feature로 만들어 데이터 전처리할 때 feature selection 부담이 줄어든다.\n",
    "    6. One-hot Encoding : one_hot_max_size 파라미터 설정 가능. one_hot_max_size=3으로 설정한 경우 Cardeinality가 3이하인 범주형 변수들은 One-hot으로 인코딩\n",
    "    7. Optimaized Parameter tuning : 기본 파라미터가 기본적을 최적화가 잘 되어있어 파라미터 튜닝에 크게 신경쓰지 않아도 된다.\n",
    "    \n",
    "\n",
    "- 한계\n",
    "    * Sparse 한 Matrix 는 처리하지 못한다.\n",
    "    * 데이터 대부분이 수치형 변수인 경우, Light GBM 보다 학습 속도가 느리다. (즉 대부분이 범주형 변수인 경우 쓰라는 말)"
   ]
  },
  {
   "cell_type": "code",
   "execution_count": 19,
   "id": "460b909d",
   "metadata": {},
   "outputs": [],
   "source": [
    "cat = ['shop_id', 'item_id', 'city_id', 'cat_id', 'main_cat', 'sub_cat'] # 범주형 데이터 설정"
   ]
  },
  {
   "cell_type": "code",
   "execution_count": 20,
   "id": "ebcdbc6e",
   "metadata": {
    "scrolled": false
   },
   "outputs": [
    {
     "name": "stdout",
     "output_type": "stream",
     "text": [
      "0:\tlearn: 2.9829782\ttest: 2.9829087\ttest1: 2.0727873\tbest: 2.0727873 (0)\ttotal: 29.7s\tremaining: 8h 13m 50s\n",
      "1:\tlearn: 2.6738271\ttest: 2.6736067\ttest1: 1.7631846\tbest: 1.7631846 (1)\ttotal: 1m 3s\tremaining: 8h 51m 20s\n",
      "2:\tlearn: 2.4547981\ttest: 2.4547535\ttest1: 1.5643551\tbest: 1.5643551 (2)\ttotal: 1m 30s\tremaining: 8h 23m 47s\n",
      "3:\tlearn: 2.3052683\ttest: 2.3031917\ttest1: 1.5410962\tbest: 1.5410962 (3)\ttotal: 1m 58s\tremaining: 8h 12m 58s\n",
      "4:\tlearn: 2.1989597\ttest: 2.1965593\ttest1: 1.5477731\tbest: 1.5410962 (3)\ttotal: 2m 24s\tremaining: 7h 58m 19s\n",
      "5:\tlearn: 2.1468647\ttest: 2.1418947\ttest1: 1.5416942\tbest: 1.5410962 (3)\ttotal: 2m 51s\tremaining: 7h 54m 53s\n",
      "6:\tlearn: 2.0866519\ttest: 2.0810307\ttest1: 1.5713603\tbest: 1.5410962 (3)\ttotal: 3m 25s\tremaining: 8h 6m 11s\n",
      "7:\tlearn: 2.0163933\ttest: 2.0055357\ttest1: 1.5732886\tbest: 1.5410962 (3)\ttotal: 4m 8s\tremaining: 8h 33m 46s\n",
      "8:\tlearn: 1.9695853\ttest: 1.9570350\ttest1: 1.5720192\tbest: 1.5410962 (3)\ttotal: 4m 34s\tremaining: 8h 24m 24s\n",
      "9:\tlearn: 1.9453812\ttest: 1.9383330\ttest1: 1.5659595\tbest: 1.5410962 (3)\ttotal: 5m 5s\tremaining: 8h 23m 24s\n",
      "10:\tlearn: 1.9302861\ttest: 1.9270121\ttest1: 1.5604603\tbest: 1.5410962 (3)\ttotal: 5m 32s\tremaining: 8h 18m 43s\n",
      "11:\tlearn: 1.9131245\ttest: 1.9088355\ttest1: 1.5757177\tbest: 1.5410962 (3)\ttotal: 6m\tremaining: 8h 14m 8s\n",
      "12:\tlearn: 1.9033772\ttest: 1.9009239\ttest1: 1.5762297\tbest: 1.5410962 (3)\ttotal: 6m 30s\tremaining: 8h 13m 37s\n",
      "13:\tlearn: 1.8943946\ttest: 1.8912419\ttest1: 1.5803679\tbest: 1.5410962 (3)\ttotal: 7m 5s\tremaining: 8h 19m 2s\n",
      "14:\tlearn: 1.8668864\ttest: 1.8596626\ttest1: 1.5653578\tbest: 1.5410962 (3)\ttotal: 7m 35s\tremaining: 8h 18m 37s\n",
      "15:\tlearn: 1.8450377\ttest: 1.8386378\ttest1: 1.5696000\tbest: 1.5410962 (3)\ttotal: 8m 14s\tremaining: 8h 27m 16s\n",
      "16:\tlearn: 1.8314909\ttest: 1.8260512\ttest1: 1.5981249\tbest: 1.5410962 (3)\ttotal: 8m 43s\tremaining: 8h 24m 44s\n",
      "17:\tlearn: 1.8233909\ttest: 1.8231128\ttest1: 1.5948178\tbest: 1.5410962 (3)\ttotal: 9m 11s\tremaining: 8h 21m 47s\n",
      "18:\tlearn: 1.8171929\ttest: 1.8188138\ttest1: 1.5945350\tbest: 1.5410962 (3)\ttotal: 9m 37s\tremaining: 8h 16m 44s\n",
      "19:\tlearn: 1.8027101\ttest: 1.8044384\ttest1: 1.5833616\tbest: 1.5410962 (3)\ttotal: 10m 7s\tremaining: 8h 16m 15s\n",
      "20:\tlearn: 1.7936709\ttest: 1.7962066\ttest1: 1.5892575\tbest: 1.5410962 (3)\ttotal: 10m 33s\tremaining: 8h 12m 27s\n",
      "21:\tlearn: 1.7894203\ttest: 1.7923651\ttest1: 1.5835548\tbest: 1.5410962 (3)\ttotal: 10m 58s\tremaining: 8h 7m 39s\n",
      "22:\tlearn: 1.7815074\ttest: 1.7834291\ttest1: 1.5874961\tbest: 1.5410962 (3)\ttotal: 11m 22s\tremaining: 8h 3m 18s\n",
      "23:\tlearn: 1.7771230\ttest: 1.7819748\ttest1: 1.5871282\tbest: 1.5410962 (3)\ttotal: 11m 51s\tremaining: 8h 2m\n",
      "Stopped by overfitting detector  (20 iterations wait)\n",
      "\n",
      "bestTest = 1.541096225\n",
      "bestIteration = 3\n",
      "\n",
      "Shrink model to first 4 iterations.\n"
     ]
    },
    {
     "data": {
      "text/plain": [
       "<catboost.core.CatBoostRegressor at 0x2019e87c9d0>"
      ]
     },
     "execution_count": 20,
     "metadata": {},
     "output_type": "execute_result"
    }
   ],
   "source": [
    "model = CatBoostRegressor(\n",
    "    max_depth=10,              # 트리의 최대 깊이\n",
    "    n_estimators = 1000,       # 최대 트리 수\n",
    "    eta = 0.3,                 # 학습률 : 증감률을 줄이는데 사용\n",
    "    random_seed=1000           # 훈련에 사용되는 랜덤 시드\n",
    "    )\n",
    "\n",
    "model.fit(\n",
    "    X_train, Y_train, \n",
    "    eval_set=[(X_train, Y_train), (X_valid, Y_valid)],  # 유효성 검사 데이터 세트\n",
    "    cat_features=cat,                                   # 범주형 데이터 설정     \n",
    "    verbose=True,                                      # True : 상세로그수준 / False : 자동로그수준 / int : 상세로그수준을 사용, 매개변수로 로깅기간 사용 \n",
    "    early_stopping_rounds = 20                         # 반복횟수 설정\n",
    "    )"
   ]
  },
  {
   "cell_type": "code",
   "execution_count": 21,
   "id": "60a5562b",
   "metadata": {},
   "outputs": [],
   "source": [
    "Y_pred = model.predict(X_valid)"
   ]
  },
  {
   "cell_type": "code",
   "execution_count": 22,
   "id": "d6b13a5b",
   "metadata": {},
   "outputs": [
    {
     "data": {
      "image/png": "[encoded data removed]",
      "text/plain": [
       "<Figure size 1800x360 with 1 Axes>"
      ]
     },
     "metadata": {
      "needs_background": "light"
     },
     "output_type": "display_data"
    }
   ],
   "source": [
    "submission = pd.DataFrame({\n",
    "    \"ID\": X_valid.index, \n",
    "    \"item_cnt_month\": Y_pred\n",
    "})\n",
    "x = submission['ID'].head(200)\n",
    "y_pred = submission['item_cnt_month'].head(200)\n",
    "y_true = Y_valid.head(200)\n",
    "fig = plt.figure(figsize=(25, 5))\n",
    "ax = fig.add_subplot(111)\n",
    "ax.plot(x, y_pred, label = 'predictive value', color = 'red')\n",
    "ax.plot(x, y_true, label = 'actual value', color = 'green')\n",
    "\n",
    "ax.legend()\n",
    "\n",
    "plt.show()"
   ]
  },
  {
   "cell_type": "code",
   "execution_count": 23,
   "id": "ffb95d0f",
   "metadata": {},
   "outputs": [],
   "source": [
    "Y_test = model.predict(X_test)"
   ]
  },
  {
   "cell_type": "code",
   "execution_count": 24,
   "id": "66bd7c48",
   "metadata": {},
   "outputs": [],
   "source": [
    "# 제출 파일 생성\n",
    "submission = pd.DataFrame({\n",
    "    \"ID\": test.index, \n",
    "    \"item_cnt_month\": Y_test\n",
    "})\n",
    "submission.to_csv('submission_CatBoost_2022022401.csv', index=False)"
   ]
  }
 ],
 "metadata": {
  "kernelspec": {
   "display_name": "Python 3 (ipykernel)",
   "language": "python",
   "name": "python3"
  },
  "language_info": {
   "codemirror_mode": {
    "name": "ipython",
    "version": 3
   },
   "file_extension": ".py",
   "mimetype": "text/x-python",
   "name": "python",
   "nbconvert_exporter": "python",
   "pygments_lexer": "ipython3",
   "version": "3.9.7"
  }
 },
 "nbformat": 4,
 "nbformat_minor": 5
}
