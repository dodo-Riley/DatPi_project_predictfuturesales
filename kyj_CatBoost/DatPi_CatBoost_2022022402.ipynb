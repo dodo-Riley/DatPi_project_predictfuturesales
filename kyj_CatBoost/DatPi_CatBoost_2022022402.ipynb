{
 "cells": [
  {
   "cell_type": "code",
   "execution_count": 1,
   "id": "a085d4f2",
   "metadata": {
    "scrolled": true
   },
   "outputs": [],
   "source": [
    "#!pip install catboost"
   ]
  },
  {
   "cell_type": "code",
   "execution_count": 2,
   "id": "efa63dd0",
   "metadata": {},
   "outputs": [],
   "source": [
    "import numpy as np\n",
    "import pandas as pd\n",
    "import matplotlib.pyplot as plt\n",
    "%matplotlib inline\n",
    "\n",
    "import time\n",
    "from catboost import Pool\n",
    "from catboost import CatBoostRegressor\n",
    "from sklearn.metrics import mean_squared_error\n",
    "from sklearn.linear_model import LinearRegression\n",
    "from sklearn.neighbors import KNeighborsRegressor\n",
    "from sklearn.ensemble import RandomForestRegressor\n",
    "from sklearn.preprocessing import StandardScaler, MinMaxScaler"
   ]
  },
  {
   "cell_type": "code",
   "execution_count": 3,
   "id": "93c3478d",
   "metadata": {},
   "outputs": [],
   "source": [
    "test = pd.read_csv('./data/test.csv')"
   ]
  },
  {
   "cell_type": "code",
   "execution_count": 4,
   "id": "f009f92b",
   "metadata": {},
   "outputs": [],
   "source": [
    "df = pd.read_pickle('./data/data_1.pkl')"
   ]
  },
  {
   "cell_type": "code",
   "execution_count": 5,
   "id": "9bb7f4fb",
   "metadata": {},
   "outputs": [
    {
     "name": "stdout",
     "output_type": "stream",
     "text": [
      "<class 'pandas.core.frame.DataFrame'>\n",
      "Int64Index: 8032887 entries, 827691 to 8860577\n",
      "Data columns (total 29 columns):\n",
      " #   Column                      Dtype  \n",
      "---  ------                      -----  \n",
      " 0   month_id                    int8   \n",
      " 1   shop_id                     int8   \n",
      " 2   item_id                     int16  \n",
      " 3   cnt_month                   float32\n",
      " 4   city_id                     int8   \n",
      " 5   cat_id                      int8   \n",
      " 6   main_cat                    int8   \n",
      " 7   sub_cat                     int8   \n",
      " 8   year                        int16  \n",
      " 9   month                       int8   \n",
      " 10  sales_month                 int8   \n",
      " 11  cnt_month_1                 float32\n",
      " 12  cnt_month_2                 float32\n",
      " 13  cnt_month_3                 float32\n",
      " 14  item_id_mean_cnt_1          float32\n",
      " 15  item_id_mean_cnt_2          float32\n",
      " 16  item_id_mean_cnt_3          float32\n",
      " 17  sub_cat_mean_cnt_1          float32\n",
      " 18  sub_cat_mean_cnt_2          float32\n",
      " 19  sub_cat_mean_cnt_3          float32\n",
      " 20  price_mean_mean_cnt_1       float32\n",
      " 21  price_mean_mean_cnt_2       float32\n",
      " 22  price_mean_mean_cnt_3       float32\n",
      " 23  item_id/city_id_mean_cnt_1  float32\n",
      " 24  item_id/city_id_mean_cnt_2  float32\n",
      " 25  item_id/city_id_mean_cnt_3  float32\n",
      " 26  shop_id/cat_id_mean_cnt_1   float32\n",
      " 27  shop_id/cat_id_mean_cnt_2   float32\n",
      " 28  shop_id/cat_id_mean_cnt_3   float32\n",
      "dtypes: float32(19), int16(2), int8(8)\n",
      "memory usage: 735.4 MB\n"
     ]
    }
   ],
   "source": [
    "df.info()"
   ]
  },
  {
   "cell_type": "code",
   "execution_count": 6,
   "id": "2eb80d0e",
   "metadata": {},
   "outputs": [
    {
     "data": {
      "text/html": [
       "<div>\n",
       "<style scoped>\n",
       "    .dataframe tbody tr th:only-of-type {\n",
       "        vertical-align: middle;\n",
       "    }\n",
       "\n",
       "    .dataframe tbody tr th {\n",
       "        vertical-align: top;\n",
       "    }\n",
       "\n",
       "    .dataframe thead th {\n",
       "        text-align: right;\n",
       "    }\n",
       "</style>\n",
       "<table border=\"1\" class=\"dataframe\">\n",
       "  <thead>\n",
       "    <tr style=\"text-align: right;\">\n",
       "      <th></th>\n",
       "      <th>month_id</th>\n",
       "      <th>shop_id</th>\n",
       "      <th>item_id</th>\n",
       "      <th>cnt_month</th>\n",
       "      <th>city_id</th>\n",
       "      <th>cat_id</th>\n",
       "      <th>main_cat</th>\n",
       "      <th>sub_cat</th>\n",
       "      <th>year</th>\n",
       "      <th>month</th>\n",
       "      <th>...</th>\n",
       "      <th>sub_cat_mean_cnt_3</th>\n",
       "      <th>price_mean_mean_cnt_1</th>\n",
       "      <th>price_mean_mean_cnt_2</th>\n",
       "      <th>price_mean_mean_cnt_3</th>\n",
       "      <th>item_id/city_id_mean_cnt_1</th>\n",
       "      <th>item_id/city_id_mean_cnt_2</th>\n",
       "      <th>item_id/city_id_mean_cnt_3</th>\n",
       "      <th>shop_id/cat_id_mean_cnt_1</th>\n",
       "      <th>shop_id/cat_id_mean_cnt_2</th>\n",
       "      <th>shop_id/cat_id_mean_cnt_3</th>\n",
       "    </tr>\n",
       "  </thead>\n",
       "  <tbody>\n",
       "    <tr>\n",
       "      <th>827691</th>\n",
       "      <td>3</td>\n",
       "      <td>25</td>\n",
       "      <td>8092</td>\n",
       "      <td>3.0</td>\n",
       "      <td>13</td>\n",
       "      <td>40</td>\n",
       "      <td>11</td>\n",
       "      <td>6</td>\n",
       "      <td>2013</td>\n",
       "      <td>4</td>\n",
       "      <td>...</td>\n",
       "      <td>0.0</td>\n",
       "      <td>1.400024</td>\n",
       "      <td>1.365631</td>\n",
       "      <td>0.0</td>\n",
       "      <td>1.000000</td>\n",
       "      <td>2.142857</td>\n",
       "      <td>0.0</td>\n",
       "      <td>1.087262</td>\n",
       "      <td>1.048394</td>\n",
       "      <td>0.0</td>\n",
       "    </tr>\n",
       "    <tr>\n",
       "      <th>827692</th>\n",
       "      <td>3</td>\n",
       "      <td>25</td>\n",
       "      <td>7850</td>\n",
       "      <td>3.0</td>\n",
       "      <td>13</td>\n",
       "      <td>30</td>\n",
       "      <td>8</td>\n",
       "      <td>54</td>\n",
       "      <td>2013</td>\n",
       "      <td>4</td>\n",
       "      <td>...</td>\n",
       "      <td>0.0</td>\n",
       "      <td>1.479122</td>\n",
       "      <td>1.464680</td>\n",
       "      <td>0.0</td>\n",
       "      <td>3.714286</td>\n",
       "      <td>2.285714</td>\n",
       "      <td>0.0</td>\n",
       "      <td>3.651685</td>\n",
       "      <td>2.276650</td>\n",
       "      <td>0.0</td>\n",
       "    </tr>\n",
       "    <tr>\n",
       "      <th>827693</th>\n",
       "      <td>3</td>\n",
       "      <td>25</td>\n",
       "      <td>8051</td>\n",
       "      <td>3.0</td>\n",
       "      <td>13</td>\n",
       "      <td>66</td>\n",
       "      <td>14</td>\n",
       "      <td>47</td>\n",
       "      <td>2013</td>\n",
       "      <td>4</td>\n",
       "      <td>...</td>\n",
       "      <td>0.0</td>\n",
       "      <td>0.000000</td>\n",
       "      <td>0.000000</td>\n",
       "      <td>0.0</td>\n",
       "      <td>0.000000</td>\n",
       "      <td>0.428571</td>\n",
       "      <td>0.0</td>\n",
       "      <td>1.827586</td>\n",
       "      <td>1.389474</td>\n",
       "      <td>0.0</td>\n",
       "    </tr>\n",
       "    <tr>\n",
       "      <th>827694</th>\n",
       "      <td>3</td>\n",
       "      <td>25</td>\n",
       "      <td>8088</td>\n",
       "      <td>1.0</td>\n",
       "      <td>13</td>\n",
       "      <td>55</td>\n",
       "      <td>13</td>\n",
       "      <td>4</td>\n",
       "      <td>2013</td>\n",
       "      <td>4</td>\n",
       "      <td>...</td>\n",
       "      <td>0.0</td>\n",
       "      <td>1.479122</td>\n",
       "      <td>0.000000</td>\n",
       "      <td>0.0</td>\n",
       "      <td>0.285714</td>\n",
       "      <td>0.000000</td>\n",
       "      <td>0.0</td>\n",
       "      <td>0.598291</td>\n",
       "      <td>0.562107</td>\n",
       "      <td>0.0</td>\n",
       "    </tr>\n",
       "    <tr>\n",
       "      <th>827695</th>\n",
       "      <td>3</td>\n",
       "      <td>25</td>\n",
       "      <td>8089</td>\n",
       "      <td>1.0</td>\n",
       "      <td>13</td>\n",
       "      <td>55</td>\n",
       "      <td>13</td>\n",
       "      <td>4</td>\n",
       "      <td>2013</td>\n",
       "      <td>4</td>\n",
       "      <td>...</td>\n",
       "      <td>0.0</td>\n",
       "      <td>0.000000</td>\n",
       "      <td>0.000000</td>\n",
       "      <td>0.0</td>\n",
       "      <td>0.571429</td>\n",
       "      <td>0.000000</td>\n",
       "      <td>0.0</td>\n",
       "      <td>0.598291</td>\n",
       "      <td>0.562107</td>\n",
       "      <td>0.0</td>\n",
       "    </tr>\n",
       "  </tbody>\n",
       "</table>\n",
       "<p>5 rows × 29 columns</p>\n",
       "</div>"
      ],
      "text/plain": [
       "        month_id  shop_id  item_id  cnt_month  city_id  cat_id  main_cat  \\\n",
       "827691         3       25     8092        3.0       13      40        11   \n",
       "827692         3       25     7850        3.0       13      30         8   \n",
       "827693         3       25     8051        3.0       13      66        14   \n",
       "827694         3       25     8088        1.0       13      55        13   \n",
       "827695         3       25     8089        1.0       13      55        13   \n",
       "\n",
       "        sub_cat  year  month  ...  sub_cat_mean_cnt_3  price_mean_mean_cnt_1  \\\n",
       "827691        6  2013      4  ...                 0.0               1.400024   \n",
       "827692       54  2013      4  ...                 0.0               1.479122   \n",
       "827693       47  2013      4  ...                 0.0               0.000000   \n",
       "827694        4  2013      4  ...                 0.0               1.479122   \n",
       "827695        4  2013      4  ...                 0.0               0.000000   \n",
       "\n",
       "        price_mean_mean_cnt_2  price_mean_mean_cnt_3  \\\n",
       "827691               1.365631                    0.0   \n",
       "827692               1.464680                    0.0   \n",
       "827693               0.000000                    0.0   \n",
       "827694               0.000000                    0.0   \n",
       "827695               0.000000                    0.0   \n",
       "\n",
       "        item_id/city_id_mean_cnt_1  item_id/city_id_mean_cnt_2  \\\n",
       "827691                    1.000000                    2.142857   \n",
       "827692                    3.714286                    2.285714   \n",
       "827693                    0.000000                    0.428571   \n",
       "827694                    0.285714                    0.000000   \n",
       "827695                    0.571429                    0.000000   \n",
       "\n",
       "        item_id/city_id_mean_cnt_3  shop_id/cat_id_mean_cnt_1  \\\n",
       "827691                         0.0                   1.087262   \n",
       "827692                         0.0                   3.651685   \n",
       "827693                         0.0                   1.827586   \n",
       "827694                         0.0                   0.598291   \n",
       "827695                         0.0                   0.598291   \n",
       "\n",
       "        shop_id/cat_id_mean_cnt_2  shop_id/cat_id_mean_cnt_3  \n",
       "827691                   1.048394                        0.0  \n",
       "827692                   2.276650                        0.0  \n",
       "827693                   1.389474                        0.0  \n",
       "827694                   0.562107                        0.0  \n",
       "827695                   0.562107                        0.0  \n",
       "\n",
       "[5 rows x 29 columns]"
      ]
     },
     "execution_count": 6,
     "metadata": {},
     "output_type": "execute_result"
    }
   ],
   "source": [
    "df.head()"
   ]
  },
  {
   "cell_type": "code",
   "execution_count": 7,
   "id": "7406936f",
   "metadata": {},
   "outputs": [],
   "source": [
    "# train/validation/test data split\n",
    "X_train = df[df['month_id'] < 33].drop(['cnt_month'], axis=1)\n",
    "Y_train = df[df['month_id'] < 33]['cnt_month']\n",
    "\n",
    "X_valid = df[df['month_id'] == 33].drop(['cnt_month'], axis=1)\n",
    "Y_valid = df[df['month_id'] == 33]['cnt_month']\n",
    "\n",
    "X_test = df[df['month_id'] == 34].drop(['cnt_month'], axis=1)"
   ]
  },
  {
   "cell_type": "code",
   "execution_count": 8,
   "id": "e280076d",
   "metadata": {},
   "outputs": [
    {
     "data": {
      "text/plain": [
       "((221802,), (214200, 28))"
      ]
     },
     "execution_count": 8,
     "metadata": {},
     "output_type": "execute_result"
    }
   ],
   "source": [
    "Y_valid.shape, X_test.shape"
   ]
  },
  {
   "cell_type": "code",
   "execution_count": 9,
   "id": "7c5da5ff",
   "metadata": {
    "scrolled": false
   },
   "outputs": [
    {
     "name": "stdout",
     "output_type": "stream",
     "text": [
      "0:\tlearn: 2.9830265\ttest: 2.9830265\ttest1: 2.0481177\tbest: 2.0481177 (0)\ttotal: 2.71s\tremaining: 45m 10s\n",
      "1:\tlearn: 2.7066108\ttest: 2.7066108\ttest1: 1.7436045\tbest: 1.7436045 (1)\ttotal: 5.32s\tremaining: 44m 15s\n",
      "2:\tlearn: 2.5116015\ttest: 2.5116015\ttest1: 1.6010193\tbest: 1.6010193 (2)\ttotal: 7.98s\tremaining: 44m 13s\n",
      "3:\tlearn: 2.3769164\ttest: 2.3769164\ttest1: 1.5017412\tbest: 1.5017412 (3)\ttotal: 10.8s\tremaining: 44m 58s\n",
      "4:\tlearn: 2.2880706\ttest: 2.2880706\ttest1: 1.4633217\tbest: 1.4633217 (4)\ttotal: 13.7s\tremaining: 45m 21s\n",
      "5:\tlearn: 2.2340764\ttest: 2.2340764\ttest1: 1.4531286\tbest: 1.4531286 (5)\ttotal: 16.5s\tremaining: 45m 40s\n",
      "6:\tlearn: 2.1801907\ttest: 2.1801907\ttest1: 1.5060245\tbest: 1.4531286 (5)\ttotal: 19.4s\tremaining: 45m 51s\n",
      "7:\tlearn: 2.1556633\ttest: 2.1556633\ttest1: 1.4972515\tbest: 1.4531286 (5)\ttotal: 22.3s\tremaining: 46m 1s\n",
      "8:\tlearn: 2.1285579\ttest: 2.1285579\ttest1: 1.4923003\tbest: 1.4531286 (5)\ttotal: 25.1s\tremaining: 46m\n",
      "9:\tlearn: 2.0999552\ttest: 2.0999552\ttest1: 1.4997953\tbest: 1.4531286 (5)\ttotal: 28.1s\tremaining: 46m 18s\n",
      "10:\tlearn: 2.0786197\ttest: 2.0786197\ttest1: 1.5022826\tbest: 1.4531286 (5)\ttotal: 31.1s\tremaining: 46m 32s\n",
      "11:\tlearn: 2.0673252\ttest: 2.0673252\ttest1: 1.4968935\tbest: 1.4531286 (5)\ttotal: 34.1s\tremaining: 46m 49s\n",
      "12:\tlearn: 2.0568073\ttest: 2.0568073\ttest1: 1.5045920\tbest: 1.4531286 (5)\ttotal: 37.3s\tremaining: 47m 12s\n",
      "13:\tlearn: 2.0378996\ttest: 2.0378996\ttest1: 1.5104334\tbest: 1.4531286 (5)\ttotal: 40.4s\tremaining: 47m 25s\n",
      "14:\tlearn: 2.0144136\ttest: 2.0144136\ttest1: 1.5251987\tbest: 1.4531286 (5)\ttotal: 43.5s\tremaining: 47m 36s\n",
      "15:\tlearn: 2.0056294\ttest: 2.0056294\ttest1: 1.5305600\tbest: 1.4531286 (5)\ttotal: 46.7s\tremaining: 47m 52s\n",
      "16:\tlearn: 1.9846879\ttest: 1.9846879\ttest1: 1.5637977\tbest: 1.4531286 (5)\ttotal: 50s\tremaining: 48m 10s\n",
      "17:\tlearn: 1.9651645\ttest: 1.9651645\ttest1: 1.5866411\tbest: 1.4531286 (5)\ttotal: 53.5s\tremaining: 48m 39s\n",
      "18:\tlearn: 1.9316366\ttest: 1.9316366\ttest1: 1.5785756\tbest: 1.4531286 (5)\ttotal: 57.1s\tremaining: 49m 9s\n",
      "19:\tlearn: 1.9237446\ttest: 1.9237446\ttest1: 1.5804039\tbest: 1.4531286 (5)\ttotal: 1m\tremaining: 49m 21s\n",
      "20:\tlearn: 1.9178060\ttest: 1.9178060\ttest1: 1.5794840\tbest: 1.4531286 (5)\ttotal: 1m 3s\tremaining: 49m 32s\n",
      "21:\tlearn: 1.9034049\ttest: 1.9034049\ttest1: 1.5817751\tbest: 1.4531286 (5)\ttotal: 1m 6s\tremaining: 49m 34s\n",
      "22:\tlearn: 1.8992171\ttest: 1.8992171\ttest1: 1.5762927\tbest: 1.4531286 (5)\ttotal: 1m 10s\tremaining: 49m 38s\n",
      "23:\tlearn: 1.8947570\ttest: 1.8947570\ttest1: 1.6066534\tbest: 1.4531286 (5)\ttotal: 1m 13s\tremaining: 49m 37s\n",
      "24:\tlearn: 1.8886531\ttest: 1.8886531\ttest1: 1.6016686\tbest: 1.4531286 (5)\ttotal: 1m 16s\tremaining: 49m 36s\n",
      "25:\tlearn: 1.8788222\ttest: 1.8788222\ttest1: 1.5805067\tbest: 1.4531286 (5)\ttotal: 1m 19s\tremaining: 49m 30s\n",
      "26:\tlearn: 1.8731343\ttest: 1.8731343\ttest1: 1.5755164\tbest: 1.4531286 (5)\ttotal: 1m 22s\tremaining: 49m 25s\n",
      "27:\tlearn: 1.8619204\ttest: 1.8619204\ttest1: 1.5778308\tbest: 1.4531286 (5)\ttotal: 1m 25s\tremaining: 49m 24s\n",
      "28:\tlearn: 1.8550670\ttest: 1.8550670\ttest1: 1.5770101\tbest: 1.4531286 (5)\ttotal: 1m 28s\tremaining: 49m 19s\n",
      "29:\tlearn: 1.8496539\ttest: 1.8496539\ttest1: 1.5741691\tbest: 1.4531286 (5)\ttotal: 1m 31s\tremaining: 49m 16s\n",
      "30:\tlearn: 1.8457519\ttest: 1.8457519\ttest1: 1.5993744\tbest: 1.4531286 (5)\ttotal: 1m 34s\tremaining: 49m 14s\n",
      "31:\tlearn: 1.8391196\ttest: 1.8391196\ttest1: 1.6071118\tbest: 1.4531286 (5)\ttotal: 1m 37s\tremaining: 49m 8s\n",
      "32:\tlearn: 1.8364556\ttest: 1.8364556\ttest1: 1.6080444\tbest: 1.4531286 (5)\ttotal: 1m 40s\tremaining: 49m 14s\n",
      "33:\tlearn: 1.8351924\ttest: 1.8351924\ttest1: 1.6103558\tbest: 1.4531286 (5)\ttotal: 1m 44s\tremaining: 49m 16s\n",
      "34:\tlearn: 1.8281609\ttest: 1.8281609\ttest1: 1.6024912\tbest: 1.4531286 (5)\ttotal: 1m 47s\tremaining: 49m 16s\n",
      "35:\tlearn: 1.8243054\ttest: 1.8243054\ttest1: 1.6013675\tbest: 1.4531286 (5)\ttotal: 1m 50s\tremaining: 49m 12s\n",
      "Stopped by overfitting detector  (30 iterations wait)\n",
      "\n",
      "bestTest = 1.453128578\n",
      "bestIteration = 5\n",
      "\n",
      "Shrink model to first 6 iterations.\n"
     ]
    },
    {
     "data": {
      "text/plain": [
       "<catboost.core.CatBoostRegressor at 0x1c521481d90>"
      ]
     },
     "execution_count": 9,
     "metadata": {},
     "output_type": "execute_result"
    }
   ],
   "source": [
    "model = CatBoostRegressor(\n",
    "    max_depth=10,              # 트리의 최대 깊이\n",
    "    n_estimators = 1000,       # 최대 트리 수\n",
    "    eta = 0.3,                 # 학습률 : 증감률을 줄이는데 사용\n",
    "    random_seed=123           # 훈련에 사용되는 랜덤 시드\n",
    "    )\n",
    "\n",
    "model.fit(\n",
    "    X_train, Y_train, \n",
    "    eval_set=[(X_train, Y_train), (X_valid, Y_valid)],  # 유효성 검사 데이터 세트\n",
    "    cat_features=[],                                   # 범주형 데이터 설정     \n",
    "    verbose=True,                                      # True : 상세로그수준 / False : 자동로그수준 / int : 상세로그수준을 사용, 매개변수로 로깅기간 사용 \n",
    "    early_stopping_rounds = 30                         # 반복횟수 설정\n",
    "    )"
   ]
  },
  {
   "cell_type": "code",
   "execution_count": 10,
   "id": "3935ce76",
   "metadata": {},
   "outputs": [],
   "source": [
    "Y_pred = model.predict(X_valid)"
   ]
  },
  {
   "cell_type": "code",
   "execution_count": 11,
   "id": "ac5d6338",
   "metadata": {},
   "outputs": [
    {
     "data": {
      "image/png": "[encoded data removed]",
      "text/plain": [
       "<Figure size 1800x360 with 1 Axes>"
      ]
     },
     "metadata": {
      "needs_background": "light"
     },
     "output_type": "display_data"
    }
   ],
   "source": [
    "submission = pd.DataFrame({\n",
    "    \"ID\": X_valid.index, \n",
    "    \"item_cnt_month\": Y_pred\n",
    "})\n",
    "x = submission['ID'].head(200)\n",
    "y_pred = submission['item_cnt_month'].head(200)\n",
    "y_true = Y_valid.head(200)\n",
    "fig = plt.figure(figsize=(25, 5))\n",
    "ax = fig.add_subplot(111)\n",
    "ax.plot(x, y_pred, label = 'predictive value', color = 'red')\n",
    "ax.plot(x, y_true, label = 'actual value', color = 'green')\n",
    "\n",
    "ax.legend()\n",
    "\n",
    "plt.show()"
   ]
  },
  {
   "cell_type": "code",
   "execution_count": 12,
   "id": "70ffc8d3",
   "metadata": {},
   "outputs": [],
   "source": [
    "Y_test = model.predict(X_test)"
   ]
  },
  {
   "cell_type": "code",
   "execution_count": 13,
   "id": "dd922bda",
   "metadata": {},
   "outputs": [],
   "source": [
    "# 제출 파일 생성\n",
    "submission = pd.DataFrame({\n",
    "    \"ID\": test.index, \n",
    "    \"item_cnt_month\": Y_test\n",
    "})\n",
    "submission.to_csv('./submission/submission_CatBoost_2022022402.csv', index=False)"
   ]
  }
 ],
 "metadata": {
  "kernelspec": {
   "display_name": "Python 3 (ipykernel)",
   "language": "python",
   "name": "python3"
  },
  "language_info": {
   "codemirror_mode": {
    "name": "ipython",
    "version": 3
   },
   "file_extension": ".py",
   "mimetype": "text/x-python",
   "name": "python",
   "nbconvert_exporter": "python",
   "pygments_lexer": "ipython3",
   "version": "3.9.7"
  }
 },
 "nbformat": 4,
 "nbformat_minor": 5
}
