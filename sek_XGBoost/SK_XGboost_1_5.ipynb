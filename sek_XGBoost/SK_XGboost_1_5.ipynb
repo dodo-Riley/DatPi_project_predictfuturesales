{
 "cells": [
  {
   "cell_type": "markdown",
   "metadata": {},
   "source": [
    "getting ready\n",
    "https://xgboost.readthedocs.io/en/latest/python/python_intro.html#training"
   ]
  },
  {
   "cell_type": "code",
   "execution_count": 1,
   "metadata": {},
   "outputs": [],
   "source": [
    "import numpy as np\n",
    "import pandas as pd\n",
    "import matplotlib.pyplot as plt\n",
    "import seaborn as sns\n",
    "import time\n",
    "from xgboost import XGBRegressor\n",
    "import xgboost as xgb\n",
    "from sklearn.metrics import mean_squared_error\n",
    "\n",
    "import time"
   ]
  },
  {
   "cell_type": "code",
   "execution_count": 2,
   "metadata": {},
   "outputs": [
    {
     "name": "stdout",
     "output_type": "stream",
     "text": [
      "<class 'pandas.core.frame.DataFrame'>\n",
      "Int64Index: 8032887 entries, 827691 to 8860577\n",
      "Data columns (total 29 columns):\n",
      " #   Column                      Dtype  \n",
      "---  ------                      -----  \n",
      " 0   month_id                    int8   \n",
      " 1   shop_id                     int8   \n",
      " 2   item_id                     int16  \n",
      " 3   cnt_month                   float32\n",
      " 4   city_id                     int8   \n",
      " 5   cat_id                      int8   \n",
      " 6   main_cat                    int8   \n",
      " 7   sub_cat                     int8   \n",
      " 8   year                        int16  \n",
      " 9   month                       int8   \n",
      " 10  sales_month                 int8   \n",
      " 11  cnt_month_1                 float32\n",
      " 12  cnt_month_2                 float32\n",
      " 13  cnt_month_3                 float32\n",
      " 14  item_id_mean_cnt_1          float32\n",
      " 15  item_id_mean_cnt_2          float32\n",
      " 16  item_id_mean_cnt_3          float32\n",
      " 17  sub_cat_mean_cnt_1          float32\n",
      " 18  sub_cat_mean_cnt_2          float32\n",
      " 19  sub_cat_mean_cnt_3          float32\n",
      " 20  price_mean_mean_cnt_1       float32\n",
      " 21  price_mean_mean_cnt_2       float32\n",
      " 22  price_mean_mean_cnt_3       float32\n",
      " 23  item_id/city_id_mean_cnt_1  float32\n",
      " 24  item_id/city_id_mean_cnt_2  float32\n",
      " 25  item_id/city_id_mean_cnt_3  float32\n",
      " 26  shop_id/cat_id_mean_cnt_1   float32\n",
      " 27  shop_id/cat_id_mean_cnt_2   float32\n",
      " 28  shop_id/cat_id_mean_cnt_3   float32\n",
      "dtypes: float32(19), int16(2), int8(8)\n",
      "memory usage: 735.4 MB\n"
     ]
    }
   ],
   "source": [
    "data = pd.read_pickle('./data/data_1.pkl')\n",
    "data.info()"
   ]
  },
  {
   "cell_type": "code",
   "execution_count": 3,
   "metadata": {},
   "outputs": [],
   "source": [
    "DATA = data.copy()"
   ]
  },
  {
   "cell_type": "code",
   "execution_count": 4,
   "metadata": {},
   "outputs": [
    {
     "data": {
      "text/plain": [
       "Index(['month_id', 'shop_id', 'item_id', 'cnt_month', 'city_id', 'cat_id',\n",
       "       'main_cat', 'sub_cat', 'year', 'month', 'sales_month', 'cnt_month_1',\n",
       "       'cnt_month_2', 'cnt_month_3', 'item_id_mean_cnt_1',\n",
       "       'item_id_mean_cnt_2', 'item_id_mean_cnt_3', 'sub_cat_mean_cnt_1',\n",
       "       'sub_cat_mean_cnt_2', 'sub_cat_mean_cnt_3', 'price_mean_mean_cnt_1',\n",
       "       'price_mean_mean_cnt_2', 'price_mean_mean_cnt_3',\n",
       "       'item_id/city_id_mean_cnt_1', 'item_id/city_id_mean_cnt_2',\n",
       "       'item_id/city_id_mean_cnt_3', 'shop_id/cat_id_mean_cnt_1',\n",
       "       'shop_id/cat_id_mean_cnt_2', 'shop_id/cat_id_mean_cnt_3'],\n",
       "      dtype='object')"
      ]
     },
     "execution_count": 4,
     "metadata": {},
     "output_type": "execute_result"
    }
   ],
   "source": [
    "data.columns"
   ]
  },
  {
   "cell_type": "code",
   "execution_count": 5,
   "metadata": {},
   "outputs": [],
   "source": [
    "# plt.figure(figsize=(10,8))\n",
    "# sns.heatmap(data.corr(), vmin=-1, vmax=1, annot=True, cmap=\"cubehelix_r\")\n",
    "# plt.show()"
   ]
  },
  {
   "cell_type": "markdown",
   "metadata": {},
   "source": [
    "target (count) clip"
   ]
  },
  {
   "cell_type": "code",
   "execution_count": 6,
   "metadata": {},
   "outputs": [],
   "source": [
    "#cnt clip \n",
    "data[['cnt_month','cnt_month_1','cnt_month_2','cnt_month_3']]=data[['cnt_month','cnt_month_1','cnt_month_2','cnt_month_3']].clip(0,20)\n"
   ]
  },
  {
   "cell_type": "code",
   "execution_count": 7,
   "metadata": {},
   "outputs": [],
   "source": [
    "# train/validation/test data split, target clip\n",
    "X_train = data[data['month_id'] < 34].drop(['cnt_month'], axis=1)\n",
    "y_train = data[data['month_id'] < 34]['cnt_month']\n",
    "\n",
    "X_test = data[data['month_id'] == 34].drop(['cnt_month'], axis=1)"
   ]
  },
  {
   "cell_type": "code",
   "execution_count": 8,
   "metadata": {},
   "outputs": [
    {
     "data": {
      "text/plain": [
       "((7818687, 28), (7818687,), (214200, 28))"
      ]
     },
     "execution_count": 8,
     "metadata": {},
     "output_type": "execute_result"
    }
   ],
   "source": [
    "X_train.shape, y_train.shape,X_test.shape"
   ]
  },
  {
   "cell_type": "code",
   "execution_count": 9,
   "metadata": {},
   "outputs": [],
   "source": [
    "cat = ['shop_id', 'city_id', 'cat_id', 'main_cat', 'sub_cat']"
   ]
  },
  {
   "cell_type": "code",
   "execution_count": 7,
   "metadata": {},
   "outputs": [
    {
     "ename": "NameError",
     "evalue": "name 'XGBRegressor' is not defined",
     "output_type": "error",
     "traceback": [
      "\u001b[1;31m---------------------------------------------------------------------------\u001b[0m",
      "\u001b[1;31mNameError\u001b[0m                                 Traceback (most recent call last)",
      "\u001b[1;32m~\\AppData\\Local\\Temp/ipykernel_19020/2840681186.py\u001b[0m in \u001b[0;36m<module>\u001b[1;34m\u001b[0m\n\u001b[1;32m----> 1\u001b[1;33m \u001b[0mxgb_model\u001b[0m \u001b[1;33m=\u001b[0m \u001b[0mXGBRegressor\u001b[0m\u001b[1;33m(\u001b[0m\u001b[0mmax_depth\u001b[0m\u001b[1;33m=\u001b[0m\u001b[1;36m8\u001b[0m\u001b[1;33m)\u001b[0m\u001b[1;33m\u001b[0m\u001b[1;33m\u001b[0m\u001b[0m\n\u001b[0m",
      "\u001b[1;31mNameError\u001b[0m: name 'XGBRegressor' is not defined"
     ]
    }
   ],
   "source": [
    "xgb_model = XGBRegressor(max_depth=8)"
   ]
  },
  {
   "cell_type": "code",
   "execution_count": 11,
   "metadata": {},
   "outputs": [
    {
     "name": "stdout",
     "output_type": "stream",
     "text": [
      "[0]\tvalidation_0-rmse:1.08719\n",
      "[10]\tvalidation_0-rmse:0.86098\n",
      "[20]\tvalidation_0-rmse:0.83646\n",
      "[30]\tvalidation_0-rmse:0.82101\n",
      "[40]\tvalidation_0-rmse:0.80961\n",
      "[50]\tvalidation_0-rmse:0.80114\n",
      "[60]\tvalidation_0-rmse:0.78968\n",
      "[70]\tvalidation_0-rmse:0.78334\n",
      "[80]\tvalidation_0-rmse:0.77825\n",
      "[90]\tvalidation_0-rmse:0.77349\n",
      "[99]\tvalidation_0-rmse:0.77069\n"
     ]
    },
    {
     "data": {
      "text/plain": [
       "XGBRegressor(base_score=0.5, booster='gbtree', colsample_bylevel=1,\n",
       "             colsample_bynode=1, colsample_bytree=1, enable_categorical=False,\n",
       "             gamma=0, gpu_id=-1, importance_type=None,\n",
       "             interaction_constraints='', learning_rate=0.300000012,\n",
       "             max_delta_step=0, max_depth=8, min_child_weight=1, missing=nan,\n",
       "             monotone_constraints='()', n_estimators=100, n_jobs=4,\n",
       "             num_parallel_tree=1, predictor='auto', random_state=0, reg_alpha=0,\n",
       "             reg_lambda=1, scale_pos_weight=1, subsample=1,\n",
       "             tree_method='approx', validate_parameters=1, verbosity=None)"
      ]
     },
     "execution_count": 11,
     "metadata": {},
     "output_type": "execute_result"
    }
   ],
   "source": [
    "start = time.time()\n",
    "xgb_model.fit(X_train, \n",
    "              y_train, \n",
    "              eval_metric=\"rmse\", \n",
    "              eval_set=[(X_train, y_train)], \n",
    "              verbose=10, early_stopping_rounds = 10)"
   ]
  },
  {
   "cell_type": "code",
   "execution_count": 12,
   "metadata": {},
   "outputs": [
    {
     "name": "stdout",
     "output_type": "stream",
     "text": [
      "소요시간(s) : 1676.0964415073395\n"
     ]
    }
   ],
   "source": [
    "#time\n",
    "end = time.time()\n",
    "print(f'소요시간(s) : {end-start}')"
   ]
  },
  {
   "cell_type": "code",
   "execution_count": 13,
   "metadata": {},
   "outputs": [
    {
     "name": "stdout",
     "output_type": "stream",
     "text": [
      "Train rmse: 0.7715546\n"
     ]
    }
   ],
   "source": [
    "#prediction, validation\n",
    "train_pred = xgb_model.predict(X_train).clip(0, 20)\n",
    "test_pred = xgb_model.predict(X_test).clip(0, 20)\n",
    "\n",
    "print('Train rmse:', np.sqrt(mean_squared_error(y_train, train_pred)))\n"
   ]
  },
  {
   "cell_type": "code",
   "execution_count": 14,
   "metadata": {},
   "outputs": [],
   "source": [
    "# 제출 파일 생성\n",
    "df_test = pd.read_csv('./data/test.csv')\n",
    "submission = pd.DataFrame({\"ID\": df_test.index, \"item_cnt_month\": test_pred})\n",
    "submission.to_csv('sek_xgb1_5_submit.csv', index=False)"
   ]
  }
 ],
 "metadata": {
  "interpreter": {
   "hash": "b3ba2566441a7c06988d0923437866b63cedc61552a5af99d1f4fb67d367b25f"
  },
  "kernelspec": {
   "display_name": "Python 3.9.7 64-bit ('base': conda)",
   "language": "python",
   "name": "python3"
  },
  "language_info": {
   "codemirror_mode": {
    "name": "ipython",
    "version": 3
   },
   "file_extension": ".py",
   "mimetype": "text/x-python",
   "name": "python",
   "nbconvert_exporter": "python",
   "pygments_lexer": "ipython3",
   "version": "3.9.7"
  },
  "orig_nbformat": 4
 },
 "nbformat": 4,
 "nbformat_minor": 2
}
