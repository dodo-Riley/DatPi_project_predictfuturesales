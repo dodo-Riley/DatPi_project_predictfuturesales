{
 "cells": [
  {
   "cell_type": "markdown",
   "metadata": {},
   "source": [
    "booster = gbtree, early_stopping_rounds = 10, target clip\n",
    "https://xgboost.readthedocs.io/en/latest/python/python_intro.html#training"
   ]
  },
  {
   "cell_type": "code",
   "execution_count": 1,
   "metadata": {},
   "outputs": [],
   "source": [
    "import numpy as np\n",
    "import pandas as pd\n",
    "import matplotlib.pyplot as plt\n",
    "import seaborn as sns\n",
    "import time\n",
    "from xgboost import XGBRegressor\n",
    "from xgboost import plot_importance\n",
    "from sklearn.metrics import mean_squared_error\n",
    "\n",
    "import time"
   ]
  },
  {
   "cell_type": "code",
   "execution_count": 2,
   "metadata": {},
   "outputs": [
    {
     "name": "stdout",
     "output_type": "stream",
     "text": [
      "<class 'pandas.core.frame.DataFrame'>\n",
      "Int64Index: 6426000 entries, 0 to 6425999\n",
      "Data columns (total 7 columns):\n",
      " #   Column            Dtype\n",
      "---  ------            -----\n",
      " 0   datenum           int16\n",
      " 1   shop_id           int16\n",
      " 2   item_id           int16\n",
      " 3   item_name         int16\n",
      " 4   item_category_id  int16\n",
      " 5   main_cat          int16\n",
      " 6   sub_cat           int16\n",
      "dtypes: int16(7)\n",
      "memory usage: 134.8 MB\n"
     ]
    }
   ],
   "source": [
    "test = pd.read_pickle('./data/prepro3test.pkl')\n",
    "test.info()"
   ]
  },
  {
   "cell_type": "code",
   "execution_count": 3,
   "metadata": {},
   "outputs": [
    {
     "name": "stdout",
     "output_type": "stream",
     "text": [
      "<class 'pandas.core.frame.DataFrame'>\n",
      "Int64Index: 70512330 entries, 0 to 70512329\n",
      "Data columns (total 8 columns):\n",
      " #   Column            Dtype\n",
      "---  ------            -----\n",
      " 0   datenum           int16\n",
      " 1   shop_id           int16\n",
      " 2   item_id           int16\n",
      " 3   item_name         int16\n",
      " 4   item_category_id  int16\n",
      " 5   main_cat          int16\n",
      " 6   sub_cat           int16\n",
      " 7   item_cnt_day      int16\n",
      "dtypes: int16(8)\n",
      "memory usage: 1.6 GB\n"
     ]
    }
   ],
   "source": [
    "train = pd.read_pickle('./data/prepro3train.pkl')\n",
    "train.info()"
   ]
  },
  {
   "cell_type": "markdown",
   "metadata": {},
   "source": [
    "xgboost default  item name delete"
   ]
  },
  {
   "cell_type": "code",
   "execution_count": 4,
   "metadata": {},
   "outputs": [],
   "source": [
    "columnX = ['datenum', 'shop_id', 'item_id', 'item_category_id',\n",
    "       'main_cat', 'sub_cat']\n",
    "columny = ['item_cnt_day']"
   ]
  },
  {
   "cell_type": "code",
   "execution_count": 5,
   "metadata": {},
   "outputs": [],
   "source": [
    "X_train = train[columnX]\n",
    "y_train = train[columny]\n",
    "\n",
    "X_test = test[columnX]"
   ]
  },
  {
   "cell_type": "code",
   "execution_count": 6,
   "metadata": {},
   "outputs": [],
   "source": [
    "y_train = y_train.clip(0,20)"
   ]
  },
  {
   "cell_type": "code",
   "execution_count": 7,
   "metadata": {},
   "outputs": [
    {
     "data": {
      "text/plain": [
       "((70512330, 6), (70512330, 1), (6426000, 6))"
      ]
     },
     "execution_count": 7,
     "metadata": {},
     "output_type": "execute_result"
    }
   ],
   "source": [
    "X_train.shape, y_train.shape, X_test.shape"
   ]
  },
  {
   "cell_type": "code",
   "execution_count": 8,
   "metadata": {},
   "outputs": [],
   "source": [
    "xgb_model = XGBRegressor()"
   ]
  },
  {
   "cell_type": "code",
   "execution_count": 9,
   "metadata": {},
   "outputs": [
    {
     "name": "stdout",
     "output_type": "stream",
     "text": [
      "[0]\tvalidation_0-rmse:0.49715\n",
      "[10]\tvalidation_0-rmse:0.31350\n",
      "[20]\tvalidation_0-rmse:0.31017\n",
      "[30]\tvalidation_0-rmse:0.30814\n",
      "[40]\tvalidation_0-rmse:0.30735\n",
      "[50]\tvalidation_0-rmse:0.30655\n",
      "[60]\tvalidation_0-rmse:0.30572\n",
      "[70]\tvalidation_0-rmse:0.30519\n",
      "[80]\tvalidation_0-rmse:0.30487\n",
      "[90]\tvalidation_0-rmse:0.30447\n",
      "[99]\tvalidation_0-rmse:0.30413\n"
     ]
    },
    {
     "data": {
      "text/plain": [
       "XGBRegressor(base_score=0.5, booster='gbtree', colsample_bylevel=1,\n",
       "             colsample_bynode=1, colsample_bytree=1, enable_categorical=False,\n",
       "             gamma=0, gpu_id=-1, importance_type=None,\n",
       "             interaction_constraints='', learning_rate=0.300000012,\n",
       "             max_delta_step=0, max_depth=6, min_child_weight=1, missing=nan,\n",
       "             monotone_constraints='()', n_estimators=100, n_jobs=4,\n",
       "             num_parallel_tree=1, predictor='auto', random_state=0, reg_alpha=0,\n",
       "             reg_lambda=1, scale_pos_weight=1, subsample=1,\n",
       "             tree_method='approx', validate_parameters=1, verbosity=None)"
      ]
     },
     "execution_count": 9,
     "metadata": {},
     "output_type": "execute_result"
    }
   ],
   "source": [
    "start = time.time()\n",
    "xgb_model.fit(X_train, \n",
    "              y_train, \n",
    "              eval_metric=\"rmse\", \n",
    "              eval_set=[(X_train, y_train)], \n",
    "              verbose=10,\n",
    "              early_stopping_rounds = 10)"
   ]
  },
  {
   "cell_type": "code",
   "execution_count": 10,
   "metadata": {},
   "outputs": [
    {
     "name": "stdout",
     "output_type": "stream",
     "text": [
      "소요시간(s) : 13752.413597345352\n"
     ]
    }
   ],
   "source": [
    "#time\n",
    "end = time.time()\n",
    "print(f'소요시간(s) : {end-start}')"
   ]
  },
  {
   "cell_type": "code",
   "execution_count": 11,
   "metadata": {},
   "outputs": [
    {
     "data": {
      "image/png": "[encoded data removed]",
      "text/plain": [
       "<Figure size 1080x432 with 1 Axes>"
      ]
     },
     "metadata": {
      "needs_background": "light"
     },
     "output_type": "display_data"
    }
   ],
   "source": [
    "#feature imporatance\n",
    "plt.rcParams[\"figure.figsize\"] = (15, 6)\n",
    "plot_importance(xgb_model)\n",
    "plt.show()"
   ]
  },
  {
   "cell_type": "code",
   "execution_count": 12,
   "metadata": {},
   "outputs": [
    {
     "name": "stdout",
     "output_type": "stream",
     "text": [
      "Train rmse: 0.30039507\n"
     ]
    }
   ],
   "source": [
    "#prediction, validation\n",
    "train_pred = xgb_model.predict(X_train)\n",
    "test_pred = xgb_model.predict(X_test)\n",
    "\n",
    "\n",
    "\n",
    "print('Train rmse:', np.sqrt(mean_squared_error(y_train, train_pred)))"
   ]
  },
  {
   "cell_type": "code",
   "execution_count": 13,
   "metadata": {},
   "outputs": [
    {
     "data": {
      "text/plain": [
       "array([0.03686952, 0.01989002, 0.03686952, ..., 0.02234092, 0.01719795,\n",
       "       0.02157056], dtype=float32)"
      ]
     },
     "execution_count": 13,
     "metadata": {},
     "output_type": "execute_result"
    }
   ],
   "source": [
    "test_pred"
   ]
  },
  {
   "cell_type": "code",
   "execution_count": 14,
   "metadata": {},
   "outputs": [],
   "source": [
    "test['predict'] = test_pred"
   ]
  },
  {
   "cell_type": "code",
   "execution_count": 15,
   "metadata": {},
   "outputs": [
    {
     "data": {
      "text/html": [
       "<div>\n",
       "<style scoped>\n",
       "    .dataframe tbody tr th:only-of-type {\n",
       "        vertical-align: middle;\n",
       "    }\n",
       "\n",
       "    .dataframe tbody tr th {\n",
       "        vertical-align: top;\n",
       "    }\n",
       "\n",
       "    .dataframe thead th {\n",
       "        text-align: right;\n",
       "    }\n",
       "</style>\n",
       "<table border=\"1\" class=\"dataframe\">\n",
       "  <thead>\n",
       "    <tr style=\"text-align: right;\">\n",
       "      <th></th>\n",
       "      <th>datenum</th>\n",
       "      <th>shop_id</th>\n",
       "      <th>item_id</th>\n",
       "      <th>item_name</th>\n",
       "      <th>item_category_id</th>\n",
       "      <th>main_cat</th>\n",
       "      <th>sub_cat</th>\n",
       "      <th>predict</th>\n",
       "    </tr>\n",
       "  </thead>\n",
       "  <tbody>\n",
       "    <tr>\n",
       "      <th>0</th>\n",
       "      <td>1035</td>\n",
       "      <td>5</td>\n",
       "      <td>5037</td>\n",
       "      <td>4182</td>\n",
       "      <td>19</td>\n",
       "      <td>5</td>\n",
       "      <td>12</td>\n",
       "      <td>0.036870</td>\n",
       "    </tr>\n",
       "    <tr>\n",
       "      <th>1</th>\n",
       "      <td>1035</td>\n",
       "      <td>5</td>\n",
       "      <td>5320</td>\n",
       "      <td>4275</td>\n",
       "      <td>55</td>\n",
       "      <td>13</td>\n",
       "      <td>4</td>\n",
       "      <td>0.019890</td>\n",
       "    </tr>\n",
       "    <tr>\n",
       "      <th>2</th>\n",
       "      <td>1035</td>\n",
       "      <td>5</td>\n",
       "      <td>5233</td>\n",
       "      <td>4147</td>\n",
       "      <td>19</td>\n",
       "      <td>5</td>\n",
       "      <td>12</td>\n",
       "      <td>0.036870</td>\n",
       "    </tr>\n",
       "    <tr>\n",
       "      <th>3</th>\n",
       "      <td>1035</td>\n",
       "      <td>5</td>\n",
       "      <td>5232</td>\n",
       "      <td>4147</td>\n",
       "      <td>23</td>\n",
       "      <td>5</td>\n",
       "      <td>18</td>\n",
       "      <td>0.035123</td>\n",
       "    </tr>\n",
       "    <tr>\n",
       "      <th>4</th>\n",
       "      <td>1035</td>\n",
       "      <td>5</td>\n",
       "      <td>5268</td>\n",
       "      <td>4139</td>\n",
       "      <td>20</td>\n",
       "      <td>5</td>\n",
       "      <td>13</td>\n",
       "      <td>0.041865</td>\n",
       "    </tr>\n",
       "  </tbody>\n",
       "</table>\n",
       "</div>"
      ],
      "text/plain": [
       "   datenum  shop_id  item_id  item_name  item_category_id  main_cat  sub_cat  \\\n",
       "0     1035        5     5037       4182                19         5       12   \n",
       "1     1035        5     5320       4275                55        13        4   \n",
       "2     1035        5     5233       4147                19         5       12   \n",
       "3     1035        5     5232       4147                23         5       18   \n",
       "4     1035        5     5268       4139                20         5       13   \n",
       "\n",
       "    predict  \n",
       "0  0.036870  \n",
       "1  0.019890  \n",
       "2  0.036870  \n",
       "3  0.035123  \n",
       "4  0.041865  "
      ]
     },
     "execution_count": 15,
     "metadata": {},
     "output_type": "execute_result"
    }
   ],
   "source": [
    "test.head()"
   ]
  },
  {
   "cell_type": "code",
   "execution_count": 16,
   "metadata": {},
   "outputs": [],
   "source": [
    "test1= test.groupby(['shop_id', 'item_id']).sum()"
   ]
  },
  {
   "cell_type": "code",
   "execution_count": 17,
   "metadata": {},
   "outputs": [],
   "source": [
    "test1 = test1.reset_index()"
   ]
  },
  {
   "cell_type": "code",
   "execution_count": 18,
   "metadata": {},
   "outputs": [],
   "source": [
    "test1['predict']=test1.predict.clip(0,20)"
   ]
  },
  {
   "cell_type": "code",
   "execution_count": 19,
   "metadata": {},
   "outputs": [
    {
     "data": {
      "text/html": [
       "<div>\n",
       "<style scoped>\n",
       "    .dataframe tbody tr th:only-of-type {\n",
       "        vertical-align: middle;\n",
       "    }\n",
       "\n",
       "    .dataframe tbody tr th {\n",
       "        vertical-align: top;\n",
       "    }\n",
       "\n",
       "    .dataframe thead th {\n",
       "        text-align: right;\n",
       "    }\n",
       "</style>\n",
       "<table border=\"1\" class=\"dataframe\">\n",
       "  <thead>\n",
       "    <tr style=\"text-align: right;\">\n",
       "      <th></th>\n",
       "      <th>shop_id</th>\n",
       "      <th>item_id</th>\n",
       "      <th>datenum</th>\n",
       "      <th>item_name</th>\n",
       "      <th>item_category_id</th>\n",
       "      <th>main_cat</th>\n",
       "      <th>sub_cat</th>\n",
       "      <th>predict</th>\n",
       "    </tr>\n",
       "  </thead>\n",
       "  <tbody>\n",
       "    <tr>\n",
       "      <th>0</th>\n",
       "      <td>2</td>\n",
       "      <td>30</td>\n",
       "      <td>31485.0</td>\n",
       "      <td>30.0</td>\n",
       "      <td>1200.0</td>\n",
       "      <td>330.0</td>\n",
       "      <td>180.0</td>\n",
       "      <td>0.248746</td>\n",
       "    </tr>\n",
       "    <tr>\n",
       "      <th>1</th>\n",
       "      <td>2</td>\n",
       "      <td>31</td>\n",
       "      <td>31485.0</td>\n",
       "      <td>30.0</td>\n",
       "      <td>1110.0</td>\n",
       "      <td>330.0</td>\n",
       "      <td>30.0</td>\n",
       "      <td>0.408964</td>\n",
       "    </tr>\n",
       "    <tr>\n",
       "      <th>2</th>\n",
       "      <td>2</td>\n",
       "      <td>32</td>\n",
       "      <td>31485.0</td>\n",
       "      <td>60.0</td>\n",
       "      <td>1200.0</td>\n",
       "      <td>330.0</td>\n",
       "      <td>180.0</td>\n",
       "      <td>0.248746</td>\n",
       "    </tr>\n",
       "    <tr>\n",
       "      <th>3</th>\n",
       "      <td>2</td>\n",
       "      <td>33</td>\n",
       "      <td>31485.0</td>\n",
       "      <td>60.0</td>\n",
       "      <td>1110.0</td>\n",
       "      <td>330.0</td>\n",
       "      <td>30.0</td>\n",
       "      <td>0.408964</td>\n",
       "    </tr>\n",
       "    <tr>\n",
       "      <th>4</th>\n",
       "      <td>2</td>\n",
       "      <td>38</td>\n",
       "      <td>31485.0</td>\n",
       "      <td>150.0</td>\n",
       "      <td>1230.0</td>\n",
       "      <td>330.0</td>\n",
       "      <td>1110.0</td>\n",
       "      <td>0.281032</td>\n",
       "    </tr>\n",
       "    <tr>\n",
       "      <th>...</th>\n",
       "      <td>...</td>\n",
       "      <td>...</td>\n",
       "      <td>...</td>\n",
       "      <td>...</td>\n",
       "      <td>...</td>\n",
       "      <td>...</td>\n",
       "      <td>...</td>\n",
       "      <td>...</td>\n",
       "    </tr>\n",
       "    <tr>\n",
       "      <th>214195</th>\n",
       "      <td>59</td>\n",
       "      <td>22162</td>\n",
       "      <td>31485.0</td>\n",
       "      <td>543600.0</td>\n",
       "      <td>1200.0</td>\n",
       "      <td>330.0</td>\n",
       "      <td>180.0</td>\n",
       "      <td>0.632728</td>\n",
       "    </tr>\n",
       "    <tr>\n",
       "      <th>214196</th>\n",
       "      <td>59</td>\n",
       "      <td>22163</td>\n",
       "      <td>31485.0</td>\n",
       "      <td>543600.0</td>\n",
       "      <td>1200.0</td>\n",
       "      <td>330.0</td>\n",
       "      <td>180.0</td>\n",
       "      <td>0.632728</td>\n",
       "    </tr>\n",
       "    <tr>\n",
       "      <th>214197</th>\n",
       "      <td>59</td>\n",
       "      <td>22164</td>\n",
       "      <td>31485.0</td>\n",
       "      <td>543600.0</td>\n",
       "      <td>1110.0</td>\n",
       "      <td>330.0</td>\n",
       "      <td>30.0</td>\n",
       "      <td>0.515664</td>\n",
       "    </tr>\n",
       "    <tr>\n",
       "      <th>214198</th>\n",
       "      <td>59</td>\n",
       "      <td>22166</td>\n",
       "      <td>31485.0</td>\n",
       "      <td>543330.0</td>\n",
       "      <td>1620.0</td>\n",
       "      <td>360.0</td>\n",
       "      <td>1890.0</td>\n",
       "      <td>0.437556</td>\n",
       "    </tr>\n",
       "    <tr>\n",
       "      <th>214199</th>\n",
       "      <td>59</td>\n",
       "      <td>22167</td>\n",
       "      <td>31485.0</td>\n",
       "      <td>543360.0</td>\n",
       "      <td>1470.0</td>\n",
       "      <td>360.0</td>\n",
       "      <td>1230.0</td>\n",
       "      <td>0.000000</td>\n",
       "    </tr>\n",
       "  </tbody>\n",
       "</table>\n",
       "<p>214200 rows × 8 columns</p>\n",
       "</div>"
      ],
      "text/plain": [
       "        shop_id  item_id  datenum  item_name  item_category_id  main_cat  \\\n",
       "0             2       30  31485.0       30.0            1200.0     330.0   \n",
       "1             2       31  31485.0       30.0            1110.0     330.0   \n",
       "2             2       32  31485.0       60.0            1200.0     330.0   \n",
       "3             2       33  31485.0       60.0            1110.0     330.0   \n",
       "4             2       38  31485.0      150.0            1230.0     330.0   \n",
       "...         ...      ...      ...        ...               ...       ...   \n",
       "214195       59    22162  31485.0   543600.0            1200.0     330.0   \n",
       "214196       59    22163  31485.0   543600.0            1200.0     330.0   \n",
       "214197       59    22164  31485.0   543600.0            1110.0     330.0   \n",
       "214198       59    22166  31485.0   543330.0            1620.0     360.0   \n",
       "214199       59    22167  31485.0   543360.0            1470.0     360.0   \n",
       "\n",
       "        sub_cat   predict  \n",
       "0         180.0  0.248746  \n",
       "1          30.0  0.408964  \n",
       "2         180.0  0.248746  \n",
       "3          30.0  0.408964  \n",
       "4        1110.0  0.281032  \n",
       "...         ...       ...  \n",
       "214195    180.0  0.632728  \n",
       "214196    180.0  0.632728  \n",
       "214197     30.0  0.515664  \n",
       "214198   1890.0  0.437556  \n",
       "214199   1230.0  0.000000  \n",
       "\n",
       "[214200 rows x 8 columns]"
      ]
     },
     "execution_count": 19,
     "metadata": {},
     "output_type": "execute_result"
    }
   ],
   "source": [
    "test1"
   ]
  },
  {
   "cell_type": "code",
   "execution_count": 20,
   "metadata": {},
   "outputs": [
    {
     "name": "stderr",
     "output_type": "stream",
     "text": [
      "/Users/koossen/opt/anaconda3/lib/python3.9/site-packages/seaborn/_decorators.py:36: FutureWarning: Pass the following variable as a keyword arg: x. From version 0.12, the only valid positional argument will be `data`, and passing other arguments without an explicit keyword will result in an error or misinterpretation.\n",
      "  warnings.warn(\n"
     ]
    },
    {
     "data": {
      "text/plain": [
       "<AxesSubplot:xlabel='predict'>"
      ]
     },
     "execution_count": 20,
     "metadata": {},
     "output_type": "execute_result"
    },
    {
     "data": {
      "image/png": "[encoded data removed]",
      "text/plain": [
       "<Figure size 1080x432 with 1 Axes>"
      ]
     },
     "metadata": {
      "needs_background": "light"
     },
     "output_type": "display_data"
    }
   ],
   "source": [
    "sns.boxplot(test1.predict)"
   ]
  },
  {
   "cell_type": "code",
   "execution_count": 21,
   "metadata": {},
   "outputs": [],
   "source": [
    "testoriginal = pd.read_csv('./data/test.csv')"
   ]
  },
  {
   "cell_type": "code",
   "execution_count": 22,
   "metadata": {},
   "outputs": [
    {
     "data": {
      "text/html": [
       "<div>\n",
       "<style scoped>\n",
       "    .dataframe tbody tr th:only-of-type {\n",
       "        vertical-align: middle;\n",
       "    }\n",
       "\n",
       "    .dataframe tbody tr th {\n",
       "        vertical-align: top;\n",
       "    }\n",
       "\n",
       "    .dataframe thead th {\n",
       "        text-align: right;\n",
       "    }\n",
       "</style>\n",
       "<table border=\"1\" class=\"dataframe\">\n",
       "  <thead>\n",
       "    <tr style=\"text-align: right;\">\n",
       "      <th></th>\n",
       "      <th>ID</th>\n",
       "      <th>shop_id</th>\n",
       "      <th>item_id</th>\n",
       "    </tr>\n",
       "  </thead>\n",
       "  <tbody>\n",
       "    <tr>\n",
       "      <th>0</th>\n",
       "      <td>0</td>\n",
       "      <td>5</td>\n",
       "      <td>5037</td>\n",
       "    </tr>\n",
       "    <tr>\n",
       "      <th>1</th>\n",
       "      <td>1</td>\n",
       "      <td>5</td>\n",
       "      <td>5320</td>\n",
       "    </tr>\n",
       "    <tr>\n",
       "      <th>2</th>\n",
       "      <td>2</td>\n",
       "      <td>5</td>\n",
       "      <td>5233</td>\n",
       "    </tr>\n",
       "    <tr>\n",
       "      <th>3</th>\n",
       "      <td>3</td>\n",
       "      <td>5</td>\n",
       "      <td>5232</td>\n",
       "    </tr>\n",
       "    <tr>\n",
       "      <th>4</th>\n",
       "      <td>4</td>\n",
       "      <td>5</td>\n",
       "      <td>5268</td>\n",
       "    </tr>\n",
       "  </tbody>\n",
       "</table>\n",
       "</div>"
      ],
      "text/plain": [
       "   ID  shop_id  item_id\n",
       "0   0        5     5037\n",
       "1   1        5     5320\n",
       "2   2        5     5233\n",
       "3   3        5     5232\n",
       "4   4        5     5268"
      ]
     },
     "execution_count": 22,
     "metadata": {},
     "output_type": "execute_result"
    }
   ],
   "source": [
    "testoriginal.head()"
   ]
  },
  {
   "cell_type": "code",
   "execution_count": 23,
   "metadata": {},
   "outputs": [],
   "source": [
    "testoriginal = testoriginal.merge(test1, on= ['item_id', 'shop_id'], how = 'left')"
   ]
  },
  {
   "cell_type": "code",
   "execution_count": 24,
   "metadata": {},
   "outputs": [
    {
     "data": {
      "text/html": [
       "<div>\n",
       "<style scoped>\n",
       "    .dataframe tbody tr th:only-of-type {\n",
       "        vertical-align: middle;\n",
       "    }\n",
       "\n",
       "    .dataframe tbody tr th {\n",
       "        vertical-align: top;\n",
       "    }\n",
       "\n",
       "    .dataframe thead th {\n",
       "        text-align: right;\n",
       "    }\n",
       "</style>\n",
       "<table border=\"1\" class=\"dataframe\">\n",
       "  <thead>\n",
       "    <tr style=\"text-align: right;\">\n",
       "      <th></th>\n",
       "      <th>ID</th>\n",
       "      <th>shop_id</th>\n",
       "      <th>item_id</th>\n",
       "      <th>datenum</th>\n",
       "      <th>item_name</th>\n",
       "      <th>item_category_id</th>\n",
       "      <th>main_cat</th>\n",
       "      <th>sub_cat</th>\n",
       "      <th>predict</th>\n",
       "    </tr>\n",
       "  </thead>\n",
       "  <tbody>\n",
       "    <tr>\n",
       "      <th>0</th>\n",
       "      <td>0</td>\n",
       "      <td>5</td>\n",
       "      <td>5037</td>\n",
       "      <td>31485.0</td>\n",
       "      <td>125460.0</td>\n",
       "      <td>570.0</td>\n",
       "      <td>150.0</td>\n",
       "      <td>360.0</td>\n",
       "      <td>1.106086</td>\n",
       "    </tr>\n",
       "    <tr>\n",
       "      <th>1</th>\n",
       "      <td>1</td>\n",
       "      <td>5</td>\n",
       "      <td>5320</td>\n",
       "      <td>31485.0</td>\n",
       "      <td>128250.0</td>\n",
       "      <td>1650.0</td>\n",
       "      <td>390.0</td>\n",
       "      <td>120.0</td>\n",
       "      <td>0.596701</td>\n",
       "    </tr>\n",
       "    <tr>\n",
       "      <th>2</th>\n",
       "      <td>2</td>\n",
       "      <td>5</td>\n",
       "      <td>5233</td>\n",
       "      <td>31485.0</td>\n",
       "      <td>124410.0</td>\n",
       "      <td>570.0</td>\n",
       "      <td>150.0</td>\n",
       "      <td>360.0</td>\n",
       "      <td>1.106086</td>\n",
       "    </tr>\n",
       "    <tr>\n",
       "      <th>3</th>\n",
       "      <td>3</td>\n",
       "      <td>5</td>\n",
       "      <td>5232</td>\n",
       "      <td>31485.0</td>\n",
       "      <td>124410.0</td>\n",
       "      <td>690.0</td>\n",
       "      <td>150.0</td>\n",
       "      <td>540.0</td>\n",
       "      <td>1.053676</td>\n",
       "    </tr>\n",
       "    <tr>\n",
       "      <th>4</th>\n",
       "      <td>4</td>\n",
       "      <td>5</td>\n",
       "      <td>5268</td>\n",
       "      <td>31485.0</td>\n",
       "      <td>124170.0</td>\n",
       "      <td>600.0</td>\n",
       "      <td>150.0</td>\n",
       "      <td>390.0</td>\n",
       "      <td>1.255964</td>\n",
       "    </tr>\n",
       "  </tbody>\n",
       "</table>\n",
       "</div>"
      ],
      "text/plain": [
       "   ID  shop_id  item_id  datenum  item_name  item_category_id  main_cat  \\\n",
       "0   0        5     5037  31485.0   125460.0             570.0     150.0   \n",
       "1   1        5     5320  31485.0   128250.0            1650.0     390.0   \n",
       "2   2        5     5233  31485.0   124410.0             570.0     150.0   \n",
       "3   3        5     5232  31485.0   124410.0             690.0     150.0   \n",
       "4   4        5     5268  31485.0   124170.0             600.0     150.0   \n",
       "\n",
       "   sub_cat   predict  \n",
       "0    360.0  1.106086  \n",
       "1    120.0  0.596701  \n",
       "2    360.0  1.106086  \n",
       "3    540.0  1.053676  \n",
       "4    390.0  1.255964  "
      ]
     },
     "execution_count": 24,
     "metadata": {},
     "output_type": "execute_result"
    }
   ],
   "source": [
    "testoriginal.head()"
   ]
  },
  {
   "cell_type": "code",
   "execution_count": 25,
   "metadata": {},
   "outputs": [],
   "source": [
    "testfinal = testoriginal[['ID', 'predict']]"
   ]
  },
  {
   "cell_type": "code",
   "execution_count": 26,
   "metadata": {},
   "outputs": [],
   "source": [
    "testfinal.columns = ['ID', 'item_cnt_month']"
   ]
  },
  {
   "cell_type": "code",
   "execution_count": 27,
   "metadata": {},
   "outputs": [],
   "source": [
    "# 제출 파일 생성\n",
    "testfinal.to_csv('sek_xgb3_3_submit.csv', index=False)"
   ]
  }
 ],
 "metadata": {
  "interpreter": {
   "hash": "b3ba2566441a7c06988d0923437866b63cedc61552a5af99d1f4fb67d367b25f"
  },
  "kernelspec": {
   "display_name": "Python 3.9.7 64-bit ('base': conda)",
   "language": "python",
   "name": "python3"
  },
  "language_info": {
   "codemirror_mode": {
    "name": "ipython",
    "version": 3
   },
   "file_extension": ".py",
   "mimetype": "text/x-python",
   "name": "python",
   "nbconvert_exporter": "python",
   "pygments_lexer": "ipython3",
   "version": "3.9.7"
  },
  "orig_nbformat": 4
 },
 "nbformat": 4,
 "nbformat_minor": 2
}
