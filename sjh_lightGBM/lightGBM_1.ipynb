{
 "cells": [
  {
   "cell_type": "markdown",
   "metadata": {},
   "source": [
    "## 1. 학습 데이터의 월 판매량 및 모든 시차 피쳐, 예측결과 (0,20)범위로 clip\n",
    "\n",
    "## 2. hyper parameter 지정\n",
    "- 'metric': 'rmse', # 평가지표 = rmse\n",
    "- 'num_leaves': 255, # reaf node 수\n",
    "- 'learning_rate': 0.005, # 디폴트0.1, 작을수록 예측성능이 높아질수있지만 과적합가능성도 올라감\n",
    "- 'feature_fraction': 0.75, # 디폴트 1,개별 트리를 학습할 때 무작위로 선택되는 피쳐 비율\n",
    "- 'bagging_fraction': 0.75, # 디폴트 1, 학습데이터 샘플링 비율\n",
    "- 'bagging_freq': 5, # 디폴트 0, 몇번 iteration할때마다 다시 bagging을 수행할 지\n",
    "- 'force_col_wise': True, # 디폴트 false, 컬럼수가 많을떄 메모리 비용을 줄일 수 있음\n",
    "- 'random_state': 42 # seed 고정\n",
    "- 'num_boost_round' : 1500 # 디폴트 100, 반복수행하는 횟수 \n",
    "- 'early_stopping_rounds' : 150 # 디폴트 0, 검증결과가 150번동안 나아지지 않으면 멈춤\n",
    "- 'categorical_feature' : ['shop_id', 'city_id', 'cat_id', 'main_cat', 'sub_cat'] # 범주형 피쳐 지정\n",
    "- 'verbose_eval'=100 # 몇번째마다 평가지표 출력할지\n",
    "\n",
    "## 3. 사용 데이터\n",
    "- data_1 : 가장 기본 전처리(보고서 내 전처리 항목 참고)\n",
    "\n",
    "## 4. submission 여부 : YES\n",
    "- Score: 0.90263, 2352/13591~상위 17.3%"
   ]
  },
  {
   "cell_type": "code",
   "execution_count": 2,
   "metadata": {
    "executionInfo": {
     "elapsed": 269,
     "status": "ok",
     "timestamp": 1645603376290,
     "user": {
      "displayName": "송종호",
      "photoUrl": "https://lh3.googleusercontent.com/a-/AOh14Ggw9AtKSIFJsDxvVfGveri4440iMF0PN91N6_8RwA=s64",
      "userId": "03405166047213017267"
     },
     "user_tz": -540
    },
    "id": "x1FOqlxEkLq_"
   },
   "outputs": [],
   "source": [
    "# 라이브러리 호출\n",
    "import numpy as np\n",
    "import pandas as pd\n",
    "import matplotlib.pyplot as plt\n",
    "import seaborn as sns\n",
    "import datetime\n",
    "import folium\n",
    "import time\n",
    "from itertools import product \n",
    "from sklearn.preprocessing import LabelEncoder\n",
    "import lightgbm"
   ]
  },
  {
   "cell_type": "code",
   "execution_count": 3,
   "metadata": {
    "colab": {
     "base_uri": "https://localhost:8080/",
     "height": 270
    },
    "executionInfo": {
     "elapsed": 5909,
     "status": "ok",
     "timestamp": 1645603027122,
     "user": {
      "displayName": "송종호",
      "photoUrl": "https://lh3.googleusercontent.com/a-/AOh14Ggw9AtKSIFJsDxvVfGveri4440iMF0PN91N6_8RwA=s64",
      "userId": "03405166047213017267"
     },
     "user_tz": -540
    },
    "id": "rW7LkqHqkQdd",
    "outputId": "6e3919c2-87a7-45ad-9353-989d99260dd3"
   },
   "outputs": [
    {
     "data": {
      "text/html": [
       "<div>\n",
       "<style scoped>\n",
       "    .dataframe tbody tr th:only-of-type {\n",
       "        vertical-align: middle;\n",
       "    }\n",
       "\n",
       "    .dataframe tbody tr th {\n",
       "        vertical-align: top;\n",
       "    }\n",
       "\n",
       "    .dataframe thead th {\n",
       "        text-align: right;\n",
       "    }\n",
       "</style>\n",
       "<table border=\"1\" class=\"dataframe\">\n",
       "  <thead>\n",
       "    <tr style=\"text-align: right;\">\n",
       "      <th></th>\n",
       "      <th>month_id</th>\n",
       "      <th>shop_id</th>\n",
       "      <th>item_id</th>\n",
       "      <th>cnt_month</th>\n",
       "      <th>city_id</th>\n",
       "      <th>cat_id</th>\n",
       "      <th>main_cat</th>\n",
       "      <th>sub_cat</th>\n",
       "      <th>year</th>\n",
       "      <th>month</th>\n",
       "      <th>...</th>\n",
       "      <th>sub_cat_mean_cnt_3</th>\n",
       "      <th>price_mean_mean_cnt_1</th>\n",
       "      <th>price_mean_mean_cnt_2</th>\n",
       "      <th>price_mean_mean_cnt_3</th>\n",
       "      <th>item_id/city_id_mean_cnt_1</th>\n",
       "      <th>item_id/city_id_mean_cnt_2</th>\n",
       "      <th>item_id/city_id_mean_cnt_3</th>\n",
       "      <th>shop_id/cat_id_mean_cnt_1</th>\n",
       "      <th>shop_id/cat_id_mean_cnt_2</th>\n",
       "      <th>shop_id/cat_id_mean_cnt_3</th>\n",
       "    </tr>\n",
       "  </thead>\n",
       "  <tbody>\n",
       "    <tr>\n",
       "      <th>827691</th>\n",
       "      <td>3</td>\n",
       "      <td>25</td>\n",
       "      <td>8092</td>\n",
       "      <td>3.0</td>\n",
       "      <td>13</td>\n",
       "      <td>40</td>\n",
       "      <td>11</td>\n",
       "      <td>6</td>\n",
       "      <td>2013</td>\n",
       "      <td>4</td>\n",
       "      <td>...</td>\n",
       "      <td>0.0</td>\n",
       "      <td>1.400024</td>\n",
       "      <td>1.365631</td>\n",
       "      <td>0.0</td>\n",
       "      <td>1.000000</td>\n",
       "      <td>2.142857</td>\n",
       "      <td>0.0</td>\n",
       "      <td>1.087262</td>\n",
       "      <td>1.048394</td>\n",
       "      <td>0.0</td>\n",
       "    </tr>\n",
       "    <tr>\n",
       "      <th>827692</th>\n",
       "      <td>3</td>\n",
       "      <td>25</td>\n",
       "      <td>7850</td>\n",
       "      <td>3.0</td>\n",
       "      <td>13</td>\n",
       "      <td>30</td>\n",
       "      <td>8</td>\n",
       "      <td>54</td>\n",
       "      <td>2013</td>\n",
       "      <td>4</td>\n",
       "      <td>...</td>\n",
       "      <td>0.0</td>\n",
       "      <td>1.479122</td>\n",
       "      <td>1.464680</td>\n",
       "      <td>0.0</td>\n",
       "      <td>3.714286</td>\n",
       "      <td>2.285714</td>\n",
       "      <td>0.0</td>\n",
       "      <td>3.651685</td>\n",
       "      <td>2.276650</td>\n",
       "      <td>0.0</td>\n",
       "    </tr>\n",
       "    <tr>\n",
       "      <th>827693</th>\n",
       "      <td>3</td>\n",
       "      <td>25</td>\n",
       "      <td>8051</td>\n",
       "      <td>3.0</td>\n",
       "      <td>13</td>\n",
       "      <td>66</td>\n",
       "      <td>14</td>\n",
       "      <td>47</td>\n",
       "      <td>2013</td>\n",
       "      <td>4</td>\n",
       "      <td>...</td>\n",
       "      <td>0.0</td>\n",
       "      <td>0.000000</td>\n",
       "      <td>0.000000</td>\n",
       "      <td>0.0</td>\n",
       "      <td>0.000000</td>\n",
       "      <td>0.428571</td>\n",
       "      <td>0.0</td>\n",
       "      <td>1.827586</td>\n",
       "      <td>1.389474</td>\n",
       "      <td>0.0</td>\n",
       "    </tr>\n",
       "    <tr>\n",
       "      <th>827694</th>\n",
       "      <td>3</td>\n",
       "      <td>25</td>\n",
       "      <td>8088</td>\n",
       "      <td>1.0</td>\n",
       "      <td>13</td>\n",
       "      <td>55</td>\n",
       "      <td>13</td>\n",
       "      <td>4</td>\n",
       "      <td>2013</td>\n",
       "      <td>4</td>\n",
       "      <td>...</td>\n",
       "      <td>0.0</td>\n",
       "      <td>1.479122</td>\n",
       "      <td>0.000000</td>\n",
       "      <td>0.0</td>\n",
       "      <td>0.285714</td>\n",
       "      <td>0.000000</td>\n",
       "      <td>0.0</td>\n",
       "      <td>0.598291</td>\n",
       "      <td>0.562107</td>\n",
       "      <td>0.0</td>\n",
       "    </tr>\n",
       "    <tr>\n",
       "      <th>827695</th>\n",
       "      <td>3</td>\n",
       "      <td>25</td>\n",
       "      <td>8089</td>\n",
       "      <td>1.0</td>\n",
       "      <td>13</td>\n",
       "      <td>55</td>\n",
       "      <td>13</td>\n",
       "      <td>4</td>\n",
       "      <td>2013</td>\n",
       "      <td>4</td>\n",
       "      <td>...</td>\n",
       "      <td>0.0</td>\n",
       "      <td>0.000000</td>\n",
       "      <td>0.000000</td>\n",
       "      <td>0.0</td>\n",
       "      <td>0.571429</td>\n",
       "      <td>0.000000</td>\n",
       "      <td>0.0</td>\n",
       "      <td>0.598291</td>\n",
       "      <td>0.562107</td>\n",
       "      <td>0.0</td>\n",
       "    </tr>\n",
       "  </tbody>\n",
       "</table>\n",
       "<p>5 rows × 29 columns</p>\n",
       "</div>"
      ],
      "text/plain": [
       "        month_id  shop_id  item_id  cnt_month  city_id  cat_id  main_cat  \\\n",
       "827691         3       25     8092        3.0       13      40        11   \n",
       "827692         3       25     7850        3.0       13      30         8   \n",
       "827693         3       25     8051        3.0       13      66        14   \n",
       "827694         3       25     8088        1.0       13      55        13   \n",
       "827695         3       25     8089        1.0       13      55        13   \n",
       "\n",
       "        sub_cat  year  month  ...  sub_cat_mean_cnt_3  price_mean_mean_cnt_1  \\\n",
       "827691        6  2013      4  ...                 0.0               1.400024   \n",
       "827692       54  2013      4  ...                 0.0               1.479122   \n",
       "827693       47  2013      4  ...                 0.0               0.000000   \n",
       "827694        4  2013      4  ...                 0.0               1.479122   \n",
       "827695        4  2013      4  ...                 0.0               0.000000   \n",
       "\n",
       "        price_mean_mean_cnt_2  price_mean_mean_cnt_3  \\\n",
       "827691               1.365631                    0.0   \n",
       "827692               1.464680                    0.0   \n",
       "827693               0.000000                    0.0   \n",
       "827694               0.000000                    0.0   \n",
       "827695               0.000000                    0.0   \n",
       "\n",
       "        item_id/city_id_mean_cnt_1  item_id/city_id_mean_cnt_2  \\\n",
       "827691                    1.000000                    2.142857   \n",
       "827692                    3.714286                    2.285714   \n",
       "827693                    0.000000                    0.428571   \n",
       "827694                    0.285714                    0.000000   \n",
       "827695                    0.571429                    0.000000   \n",
       "\n",
       "        item_id/city_id_mean_cnt_3  shop_id/cat_id_mean_cnt_1  \\\n",
       "827691                         0.0                   1.087262   \n",
       "827692                         0.0                   3.651685   \n",
       "827693                         0.0                   1.827586   \n",
       "827694                         0.0                   0.598291   \n",
       "827695                         0.0                   0.598291   \n",
       "\n",
       "        shop_id/cat_id_mean_cnt_2  shop_id/cat_id_mean_cnt_3  \n",
       "827691                   1.048394                        0.0  \n",
       "827692                   2.276650                        0.0  \n",
       "827693                   1.389474                        0.0  \n",
       "827694                   0.562107                        0.0  \n",
       "827695                   0.562107                        0.0  \n",
       "\n",
       "[5 rows x 29 columns]"
      ]
     },
     "execution_count": 3,
     "metadata": {},
     "output_type": "execute_result"
    }
   ],
   "source": [
    "# 데이터 불러오기\n",
    "data = pd.read_pickle('./data/data_1.pkl')\n",
    "data.head()"
   ]
  },
  {
   "cell_type": "code",
   "execution_count": 4,
   "metadata": {
    "executionInfo": {
     "elapsed": 4381,
     "status": "ok",
     "timestamp": 1645603297115,
     "user": {
      "displayName": "송종호",
      "photoUrl": "https://lh3.googleusercontent.com/a-/AOh14Ggw9AtKSIFJsDxvVfGveri4440iMF0PN91N6_8RwA=s64",
      "userId": "03405166047213017267"
     },
     "user_tz": -540
    },
    "id": "5xdVjez8lmYC"
   },
   "outputs": [],
   "source": [
    "# 데이터 clip(0~20)\n",
    "data[['cnt_month', 'cnt_month_1','cnt_month_2', 'cnt_month_3', 'item_id_mean_cnt_1','item_id_mean_cnt_2', 'item_id_mean_cnt_3', \n",
    "        'sub_cat_mean_cnt_1','sub_cat_mean_cnt_2', 'sub_cat_mean_cnt_3', 'price_mean_mean_cnt_1',\n",
    "       'price_mean_mean_cnt_2', 'price_mean_mean_cnt_3','item_id/city_id_mean_cnt_1', 'item_id/city_id_mean_cnt_2',\n",
    "       'item_id/city_id_mean_cnt_3', 'shop_id/cat_id_mean_cnt_1','shop_id/cat_id_mean_cnt_2', 'shop_id/cat_id_mean_cnt_3']] = data[['cnt_month', 'cnt_month_1','cnt_month_2', 'cnt_month_3', 'item_id_mean_cnt_1','item_id_mean_cnt_2', 'item_id_mean_cnt_3', \n",
    "        'sub_cat_mean_cnt_1','sub_cat_mean_cnt_2', 'sub_cat_mean_cnt_3', 'price_mean_mean_cnt_1',\n",
    "       'price_mean_mean_cnt_2', 'price_mean_mean_cnt_3','item_id/city_id_mean_cnt_1', 'item_id/city_id_mean_cnt_2',\n",
    "       'item_id/city_id_mean_cnt_3', 'shop_id/cat_id_mean_cnt_1','shop_id/cat_id_mean_cnt_2', 'shop_id/cat_id_mean_cnt_3']].clip(0, 20)"
   ]
  },
  {
   "cell_type": "code",
   "execution_count": 5,
   "metadata": {
    "executionInfo": {
     "elapsed": 1262,
     "status": "ok",
     "timestamp": 1645603300872,
     "user": {
      "displayName": "송종호",
      "photoUrl": "https://lh3.googleusercontent.com/a-/AOh14Ggw9AtKSIFJsDxvVfGveri4440iMF0PN91N6_8RwA=s64",
      "userId": "03405166047213017267"
     },
     "user_tz": -540
    },
    "id": "ucZ_VX5Kly_N"
   },
   "outputs": [],
   "source": [
    "# 학습/검증/테스트 데이터 분할\n",
    "X_train = data[data['month_id'] < 33].drop(['cnt_month'], axis=1)\n",
    "y_train = data[data['month_id'] < 33]['cnt_month']\n",
    "\n",
    "X_valid = data[data['month_id'] == 33].drop(['cnt_month'], axis=1)\n",
    "y_valid = data[data['month_id'] == 33]['cnt_month']\n",
    "\n",
    "X_test = data[data['month_id'] == 34].drop(['cnt_month'], axis=1)"
   ]
  },
  {
   "cell_type": "code",
   "execution_count": 6,
   "metadata": {
    "id": "Hrfc6fkembNy"
   },
   "outputs": [
    {
     "name": "stderr",
     "output_type": "stream",
     "text": [
      "C:\\ProgramData\\Anaconda3\\lib\\site-packages\\lightgbm\\engine.py:181: UserWarning: 'early_stopping_rounds' argument is deprecated and will be removed in a future release of LightGBM. Pass 'early_stopping()' callback via 'callbacks' argument instead.\n",
      "  _log_warning(\"'early_stopping_rounds' argument is deprecated and will be removed in a future release of LightGBM. \"\n",
      "C:\\ProgramData\\Anaconda3\\lib\\site-packages\\lightgbm\\basic.py:2068: UserWarning: categorical_feature in Dataset is overridden.\n",
      "New categorical_feature is ['cat_id', 'city_id', 'main_cat', 'shop_id', 'sub_cat']\n",
      "  _log_warning('categorical_feature in Dataset is overridden.\\n'\n",
      "C:\\ProgramData\\Anaconda3\\lib\\site-packages\\lightgbm\\engine.py:239: UserWarning: 'verbose_eval' argument is deprecated and will be removed in a future release of LightGBM. Pass 'log_evaluation()' callback via 'callbacks' argument instead.\n",
      "  _log_warning(\"'verbose_eval' argument is deprecated and will be removed in a future release of LightGBM. \"\n"
     ]
    },
    {
     "name": "stdout",
     "output_type": "stream",
     "text": [
      "[LightGBM] [Info] Total Bins 4050\n",
      "[LightGBM] [Info] Number of data points in the train set: 7596885, number of used features: 28\n"
     ]
    },
    {
     "name": "stderr",
     "output_type": "stream",
     "text": [
      "C:\\ProgramData\\Anaconda3\\lib\\site-packages\\lightgbm\\basic.py:1780: UserWarning: Overriding the parameters from Reference Dataset.\n",
      "  _log_warning('Overriding the parameters from Reference Dataset.')\n",
      "C:\\ProgramData\\Anaconda3\\lib\\site-packages\\lightgbm\\basic.py:1513: UserWarning: categorical_column in param dict is overridden.\n",
      "  _log_warning(f'{cat_alias} in param dict is overridden.')\n"
     ]
    },
    {
     "name": "stdout",
     "output_type": "stream",
     "text": [
      "[LightGBM] [Info] Start training from score 0.306474\n",
      "Training until validation scores don't improve for 150 rounds\n",
      "[100]\ttraining's rmse: 1.02071\tvalid_1's rmse: 0.914527\n",
      "[200]\ttraining's rmse: 0.918663\tvalid_1's rmse: 0.851745\n",
      "[300]\ttraining's rmse: 0.867585\tvalid_1's rmse: 0.829806\n",
      "[400]\ttraining's rmse: 0.839642\tvalid_1's rmse: 0.824203\n",
      "[500]\ttraining's rmse: 0.82206\tvalid_1's rmse: 0.823819\n",
      "Early stopping, best iteration is:\n",
      "[436]\ttraining's rmse: 0.832361\tvalid_1's rmse: 0.823313\n",
      "소요시간(s) : 396.7220582962036\n"
     ]
    }
   ],
   "source": [
    "# hyper parameter 지정\n",
    "params = {'metric': 'rmse',\n",
    "          'num_leaves': 255,\n",
    "          'learning_rate': 0.005,\n",
    "          'feature_fraction': 0.75,\n",
    "          'bagging_fraction': 0.75,\n",
    "          'bagging_freq': 5,\n",
    "          'force_col_wise': True,\n",
    "          'random_state': 42}\n",
    "\n",
    "cat = ['shop_id', 'city_id', 'cat_id', 'main_cat', 'sub_cat']\n",
    "\n",
    "# 데이터 셋 지정\n",
    "train = lightgbm.Dataset(X_train, y_train)\n",
    "valid = lightgbm.Dataset(X_valid, y_valid)\n",
    " \n",
    "# 모델 훈련\n",
    "start = time.time()\n",
    "lgb_model = lightgbm.train(params=params,\n",
    "                      train_set=train,\n",
    "                      num_boost_round=1500,\n",
    "                      valid_sets=(train, valid),\n",
    "                      early_stopping_rounds=150,\n",
    "                      categorical_feature=cat,\n",
    "                      verbose_eval=100)\n",
    "end = time.time()\n",
    "print(f'소요시간(s) : {end-start}')"
   ]
  },
  {
   "cell_type": "code",
   "execution_count": 7,
   "metadata": {
    "id": "Kv1rqaJbnaVn"
   },
   "outputs": [],
   "source": [
    "# 예측 수행\n",
    "y_pred = lgb_model.predict(X_test).clip(0, 20) # 실제 타겟값이 클립되어있으므로 동일하게 클립"
   ]
  },
  {
   "cell_type": "code",
   "execution_count": 8,
   "metadata": {
    "id": "WJJX9GSMnL0b"
   },
   "outputs": [],
   "source": [
    "# 제출 파일 생성\n",
    "df_test = pd.read_csv('e:/Git_public_dodo_Riley/kaggle/Future_Sales/data/test.csv')\n",
    "submission = pd.DataFrame({\"ID\": df_test.index, \"item_cnt_month\": y_pred})\n",
    "submission.to_csv('lgbm_submission.csv', index=False)"
   ]
  }
 ],
 "metadata": {
  "accelerator": "GPU",
  "colab": {
   "authorship_tag": "ABX9TyOOiIXvLn0/KzeRH1LmQc0g",
   "collapsed_sections": [],
   "name": "sjh_lgbm_1.ipynb",
   "provenance": []
  },
  "kernelspec": {
   "display_name": "Python 3 (ipykernel)",
   "language": "python",
   "name": "python3"
  },
  "language_info": {
   "codemirror_mode": {
    "name": "ipython",
    "version": 3
   },
   "file_extension": ".py",
   "mimetype": "text/x-python",
   "name": "python",
   "nbconvert_exporter": "python",
   "pygments_lexer": "ipython3",
   "version": "3.9.7"
  }
 },
 "nbformat": 4,
 "nbformat_minor": 1
}
