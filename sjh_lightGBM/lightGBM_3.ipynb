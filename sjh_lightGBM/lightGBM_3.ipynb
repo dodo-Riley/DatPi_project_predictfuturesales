{
 "cells": [
  {
   "cell_type": "markdown",
   "id": "6732dcb6",
   "metadata": {},
   "source": [
    "## 1. 학습 데이터의 월 판매량(target data) (0,20)범위로 clip\n",
    "\n",
    "## 2. hyper parameter 지정\n",
    "- 'metric': 'rmse', # 평가지표 = rmse\n",
    "- 'num_leaves': 300, # reaf node 수\n",
    "- 'learning_rate': 0.005, # 디폴트0.1, 작을수록 예측성능이 높아질수있지만 과적합가능성도 올라감\n",
    "- 'feature_fraction': 0.8, # 디폴트 1,개별 트리를 학습할 때 무작위로 선택되는 피쳐 비율\n",
    "- 'bagging_fraction': 0.8, # 디폴트 1, 학습데이터 샘플링 비율\n",
    "- 'bagging_freq': 3, # 디폴트 0, 몇번 iteration할때마다 다시 bagging을 수행할 지\n",
    "- 'force_col_wise': True, # 디폴트 false, 컬럼수가 많을떄 메모리 비용을 줄일 수 있음\n",
    "- 'random_state': 42 # seed 고정\n",
    "- 'num_boost_round' : 1500 # 디폴트 100, 반복수행하는 횟수 \n",
    "- 'early_stopping_rounds' : 150 # 디폴트 0, 검증결과가 150번동안 나아지지 않으면 멈춤\n",
    "- 'categorical_feature' : ['shop_id', 'city_id', 'cat_id', 'main_cat', 'sub_cat'] # 범주형 피쳐 지정\n",
    "- 'verbose_eval'=100 # 몇번째마다 평가지표 출력할지\n",
    "\n",
    "## 3. 사용 데이터\n",
    "- data_1 : 가장 기본 전처리(보고서 내 전처리 항목 참고)\n",
    "\n",
    "## 4. submission 여부 : NO\n",
    "- 검증 데이터에 대한 RMSE 감소가 없으므로 미진행"
   ]
  },
  {
   "cell_type": "code",
   "execution_count": 2,
   "id": "8cd0eeec",
   "metadata": {},
   "outputs": [],
   "source": [
    "# 라이브러리 호출\n",
    "import numpy as np\n",
    "import pandas as pd\n",
    "import time\n",
    "from itertools import product \n",
    "import lightgbm"
   ]
  },
  {
   "cell_type": "code",
   "execution_count": 3,
   "id": "83414fac",
   "metadata": {},
   "outputs": [
    {
     "name": "stdout",
     "output_type": "stream",
     "text": [
      "<class 'pandas.core.frame.DataFrame'>\n",
      "Int64Index: 8032887 entries, 827691 to 8860577\n",
      "Data columns (total 29 columns):\n",
      " #   Column                      Dtype  \n",
      "---  ------                      -----  \n",
      " 0   month_id                    int8   \n",
      " 1   shop_id                     int8   \n",
      " 2   item_id                     int16  \n",
      " 3   cnt_month                   float32\n",
      " 4   city_id                     int8   \n",
      " 5   cat_id                      int8   \n",
      " 6   main_cat                    int8   \n",
      " 7   sub_cat                     int8   \n",
      " 8   year                        int16  \n",
      " 9   month                       int8   \n",
      " 10  sales_month                 int8   \n",
      " 11  cnt_month_1                 float32\n",
      " 12  cnt_month_2                 float32\n",
      " 13  cnt_month_3                 float32\n",
      " 14  item_id_mean_cnt_1          float32\n",
      " 15  item_id_mean_cnt_2          float32\n",
      " 16  item_id_mean_cnt_3          float32\n",
      " 17  sub_cat_mean_cnt_1          float32\n",
      " 18  sub_cat_mean_cnt_2          float32\n",
      " 19  sub_cat_mean_cnt_3          float32\n",
      " 20  price_mean_mean_cnt_1       float32\n",
      " 21  price_mean_mean_cnt_2       float32\n",
      " 22  price_mean_mean_cnt_3       float32\n",
      " 23  item_id/city_id_mean_cnt_1  float32\n",
      " 24  item_id/city_id_mean_cnt_2  float32\n",
      " 25  item_id/city_id_mean_cnt_3  float32\n",
      " 26  shop_id/cat_id_mean_cnt_1   float32\n",
      " 27  shop_id/cat_id_mean_cnt_2   float32\n",
      " 28  shop_id/cat_id_mean_cnt_3   float32\n",
      "dtypes: float32(19), int16(2), int8(8)\n",
      "memory usage: 735.4 MB\n"
     ]
    }
   ],
   "source": [
    "data = pd.read_pickle('./data/data_1.pkl')\n",
    "data.info()"
   ]
  },
  {
   "cell_type": "code",
   "execution_count": 4,
   "id": "de4c47c0",
   "metadata": {},
   "outputs": [
    {
     "data": {
      "text/plain": [
       "month_id                           0\n",
       "shop_id                            0\n",
       "item_id                            0\n",
       "cnt_month                     214200\n",
       "city_id                            0\n",
       "cat_id                             0\n",
       "main_cat                           0\n",
       "sub_cat                            0\n",
       "year                               0\n",
       "month                              0\n",
       "sales_month                        0\n",
       "cnt_month_1                        0\n",
       "cnt_month_2                        0\n",
       "cnt_month_3                        0\n",
       "item_id_mean_cnt_1                 0\n",
       "item_id_mean_cnt_2                 0\n",
       "item_id_mean_cnt_3                 0\n",
       "sub_cat_mean_cnt_1                 0\n",
       "sub_cat_mean_cnt_2                 0\n",
       "sub_cat_mean_cnt_3                 0\n",
       "price_mean_mean_cnt_1              0\n",
       "price_mean_mean_cnt_2              0\n",
       "price_mean_mean_cnt_3              0\n",
       "item_id/city_id_mean_cnt_1         0\n",
       "item_id/city_id_mean_cnt_2         0\n",
       "item_id/city_id_mean_cnt_3         0\n",
       "shop_id/cat_id_mean_cnt_1          0\n",
       "shop_id/cat_id_mean_cnt_2          0\n",
       "shop_id/cat_id_mean_cnt_3          0\n",
       "dtype: int64"
      ]
     },
     "execution_count": 4,
     "metadata": {},
     "output_type": "execute_result"
    }
   ],
   "source": [
    "data.isnull().sum()"
   ]
  },
  {
   "cell_type": "code",
   "execution_count": 4,
   "id": "624582b4",
   "metadata": {},
   "outputs": [],
   "source": [
    "# train/validation/test data split\n",
    "X_train = data[data['month_id'] < 33].drop(['cnt_month'], axis=1)\n",
    "y_train = data[data['month_id'] < 33]['cnt_month'].clip(0,20)\n",
    "\n",
    "X_valid = data[data['month_id'] == 33].drop(['cnt_month'], axis=1)\n",
    "y_valid = data[data['month_id'] == 33]['cnt_month'].clip(0,20)\n",
    "\n",
    "X_test = data[data['month_id'] == 34].drop(['cnt_month'], axis=1)"
   ]
  },
  {
   "cell_type": "code",
   "execution_count": 7,
   "id": "f0ac293b",
   "metadata": {},
   "outputs": [
    {
     "name": "stderr",
     "output_type": "stream",
     "text": [
      "C:\\ProgramData\\Anaconda3\\lib\\site-packages\\lightgbm\\engine.py:181: UserWarning: 'early_stopping_rounds' argument is deprecated and will be removed in a future release of LightGBM. Pass 'early_stopping()' callback via 'callbacks' argument instead.\n",
      "  _log_warning(\"'early_stopping_rounds' argument is deprecated and will be removed in a future release of LightGBM. \"\n",
      "C:\\ProgramData\\Anaconda3\\lib\\site-packages\\lightgbm\\basic.py:2068: UserWarning: categorical_feature in Dataset is overridden.\n",
      "New categorical_feature is ['cat_id', 'city_id', 'main_cat', 'shop_id', 'sub_cat']\n",
      "  _log_warning('categorical_feature in Dataset is overridden.\\n'\n",
      "C:\\ProgramData\\Anaconda3\\lib\\site-packages\\lightgbm\\engine.py:239: UserWarning: 'verbose_eval' argument is deprecated and will be removed in a future release of LightGBM. Pass 'log_evaluation()' callback via 'callbacks' argument instead.\n",
      "  _log_warning(\"'verbose_eval' argument is deprecated and will be removed in a future release of LightGBM. \"\n"
     ]
    },
    {
     "name": "stdout",
     "output_type": "stream",
     "text": [
      "[LightGBM] [Info] Total Bins 4423\n",
      "[LightGBM] [Info] Number of data points in the train set: 7596885, number of used features: 28\n"
     ]
    },
    {
     "name": "stderr",
     "output_type": "stream",
     "text": [
      "C:\\ProgramData\\Anaconda3\\lib\\site-packages\\lightgbm\\basic.py:1780: UserWarning: Overriding the parameters from Reference Dataset.\n",
      "  _log_warning('Overriding the parameters from Reference Dataset.')\n",
      "C:\\ProgramData\\Anaconda3\\lib\\site-packages\\lightgbm\\basic.py:1513: UserWarning: categorical_column in param dict is overridden.\n",
      "  _log_warning(f'{cat_alias} in param dict is overridden.')\n"
     ]
    },
    {
     "name": "stdout",
     "output_type": "stream",
     "text": [
      "[LightGBM] [Info] Start training from score 0.306474\n",
      "Training until validation scores don't improve for 150 rounds\n",
      "[50]\ttraining's rmse: 1.10537\tvalid_1's rmse: 0.979518\n",
      "[100]\ttraining's rmse: 1.01682\tvalid_1's rmse: 0.914986\n",
      "[150]\ttraining's rmse: 0.956046\tvalid_1's rmse: 0.874893\n",
      "[200]\ttraining's rmse: 0.913447\tvalid_1's rmse: 0.85101\n",
      "[250]\ttraining's rmse: 0.883342\tvalid_1's rmse: 0.836754\n",
      "[300]\ttraining's rmse: 0.861518\tvalid_1's rmse: 0.829909\n",
      "[350]\ttraining's rmse: 0.845368\tvalid_1's rmse: 0.82568\n",
      "[400]\ttraining's rmse: 0.832717\tvalid_1's rmse: 0.825107\n",
      "[450]\ttraining's rmse: 0.822385\tvalid_1's rmse: 0.825251\n",
      "[500]\ttraining's rmse: 0.814209\tvalid_1's rmse: 0.825225\n",
      "[550]\ttraining's rmse: 0.807315\tvalid_1's rmse: 0.826481\n",
      "Early stopping, best iteration is:\n",
      "[429]\ttraining's rmse: 0.826561\tvalid_1's rmse: 0.824776\n",
      "소요시간(s) : 382.3573741912842\n"
     ]
    }
   ],
   "source": [
    "# hyper parameter 지정\n",
    "params = {'metric': 'rmse',\n",
    "          'num_leaves': 300, \n",
    "          'learning_rate': 0.005, \n",
    "          'feature_fraction': 0.8, \n",
    "          'bagging_fraction': 0.8,\n",
    "          'bagging_freq': 3,\n",
    "          'force_col_wise': True, \n",
    "          'random_state': 42}\n",
    "\n",
    "cat = ['shop_id', 'city_id', 'cat_id', 'main_cat', 'sub_cat']\n",
    "\n",
    "# 데이터 셋 지정\n",
    "train = lightgbm.Dataset(X_train, y_train)\n",
    "valid = lightgbm.Dataset(X_valid, y_valid)\n",
    " \n",
    "# 모델 훈련\n",
    "start = time.time()\n",
    "lgb_model = lightgbm.train(params=params,\n",
    "                      train_set=train,\n",
    "                      num_boost_round=1500, \n",
    "                      valid_sets=(train, valid), \n",
    "                      early_stopping_rounds=150,\n",
    "                      categorical_feature=cat, \n",
    "                      verbose_eval=50)\n",
    "end = time.time()\n",
    "print(f'소요시간(s) : {end-start}')"
   ]
  }
 ],
 "metadata": {
  "kernelspec": {
   "display_name": "Python 3 (ipykernel)",
   "language": "python",
   "name": "python3"
  },
  "language_info": {
   "codemirror_mode": {
    "name": "ipython",
    "version": 3
   },
   "file_extension": ".py",
   "mimetype": "text/x-python",
   "name": "python",
   "nbconvert_exporter": "python",
   "pygments_lexer": "ipython3",
   "version": "3.9.7"
  }
 },
 "nbformat": 4,
 "nbformat_minor": 5
}
