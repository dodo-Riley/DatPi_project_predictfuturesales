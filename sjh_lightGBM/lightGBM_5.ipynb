{
 "cells": [
  {
   "cell_type": "markdown",
   "id": "2ee59da9",
   "metadata": {},
   "source": [
    "## 1. 학습 데이터의 월 판매량 및 모든 시차 피쳐, 예측결과 (0,20)범위로 clip\n",
    "\n",
    "## 2. hyper parameter 지정\n",
    "- 'metric': 'rmse', # 평가지표 = rmse\n",
    "- 'num_leaves': 255, # reaf node 수\n",
    "- 'learning_rate': 0.005, # 디폴트0.1, 작을수록 예측성능이 높아질수있지만 과적합가능성도 올라감\n",
    "- 'feature_fraction': 0.75, # 디폴트 1,개별 트리를 학습할 때 무작위로 선택되는 피쳐 비율\n",
    "- 'bagging_fraction': 0.75, # 디폴트 1, 학습데이터 샘플링 비율\n",
    "- 'bagging_freq': 5, # 디폴트 0, 몇번 iteration할때마다 다시 bagging을 수행할 지\n",
    "- 'force_col_wise': True, # 디폴트 false, 컬럼수가 많을떄 메모리 비용을 줄일 수 있음\n",
    "- 'random_state': 42 # seed 고정\n",
    "- 'num_boost_round' : 1500 # 디폴트 100, 반복수행하는 횟수 \n",
    "- 'early_stopping_rounds' : 150 # 디폴트 0, 검증결과가 150번동안 나아지지 않으면 멈춤\n",
    "- 'categorical_feature' : ['shop_id', 'city_id', 'cat_id', 'main_cat', 'sub_cat', 'year','month'] # 범주형 피쳐 지정\n",
    "- 'verbose_eval'=100 # 몇번째마다 평가지표 출력할지\n",
    "\n",
    "## 3. 사용 데이터\n",
    "- data_3 : 이상값 단순 제거(보고서 내 전처리 항목 참고)\n",
    "\n",
    "## 4. submission 여부 : YES\n",
    "- Score: 0.88958, 1528/13598 ~ 상위 11.2%"
   ]
  },
  {
   "cell_type": "code",
   "execution_count": 1,
   "id": "8cd0eeec",
   "metadata": {},
   "outputs": [],
   "source": [
    "# 라이브러리 호출\n",
    "import numpy as np\n",
    "import pandas as pd\n",
    "import time\n",
    "from itertools import product \n",
    "import lightgbm"
   ]
  },
  {
   "cell_type": "code",
   "execution_count": 3,
   "id": "83414fac",
   "metadata": {},
   "outputs": [
    {
     "name": "stdout",
     "output_type": "stream",
     "text": [
      "<class 'pandas.core.frame.DataFrame'>\n",
      "Int64Index: 8029111 entries, 827196 to 8856306\n",
      "Data columns (total 29 columns):\n",
      " #   Column                      Dtype  \n",
      "---  ------                      -----  \n",
      " 0   month_id                    int8   \n",
      " 1   shop_id                     int8   \n",
      " 2   item_id                     int16  \n",
      " 3   cnt_month                   float32\n",
      " 4   city_id                     int8   \n",
      " 5   cat_id                      int8   \n",
      " 6   main_cat                    int8   \n",
      " 7   sub_cat                     int8   \n",
      " 8   year                        int16  \n",
      " 9   month                       int8   \n",
      " 10  sales_month                 int8   \n",
      " 11  cnt_month_1                 float32\n",
      " 12  cnt_month_2                 float32\n",
      " 13  cnt_month_3                 float32\n",
      " 14  item_id_mean_cnt_1          float32\n",
      " 15  item_id_mean_cnt_2          float32\n",
      " 16  item_id_mean_cnt_3          float32\n",
      " 17  sub_cat_mean_cnt_1          float32\n",
      " 18  sub_cat_mean_cnt_2          float32\n",
      " 19  sub_cat_mean_cnt_3          float32\n",
      " 20  price_mean_mean_cnt_1       float32\n",
      " 21  price_mean_mean_cnt_2       float32\n",
      " 22  price_mean_mean_cnt_3       float32\n",
      " 23  item_id/city_id_mean_cnt_1  float32\n",
      " 24  item_id/city_id_mean_cnt_2  float32\n",
      " 25  item_id/city_id_mean_cnt_3  float32\n",
      " 26  shop_id/cat_id_mean_cnt_1   float32\n",
      " 27  shop_id/cat_id_mean_cnt_2   float32\n",
      " 28  shop_id/cat_id_mean_cnt_3   float32\n",
      "dtypes: float32(19), int16(2), int8(8)\n",
      "memory usage: 735.1 MB\n"
     ]
    }
   ],
   "source": [
    "data = pd.read_pickle('./data/data_3.pkl')\n",
    "data.info()"
   ]
  },
  {
   "cell_type": "code",
   "execution_count": 4,
   "id": "de4c47c0",
   "metadata": {},
   "outputs": [
    {
     "data": {
      "text/plain": [
       "month_id                           0\n",
       "shop_id                            0\n",
       "item_id                            0\n",
       "cnt_month                     214200\n",
       "city_id                            0\n",
       "cat_id                             0\n",
       "main_cat                           0\n",
       "sub_cat                            0\n",
       "year                               0\n",
       "month                              0\n",
       "sales_month                        0\n",
       "cnt_month_1                        0\n",
       "cnt_month_2                        0\n",
       "cnt_month_3                        0\n",
       "item_id_mean_cnt_1                 0\n",
       "item_id_mean_cnt_2                 0\n",
       "item_id_mean_cnt_3                 0\n",
       "sub_cat_mean_cnt_1                 0\n",
       "sub_cat_mean_cnt_2                 0\n",
       "sub_cat_mean_cnt_3                 0\n",
       "price_mean_mean_cnt_1              0\n",
       "price_mean_mean_cnt_2              0\n",
       "price_mean_mean_cnt_3              0\n",
       "item_id/city_id_mean_cnt_1         0\n",
       "item_id/city_id_mean_cnt_2         0\n",
       "item_id/city_id_mean_cnt_3         0\n",
       "shop_id/cat_id_mean_cnt_1          0\n",
       "shop_id/cat_id_mean_cnt_2          0\n",
       "shop_id/cat_id_mean_cnt_3          0\n",
       "dtype: int64"
      ]
     },
     "execution_count": 4,
     "metadata": {},
     "output_type": "execute_result"
    }
   ],
   "source": [
    "data.isnull().sum()"
   ]
  },
  {
   "cell_type": "code",
   "execution_count": 5,
   "id": "519d20e4",
   "metadata": {},
   "outputs": [],
   "source": [
    "data[['cnt_month','cnt_month_1','cnt_month_2','cnt_month_3']]=data[['cnt_month','cnt_month_1','cnt_month_2','cnt_month_3']].clip(0,20)"
   ]
  },
  {
   "cell_type": "code",
   "execution_count": 6,
   "id": "624582b4",
   "metadata": {},
   "outputs": [],
   "source": [
    "# train/validation/test data split\n",
    "X_train = data[data['month_id'] < 33].drop(['cnt_month'], axis=1)\n",
    "y_train = data[data['month_id'] < 33]['cnt_month']\n",
    "\n",
    "X_valid = data[data['month_id'] == 33].drop(['cnt_month'], axis=1)\n",
    "y_valid = data[data['month_id'] == 33]['cnt_month']\n",
    "\n",
    "X_test = data[data['month_id'] == 34].drop(['cnt_month'], axis=1)"
   ]
  },
  {
   "cell_type": "code",
   "execution_count": 8,
   "id": "f0ac293b",
   "metadata": {},
   "outputs": [
    {
     "name": "stderr",
     "output_type": "stream",
     "text": [
      "C:\\ProgramData\\Anaconda3\\lib\\site-packages\\lightgbm\\basic.py:2068: UserWarning: categorical_feature in Dataset is overridden.\n",
      "New categorical_feature is ['cat_id', 'city_id', 'main_cat', 'month', 'shop_id', 'sub_cat', 'year']\n",
      "  _log_warning('categorical_feature in Dataset is overridden.\\n'\n"
     ]
    },
    {
     "name": "stdout",
     "output_type": "stream",
     "text": [
      "[LightGBM] [Info] Total Bins 4314\n",
      "[LightGBM] [Info] Number of data points in the train set: 7593193, number of used features: 28\n",
      "[LightGBM] [Info] Start training from score 0.307227\n",
      "Training until validation scores don't improve for 150 rounds\n",
      "[100]\ttraining's rmse: 1.02085\tvalid_1's rmse: 0.913752\n",
      "[200]\ttraining's rmse: 0.91745\tvalid_1's rmse: 0.843846\n",
      "[300]\ttraining's rmse: 0.865265\tvalid_1's rmse: 0.815466\n",
      "[400]\ttraining's rmse: 0.836517\tvalid_1's rmse: 0.805331\n",
      "[500]\ttraining's rmse: 0.818505\tvalid_1's rmse: 0.801538\n",
      "[600]\ttraining's rmse: 0.805912\tvalid_1's rmse: 0.800214\n",
      "[700]\ttraining's rmse: 0.794929\tvalid_1's rmse: 0.799744\n",
      "[800]\ttraining's rmse: 0.78613\tvalid_1's rmse: 0.799744\n",
      "[900]\ttraining's rmse: 0.778629\tvalid_1's rmse: 0.799763\n",
      "[1000]\ttraining's rmse: 0.772618\tvalid_1's rmse: 0.799652\n",
      "[1100]\ttraining's rmse: 0.767667\tvalid_1's rmse: 0.799726\n",
      "Early stopping, best iteration is:\n",
      "[982]\ttraining's rmse: 0.773593\tvalid_1's rmse: 0.799417\n",
      "소요시간(s) : 706.5009162425995\n"
     ]
    }
   ],
   "source": [
    "# hyper parameter 지정\n",
    "params = {'metric': 'rmse', # 평가지표 = rmse\n",
    "          'num_leaves': 255,\n",
    "          'learning_rate': 0.005,\n",
    "          'feature_fraction': 0.75,\n",
    "          'bagging_fraction': 0.75,\n",
    "          'bagging_freq': 5,\n",
    "          'force_col_wise': True,\n",
    "          'random_state': 42}\n",
    "\n",
    "cat = ['shop_id', 'city_id', 'cat_id', 'main_cat', 'sub_cat', 'year','month']\n",
    "\n",
    "# 데이터 셋 지정\n",
    "train = lightgbm.Dataset(X_train, y_train)\n",
    "valid = lightgbm.Dataset(X_valid, y_valid)\n",
    " \n",
    "# 모델 훈련\n",
    "start = time.time()\n",
    "lgb_model = lightgbm.train(params=params,\n",
    "                      train_set=train,\n",
    "                      num_boost_round=1500,\n",
    "                      valid_sets=(train, valid),\n",
    "                      early_stopping_rounds=150,\n",
    "                      categorical_feature=cat,\n",
    "                      verbose_eval=100)\n",
    "end = time.time()\n",
    "print(f'소요시간(s) : {end-start}')"
   ]
  },
  {
   "cell_type": "code",
   "execution_count": 10,
   "id": "111db6c5",
   "metadata": {
    "scrolled": true
   },
   "outputs": [],
   "source": [
    "# 예측 수행\n",
    "y_pred = lgb_model.predict(X_test).clip(0, 20) # 실제 타겟값이 클립되어있으므로 동일하게 클립"
   ]
  },
  {
   "cell_type": "code",
   "execution_count": 11,
   "id": "e3e51915",
   "metadata": {},
   "outputs": [],
   "source": [
    "# 제출 파일 생성\n",
    "df_test = pd.read_csv('e:/Git_public_dodo_Riley/kaggle/Future_Sales/data/test.csv')\n",
    "submission = pd.DataFrame({\"ID\": df_test.index, \"item_cnt_month\": y_pred})\n",
    "submission.to_csv('./submission file/lgbm_submission_7.csv', index=False)"
   ]
  }
 ],
 "metadata": {
  "kernelspec": {
   "display_name": "Python 3 (ipykernel)",
   "language": "python",
   "name": "python3"
  },
  "language_info": {
   "codemirror_mode": {
    "name": "ipython",
    "version": 3
   },
   "file_extension": ".py",
   "mimetype": "text/x-python",
   "name": "python",
   "nbconvert_exporter": "python",
   "pygments_lexer": "ipython3",
   "version": "3.9.7"
  }
 },
 "nbformat": 4,
 "nbformat_minor": 5
}
